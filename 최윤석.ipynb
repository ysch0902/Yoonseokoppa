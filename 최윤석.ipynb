{
 "cells": [
  {
   "cell_type": "markdown",
   "id": "79f076b9",
   "metadata": {},
   "source": [
    "## 객관식\n",
    "\n",
    "### 1번\n",
    "\n",
    "2\n"
   ]
  },
  {
   "cell_type": "markdown",
   "id": "defafe78",
   "metadata": {},
   "source": [
    "## 2번문제\n",
    "\n",
    "3"
   ]
  },
  {
   "cell_type": "markdown",
   "id": "a4691779",
   "metadata": {},
   "source": [
    "## 3번 문제\n",
    "\n",
    "1, 3  ## 이거 왜 틀렸지..?"
   ]
  },
  {
   "cell_type": "code",
   "execution_count": 5,
   "id": "700a5b23",
   "metadata": {},
   "outputs": [
    {
     "name": "stdout",
     "output_type": "stream",
     "text": [
      "zzzddd\n"
     ]
    }
   ],
   "source": [
    "a=(\"zzz\")\n",
    "b=(\"ddd\")\n",
    "\n",
    "print(a+b)"
   ]
  },
  {
   "cell_type": "markdown",
   "id": "b93b7579",
   "metadata": {},
   "source": [
    "## 사각형의 넓이 계산"
   ]
  },
  {
   "cell_type": "code",
   "execution_count": 10,
   "id": "89ce5815",
   "metadata": {},
   "outputs": [
    {
     "name": "stdout",
     "output_type": "stream",
     "text": [
      "사각형의 폭 :4\n",
      "사각형의 높이 :5\n",
      "사각형의 넓이는 20 입니다.\n"
     ]
    }
   ],
   "source": [
    "\n",
    "square = 0\n",
    "\n",
    "width =int(input(\"사각형의 폭 :\"))\n",
    "height=int(input(\"사각형의 높이 :\"))\n",
    "\n",
    "square = width*height\n",
    "print(\"사각형의 넓이는 %s 입니다.\"%square)"
   ]
  },
  {
   "cell_type": "markdown",
   "id": "0b117330",
   "metadata": {},
   "source": [
    "## 전차 출결 시스템 만들기"
   ]
  },
  {
   "cell_type": "code",
   "execution_count": 17,
   "id": "670b35be",
   "metadata": {},
   "outputs": [
    {
     "name": "stdout",
     "output_type": "stream",
     "text": [
      "--ABC마스터 전자 출결 시스템--\n",
      "ID를 입력하세요: abc\n",
      "PW를 입력하세요: 12345678\n",
      "ID, PW를 확인하세요.\n"
     ]
    }
   ],
   "source": [
    "ID = 'abcmaster'\n",
    "PW = '12345678'\n",
    "\n",
    "print(\"--ABC마스터 전자 출결 시스템--\")\n",
    "id_check=input(\"ID를 입력하세요: \")\n",
    "pw_check=input(\"PW를 입력하세요: \")\n",
    "\n",
    "if ID == id_check and PW == pw_check:\n",
    "    print(\"정상적으로 출결 되었습니다.\")\n",
    "else:\n",
    "    print(\"ID, PW를 확인하세요.\")\n"
   ]
  },
  {
   "cell_type": "markdown",
   "id": "772836e7",
   "metadata": {},
   "source": [
    "## 성적 평가 시스템 만들기"
   ]
  },
  {
   "cell_type": "code",
   "execution_count": 10,
   "id": "c5159b53",
   "metadata": {},
   "outputs": [
    {
     "name": "stdout",
     "output_type": "stream",
     "text": [
      "성적입력(100점 단위): \n",
      "출석 점수: 77\n",
      "과제 점수: 60\n",
      "중간 고사: 80\n",
      "기말 프로젝트: 99\n",
      "81.4\n"
     ]
    }
   ],
   "source": [
    "print(\"성적입력(100점 단위): \")\n",
    "\n",
    "attend = int(input(\"출석 점수: \"))\n",
    "project = int(input(\"과제 점수: \"))\n",
    "middle = int(input(\"중간 고사: \"))\n",
    "final = int(input(\"기말 프로젝트: \"))\n",
    "\n",
    "sco_att = attend*0.1\n",
    "sco_pro = project*0.2\n",
    "sco_mid = middle*0.4\n",
    "sco_fin = final*0.3\n",
    "\n",
    "#print(sco_att)\n",
    "#print(sco_pro)\n",
    "#print(sco_mid)\n",
    "#print(sco_fin)\n",
    "\n",
    "total = sco_att + sco_pro + sco_mid + sco_fin\n",
    "print(total)\n",
    "\n",
    "\n",
    "if attend < 50:\n",
    "    print(\"F학점\")\n",
    "elif total > 90:\n",
    "    print(\"A학점\")\n",
    "elif 80 < total < 90  and attend < 50:\n",
    "    print(\"B학점\")\n",
    "elif 70 < total < 80  and attend < 50:\n",
    "    print(\"C학점\")\n",
    "elif 60 < total < 70  and attend < 50:\n",
    "    print(\"D학점\")\n",
    "elif total < 60  and attend < 50:\n",
    "    print(\"F학점\")\n"
   ]
  },
  {
   "cell_type": "code",
   "execution_count": 7,
   "id": "72b1e59d",
   "metadata": {},
   "outputs": [
    {
     "name": "stdout",
     "output_type": "stream",
     "text": [
      "성적입력(100점 단위): \n",
      "출석 점수: 70\n",
      "과제 점수: 68\n",
      "중간 고사: 94\n",
      "기말 프로젝트: 77\n",
      "총점:81.30\n",
      "B학점\n"
     ]
    }
   ],
   "source": [
    "print(\"성적입력(100점 단위): \")\n",
    "\n",
    "absent = int(input(\"출석 점수: \"))\n",
    "homework = int(input(\"과제 점수: \"))\n",
    "mid_term = int(input(\"중간 고사: \"))\n",
    "final_project = int(input(\"기말 프로젝트: \"))\n",
    "\n",
    "total=(absent*0.1) + (homework*0.2) + (mid_term*0.4) + (final_project*0.3)\n",
    "\n",
    "if absent < 50:\n",
    "    grade = \"F\"\n",
    "else:\n",
    "    if total >= 90:\n",
    "        grade = \"A\"\n",
    "    elif total >= 80:\n",
    "        grade = \"B\"\n",
    "    elif total >= 70:\n",
    "        grade = \"C\"\n",
    "    elif total >= 60:\n",
    "        grade = \"D\"\n",
    "    else:\n",
    "        grade = \"F\"\n",
    "        \n",
    "print(\"총점:%.2f\"%total)\n",
    "print(\"%s학점\"%grade)"
   ]
  },
  {
   "cell_type": "markdown",
   "id": "1250e3ca",
   "metadata": {},
   "source": [
    "## 정렬 및 배수 출력"
   ]
  },
  {
   "cell_type": "code",
   "execution_count": 114,
   "id": "382f34d9",
   "metadata": {},
   "outputs": [
    {
     "name": "stdout",
     "output_type": "stream",
     "text": [
      "[12, 30, 37, 39, 58, 65, 90, 91, 96, 100]\n",
      "[12, 30, 39, 90, 96]\n"
     ]
    }
   ],
   "source": [
    "import random\n",
    "\n",
    "my_num = []\n",
    "multiOf3 = []\n",
    "\n",
    "while True:\n",
    "    num = random.randint(1, 100)\n",
    "    if num not in my_num:\n",
    "        my_num.append(num)\n",
    "    if len(my_num) == 10: break\n",
    "        \n",
    "my_num.sort()\n",
    "print(my_num)\n",
    "\n",
    "for x in my_num:\n",
    "    if not x % 3:\n",
    "        multiOf3.append(x)\n",
    "\n",
    "print(multiOf3)\n"
   ]
  },
  {
   "cell_type": "markdown",
   "id": "de1dbb58",
   "metadata": {},
   "source": [
    "## 딕셔너리 변경"
   ]
  },
  {
   "cell_type": "code",
   "execution_count": 132,
   "id": "13c77c43",
   "metadata": {},
   "outputs": [
    {
     "name": "stdout",
     "output_type": "stream",
     "text": [
      "{'서울': '02', '경기': '031', '강원': '033', '충남': '041', '충북': '043', '경북': '054', '경남': '', '': '055', '전남': '061', '전북': '063'}\n"
     ]
    }
   ],
   "source": [
    "phone = \"서울 02 ~경기 031 ~강원 033 ~충남 041 ~충북 043 ~경북 054 ~경남 ~ 055 ~전남 061 ~전북 063 \"\n",
    "keys = []\n",
    "values = []\n",
    "\n",
    "data_list = phone.split(\"~\")\n",
    "\n",
    "# print(data_list)\n",
    "\n",
    "    \n",
    "for data in data_list:\n",
    "    x = data.split(\" \")\n",
    "    keys.append(x[0])\n",
    "    values.append(x[1])\n",
    "    \n",
    "# print(keys)\n",
    "# print(values)\n",
    "\n",
    "my_dic = dict(zip(keys, values))\n",
    "print(my_dic)"
   ]
  },
  {
   "cell_type": "code",
   "execution_count": 13,
   "id": "72c3d077",
   "metadata": {},
   "outputs": [
    {
     "ename": "IndexError",
     "evalue": "list index out of range",
     "output_type": "error",
     "traceback": [
      "\u001b[1;31m---------------------------------------------------------------------------\u001b[0m",
      "\u001b[1;31mIndexError\u001b[0m                                Traceback (most recent call last)",
      "\u001b[1;32m~\\AppData\\Local\\Temp/ipykernel_620/2797752327.py\u001b[0m in \u001b[0;36m<module>\u001b[1;34m\u001b[0m\n\u001b[0;32m      2\u001b[0m \u001b[1;33m\u001b[0m\u001b[0m\n\u001b[0;32m      3\u001b[0m \u001b[0msplit_phone\u001b[0m \u001b[1;33m=\u001b[0m \u001b[0mphone\u001b[0m\u001b[1;33m.\u001b[0m\u001b[0msplit\u001b[0m\u001b[1;33m(\u001b[0m\u001b[1;34m\"~\"\u001b[0m\u001b[1;33m)\u001b[0m\u001b[1;33m\u001b[0m\u001b[1;33m\u001b[0m\u001b[0m\n\u001b[1;32m----> 4\u001b[1;33m \u001b[0mmydic\u001b[0m \u001b[1;33m=\u001b[0m \u001b[1;33m{\u001b[0m\u001b[0ms\u001b[0m\u001b[1;33m.\u001b[0m\u001b[0msplit\u001b[0m\u001b[1;33m(\u001b[0m\u001b[1;33m)\u001b[0m\u001b[1;33m[\u001b[0m\u001b[1;36m0\u001b[0m\u001b[1;33m]\u001b[0m\u001b[1;33m:\u001b[0m\u001b[0ms\u001b[0m\u001b[1;33m.\u001b[0m\u001b[0msplit\u001b[0m\u001b[1;33m(\u001b[0m\u001b[1;33m)\u001b[0m\u001b[1;33m[\u001b[0m\u001b[1;36m1\u001b[0m\u001b[1;33m]\u001b[0m \u001b[1;32mfor\u001b[0m \u001b[0ms\u001b[0m \u001b[1;32min\u001b[0m \u001b[0msplit_phone\u001b[0m\u001b[1;33m}\u001b[0m\u001b[1;33m\u001b[0m\u001b[1;33m\u001b[0m\u001b[0m\n\u001b[0m\u001b[0;32m      5\u001b[0m \u001b[1;33m\u001b[0m\u001b[0m\n\u001b[0;32m      6\u001b[0m \u001b[0mprint\u001b[0m\u001b[1;33m(\u001b[0m\u001b[0mmydic\u001b[0m\u001b[1;33m)\u001b[0m\u001b[1;33m\u001b[0m\u001b[1;33m\u001b[0m\u001b[0m\n",
      "\u001b[1;32m~\\AppData\\Local\\Temp/ipykernel_620/2797752327.py\u001b[0m in \u001b[0;36m<dictcomp>\u001b[1;34m(.0)\u001b[0m\n\u001b[0;32m      2\u001b[0m \u001b[1;33m\u001b[0m\u001b[0m\n\u001b[0;32m      3\u001b[0m \u001b[0msplit_phone\u001b[0m \u001b[1;33m=\u001b[0m \u001b[0mphone\u001b[0m\u001b[1;33m.\u001b[0m\u001b[0msplit\u001b[0m\u001b[1;33m(\u001b[0m\u001b[1;34m\"~\"\u001b[0m\u001b[1;33m)\u001b[0m\u001b[1;33m\u001b[0m\u001b[1;33m\u001b[0m\u001b[0m\n\u001b[1;32m----> 4\u001b[1;33m \u001b[0mmydic\u001b[0m \u001b[1;33m=\u001b[0m \u001b[1;33m{\u001b[0m\u001b[0ms\u001b[0m\u001b[1;33m.\u001b[0m\u001b[0msplit\u001b[0m\u001b[1;33m(\u001b[0m\u001b[1;33m)\u001b[0m\u001b[1;33m[\u001b[0m\u001b[1;36m0\u001b[0m\u001b[1;33m]\u001b[0m\u001b[1;33m:\u001b[0m\u001b[0ms\u001b[0m\u001b[1;33m.\u001b[0m\u001b[0msplit\u001b[0m\u001b[1;33m(\u001b[0m\u001b[1;33m)\u001b[0m\u001b[1;33m[\u001b[0m\u001b[1;36m1\u001b[0m\u001b[1;33m]\u001b[0m \u001b[1;32mfor\u001b[0m \u001b[0ms\u001b[0m \u001b[1;32min\u001b[0m \u001b[0msplit_phone\u001b[0m\u001b[1;33m}\u001b[0m\u001b[1;33m\u001b[0m\u001b[1;33m\u001b[0m\u001b[0m\n\u001b[0m\u001b[0;32m      5\u001b[0m \u001b[1;33m\u001b[0m\u001b[0m\n\u001b[0;32m      6\u001b[0m \u001b[0mprint\u001b[0m\u001b[1;33m(\u001b[0m\u001b[0mmydic\u001b[0m\u001b[1;33m)\u001b[0m\u001b[1;33m\u001b[0m\u001b[1;33m\u001b[0m\u001b[0m\n",
      "\u001b[1;31mIndexError\u001b[0m: list index out of range"
     ]
    }
   ],
   "source": [
    "phone = \"서울 02 ~경기 031 ~강원 033 ~충남 041 ~충북 043 ~경북 054 ~경남 ~ 055 ~전남 061 ~전북 063 \"\n",
    "\n",
    "split_phone = phone.split(\"~\")\n",
    "mydic = {s.split()[0]:s.split()[1] for s in split_phone}\n",
    "\n",
    "print(mydic)"
   ]
  },
  {
   "cell_type": "markdown",
   "id": "f0a5ec53",
   "metadata": {},
   "source": [
    "## domain"
   ]
  },
  {
   "cell_type": "code",
   "execution_count": 138,
   "id": "4a7f9ee9",
   "metadata": {},
   "outputs": [
    {
     "name": "stdout",
     "output_type": "stream",
     "text": [
      "도메인 입력: naver.kr\n",
      "한국 도메인 입니다.\n"
     ]
    }
   ],
   "source": [
    "my_domain = input(\"도메인 입력: \")\n",
    "\n",
    "if \".kr\" not in my_domain:\n",
    "    print(\"한국 도메인이 아닙니다.\")\n",
    "else:\n",
    "    print(\"한국 도메인 입니다.\")\n",
    "    "
   ]
  },
  {
   "cell_type": "code",
   "execution_count": 15,
   "id": "bc322e5f",
   "metadata": {},
   "outputs": [
    {
     "name": "stdout",
     "output_type": "stream",
     "text": [
      "한국 도메인\n"
     ]
    }
   ],
   "source": [
    "domain = \"www.naver.kr\"\n",
    "\n",
    "if domain [-2:] == \"kr\":\n",
    "    print(\"한국 도메인\")\n",
    "else:\n",
    "    print(\"한국 도메인 아님\")"
   ]
  },
  {
   "cell_type": "markdown",
   "id": "d8bc90d9",
   "metadata": {},
   "source": [
    "## list comprehension"
   ]
  },
  {
   "cell_type": "code",
   "execution_count": 139,
   "id": "7712d27c",
   "metadata": {},
   "outputs": [
    {
     "name": "stdout",
     "output_type": "stream",
     "text": [
      "[2, 4, 6, 8, 10, 12, 14, 16, 18, 20, 22, 24, 26, 28, 30, 32, 34, 36, 38, 40, 42, 44, 46, 48, 50, 52, 54, 56, 58, 60, 62, 64, 66, 68, 70, 72, 74, 76, 78, 80, 82, 84, 86, 88, 90, 92, 94, 96, 98, 100]\n"
     ]
    }
   ],
   "source": [
    "x = [i for i in range(1,101) if not i%2]\n",
    "print(x)"
   ]
  },
  {
   "cell_type": "markdown",
   "id": "dfa2c946",
   "metadata": {},
   "source": [
    "## price"
   ]
  },
  {
   "cell_type": "code",
   "execution_count": 146,
   "id": "c9ea3f17",
   "metadata": {},
   "outputs": [
    {
     "name": "stdout",
     "output_type": "stream",
     "text": [
      "[8000.0, 40000.0, 38400.0, 17600.0, 128000.0]\n"
     ]
    }
   ],
   "source": [
    "price = [10000, 50000, 48000, 22000, 160000]\n",
    "\n",
    "sale = list(map(lambda x:x*0.8, price))\n",
    "\n",
    "print(sale)"
   ]
  },
  {
   "cell_type": "code",
   "execution_count": 16,
   "id": "a348e0c2",
   "metadata": {},
   "outputs": [
    {
     "name": "stdout",
     "output_type": "stream",
     "text": [
      "531.20\n",
      "3644.80\n",
      "276.00\n",
      "692.00\n",
      "1893.60\n"
     ]
    }
   ],
   "source": [
    "price = [664, 4556, 345, 865, 2367]\n",
    "\n",
    "for sale_price in map(lambda x:x*0.8, price):\n",
    "    print(\"%.2f\"%sale_price)"
   ]
  },
  {
   "cell_type": "markdown",
   "id": "7f01eb13",
   "metadata": {},
   "source": [
    "## 평균과 10 이상 차이나는 값"
   ]
  },
  {
   "cell_type": "code",
   "execution_count": 18,
   "id": "6ce1d7b2",
   "metadata": {},
   "outputs": [
    {
     "name": "stdout",
     "output_type": "stream",
     "text": [
      "값[0]: 23\n",
      "값[1]: 45\n",
      "값[2]: 12\n",
      "값[3]: 6\n",
      "값[4]: 9\n",
      "값[5]: -23\n",
      "값[6]: -11\n",
      "값[7]: 25\n",
      "값[8]: 8\n",
      "값[9]: 28\n",
      "평균: 12.2\n",
      "[23, 45, -23, -11, 25, 28]\n"
     ]
    }
   ],
   "source": [
    "mynum = []\n",
    "result = []\n",
    "i = 0\n",
    "\n",
    "while i < 10:\n",
    "    for z in range(10):\n",
    "        mynum.append(int(input(\"값[%s]: \"%z)))\n",
    "        i = i+1\n",
    "        \n",
    "# print(mynum)\n",
    "total = sum(mynum)\n",
    "avg = total / len(mynum)\n",
    "print(\"평균: %s\"%avg)\n",
    "\n",
    "for x in range(len(mynum)):\n",
    "    if avg+10 < mynum[x]:\n",
    "        result.append(mynum[x])\n",
    "    elif avg-10 > mynum[x]:\n",
    "        result.append(mynum[x])\n",
    "print(result)\n",
    "# print(\"평균과 10 이상 차이나는 수: %s\" %result)"
   ]
  },
  {
   "cell_type": "code",
   "execution_count": 17,
   "id": "0336f414",
   "metadata": {},
   "outputs": [
    {
     "name": "stdout",
     "output_type": "stream",
     "text": [
      "값[1]: 23\n",
      "값[2]: 45\n",
      "값[3]: 12\n",
      "값[4]: 6\n",
      "값[5]: 9\n",
      "값[6]: -23\n",
      "값[7]: -11\n",
      "값[8]: 25\n",
      "값[9]: 8\n",
      "값[10]: 28\n",
      "평균:12.20\n",
      "평균과 10 이상 차이나는 수: 23 45 -23 -11 25 28 "
     ]
    }
   ],
   "source": [
    "nums = []\n",
    "\n",
    "for i in range(1,11):\n",
    "    nums.append(int(input(\"값[%d]: \"%i)))\n",
    "    \n",
    "average = sum(nums) / len(nums)\n",
    "print(\"평균:%.2f\"%average)\n",
    "print(\"평균과 10 이상 차이나는 수: \", end=\"\")\n",
    "\n",
    "for n in nums:\n",
    "    if n-average <- 10 or n-average >= 10:\n",
    "        print(n,end=\" \")"
   ]
  },
  {
   "cell_type": "markdown",
   "id": "eaf52762",
   "metadata": {},
   "source": [
    "## 리스트 원소 정렬하기"
   ]
  },
  {
   "cell_type": "code",
   "execution_count": 14,
   "id": "f21d7a19",
   "metadata": {},
   "outputs": [
    {
     "name": "stdout",
     "output_type": "stream",
     "text": [
      "정렬 전:  [70, 9, 79, 6, 4, 51, 96, 49, 89, 68]\n",
      "정렬 후:  [4, 6, 9, 49, 51, 68, 70, 79, 89, 96]\n"
     ]
    }
   ],
   "source": [
    "import random\n",
    "\n",
    "my_list = []\n",
    "max = 0\n",
    "my_result = []\n",
    "\n",
    "while True:\n",
    "    num = random.randint(1, 100)\n",
    "    if num not in my_list:\n",
    "        my_list.append(num)\n",
    "    if len(my_list) == 10: break\n",
    "        \n",
    "print(\"정렬 전: \", my_list)\n",
    "\n",
    "        \n",
    "for z in range(len(my_list)):\n",
    "    y = len(my_list) - z\n",
    "    for i in range(1, y):\n",
    "        if my_list[i-1] >= my_list[i]:\n",
    "            result = my_list[i-1]\n",
    "            my_list[i-1] = my_list[i]\n",
    "            my_list[i] = result\n",
    "        \n",
    "print(\"정렬 후: \", my_list)"
   ]
  },
  {
   "cell_type": "code",
   "execution_count": 21,
   "id": "e4105230",
   "metadata": {},
   "outputs": [
    {
     "name": "stdout",
     "output_type": "stream",
     "text": [
      "정렬 전:  [86, 41, 82, 55, 39, 22, 59, 39, 38, 83]\n",
      "정렬 후:  [22, 38, 39, 39, 41, 55, 59, 82, 83, 86]\n"
     ]
    }
   ],
   "source": [
    "import random\n",
    "\n",
    "nums = [random.randint(1,99) for i in range(10)]\n",
    "print(\"정렬 전: \", nums)\n",
    "\n",
    "# 교환정렬\n",
    "for i in range(9):\n",
    "    for j in range(i+1, 10):\n",
    "        if nums[i]> nums[j]:\n",
    "            temp = nums[i]\n",
    "            nums[i] = nums[j]\n",
    "            nums[j] = temp\n",
    "            \n",
    "print(\"정렬 후: \", nums)"
   ]
  },
  {
   "cell_type": "markdown",
   "id": "47747e9a",
   "metadata": {},
   "source": [
    "## 날짜 수 구하기"
   ]
  },
  {
   "cell_type": "code",
   "execution_count": 21,
   "id": "fac7d839",
   "metadata": {},
   "outputs": [
    {
     "name": "stdout",
     "output_type": "stream",
     "text": [
      "연도 : 2018\n",
      "월 : 9\n",
      "일 : 7\n",
      "279\n"
     ]
    }
   ],
   "source": [
    "daysInMonth = [31,28,31,30,31,30,31,31,30,31,30,31]\n",
    "leapMonth = [31,29,31,30,31,30,31,31,30,31,30,31]\n",
    "leapYear = False\n",
    "\n",
    "year = int(input(\"연도 : \"))\n",
    "month = int(input(\"월 : \"))\n",
    "date = int(input(\"일 : \"))\n",
    "days = 0\n",
    "\n",
    "if (year % 4 == 0 and year % 100 != 0) or year % 400 == 0:\n",
    "    leapYear = True\n",
    "\n",
    "\n",
    "for i in range(month):\n",
    "    days += 31\n",
    "\n",
    "    if leapYear == True:\n",
    "        if date >= leapMonth[month-1]:\n",
    "            date = date - leapMonth[month-1]\n",
    "            month += 1\n",
    "            days = days-6\n",
    "    else:\n",
    "        if date >= daysInMonth[month-1]:\n",
    "            date = date - daysInMonth[month-1]\n",
    "            month += 1\n",
    "            days = days- 7\n",
    "\n",
    "    if month > 12:\n",
    "        month = 1\n",
    "        year += 1\n",
    "\n",
    "        if (year % 4 == 0 and year % 100 != 0) or year % 400 == 0:\n",
    "            leapYear = True\n",
    "        else:\n",
    "            leapYear = False\n",
    "\n",
    "\n",
    "print(days)\n",
    "\n"
   ]
  },
  {
   "cell_type": "code",
   "execution_count": 22,
   "id": "10fb0720",
   "metadata": {},
   "outputs": [
    {
     "name": "stdout",
     "output_type": "stream",
     "text": [
      "연도: 2022\n",
      "월: 4\n",
      "연도: 18\n",
      "1년 1월 1일 ~ 2022년 4월 18일까지는 총 738263입니다\n"
     ]
    }
   ],
   "source": [
    "daysInMonth = [31,28,31,30,31,30,31,31,30,31,30,31]\n",
    "\n",
    "def isLeapYear(year):\n",
    "    return(not year % 4 and year % 100) or not year % 400\n",
    "\n",
    "year = int(input(\"연도: \"))\n",
    "month = int(input(\"월: \"))\n",
    "day = int(input(\"연도: \"))\n",
    "\n",
    "total = 0\n",
    "\n",
    "# 작년\n",
    "for i in range(1,year):\n",
    "    if isLeapYear(i):\n",
    "        total += 366\n",
    "    else:\n",
    "        total += 365\n",
    "        \n",
    "# 전월\n",
    "for i in range(month-1):\n",
    "    total += daysInMonth[i]\n",
    "    \n",
    "# 해당날짜 더하기\n",
    "total += day\n",
    "\n",
    "# 확인하고자 하는 해가 윤년이고 3월 이후이면 1일 더하기\n",
    "if isLeapYear(year) and month > 2:\n",
    "    total += 1\n",
    "\n",
    "print(\"1년 1월 1일 ~ %d년 %d월 %d일까지는 총 %d입니다\"%(year, month, day, total))"
   ]
  },
  {
   "cell_type": "markdown",
   "id": "87e0235e",
   "metadata": {},
   "source": [
    "## 리스트에 저장된 숫자 맞추기"
   ]
  },
  {
   "cell_type": "code",
   "execution_count": null,
   "id": "7b398fd1",
   "metadata": {},
   "outputs": [
    {
     "name": "stdout",
     "output_type": "stream",
     "text": [
      "[12, 6, 13, 7, 3]\n",
      "|X|X|X|X|X|\n",
      "X위치의 숫자를 맞혀보세요: 12\n",
      "정답입니다\n",
      "|X|X|X|X|X|\n"
     ]
    }
   ],
   "source": [
    "import random\n",
    "al = 0\n",
    "count = 0\n",
    "\n",
    "my_number = []\n",
    "\n",
    "while True:\n",
    "    num = random.randint(1, 20)\n",
    "    if num not in my_number:\n",
    "        my_number.append(num)\n",
    "    if len(my_number) == 5: break\n",
    "\n",
    "print(my_number)\n",
    "\n",
    "\n",
    "while True:\n",
    "    print(\"|X|X|X|X|X|\")\n",
    "    count +=1\n",
    "    \n",
    "    choice = int(input(\"X위치의 숫자를 맞혀보세요: \"))\n",
    "    for x in range(len(my_number)):\n",
    "        for j in range(1):\n",
    "            if my_number[x] == choice:\n",
    "                print(\"정답입니다\")\n",
    "                my_number[x] = choice\n",
    "           \n",
    "            elif my_number[x] != choice:\n",
    "                print(\"없는 숫자입니다\")\n",
    "                \n",
    "        if \"X\" not in my_number:\n",
    "            break"
   ]
  },
  {
   "cell_type": "code",
   "execution_count": 30,
   "id": "dc7d3a5a",
   "metadata": {},
   "outputs": [
    {
     "name": "stdout",
     "output_type": "stream",
     "text": [
      "[13, 19, 14, 2, 17]\n",
      "|X|X|X|X|X|\n",
      ">> X 위치의 숫자를 맞혀보세요: 13\n",
      "정답입니다.\n",
      "|13|X|X|X|X|\n",
      ">> X 위치의 숫자를 맞혀보세요: 19\n",
      "정답입니다.\n",
      "|13|19|X|X|X|\n",
      ">> X 위치의 숫자를 맞혀보세요: 14\n",
      "정답입니다.\n",
      "|13|19|14|X|X|\n",
      ">> X 위치의 숫자를 맞혀보세요: 2\n",
      "정답입니다.\n",
      "|13|19|14|2|X|\n",
      ">> X 위치의 숫자를 맞혀보세요: 14\n",
      "정답입니다.\n",
      "|13|19|14|2|X|\n",
      ">> X 위치의 숫자를 맞혀보세요: 13\n",
      "정답입니다.\n",
      "|13|19|14|2|X|\n",
      ">> X 위치의 숫자를 맞혀보세요: 15\n",
      "없는 숫자입니다.\n",
      "|13|19|14|2|X|\n",
      ">> X 위치의 숫자를 맞혀보세요: 17\n",
      "정답입니다.\n",
      "8회만에 성공\n"
     ]
    }
   ],
   "source": [
    "import random\n",
    "\n",
    "nums = []\n",
    "while True:\n",
    "    num = random.randint(1,20)\n",
    "    if num not in nums:\n",
    "        nums.append(num)\n",
    "    if len(nums) == 5: break\n",
    "        \n",
    "print(nums)\n",
    "\n",
    "mark = [\"X\" for i in range(5)]\n",
    "\n",
    "count = 0\n",
    "while True:\n",
    "    count += 1\n",
    "    print(\"|\", end=\"\")\n",
    "    for m in mark:\n",
    "        print(\"%s|\"%m, end=\"\")\n",
    "    \n",
    "    user_input = int(input(\"\\n>> X 위치의 숫자를 맞혀보세요: \"))\n",
    "    \n",
    "    find = False\n",
    "    for i, num in enumerate(nums):\n",
    "        if num == user_input:\n",
    "            print(\"정답입니다.\")\n",
    "            mark[i] = num\n",
    "            find = True\n",
    "            break\n",
    "            \n",
    "    if not find: print(\"없는 숫자입니다.\")\n",
    "        \n",
    "    if mark.count(\"X\") == 0: break\n",
    "        \n",
    "print(\"%d회만에 성공\"%count)"
   ]
  }
 ],
 "metadata": {
  "kernelspec": {
   "display_name": "Python 3 (ipykernel)",
   "language": "python",
   "name": "python3"
  },
  "language_info": {
   "codemirror_mode": {
    "name": "ipython",
    "version": 3
   },
   "file_extension": ".py",
   "mimetype": "text/x-python",
   "name": "python",
   "nbconvert_exporter": "python",
   "pygments_lexer": "ipython3",
   "version": "3.9.7"
  },
  "toc": {
   "base_numbering": 1,
   "nav_menu": {},
   "number_sections": true,
   "sideBar": true,
   "skip_h1_title": false,
   "title_cell": "Table of Contents",
   "title_sidebar": "Contents",
   "toc_cell": false,
   "toc_position": {},
   "toc_section_display": true,
   "toc_window_display": true
  }
 },
 "nbformat": 4,
 "nbformat_minor": 5
}
