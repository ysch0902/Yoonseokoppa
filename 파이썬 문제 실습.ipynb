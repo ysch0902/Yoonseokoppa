{
 "cells": [
  {
   "cell_type": "markdown",
   "id": "d5cfe2da",
   "metadata": {},
   "source": [
    "# [문제-1] 문자열을 구성하는 문자의 수 세기\n",
    "<pre>\n",
    "사용자로부터 임의의 문자열을 입력 받아 해당 문자열을 구성하는 문자들 및 각 문자의 개수를 출력하는 코드를 작성하시오.\n",
    "\n",
    "예시)\n",
    "    입력 : 가가가bbbccc#\n",
    "    출력 : 가3b4c2#1\n",
    "\n",
    "힌트) Dictionary 객체를 이용할것"
   ]
  },
  {
   "cell_type": "code",
   "execution_count": 261,
   "id": "7e4b42a2",
   "metadata": {},
   "outputs": [
    {
     "name": "stdout",
     "output_type": "stream",
     "text": [
      "입력 : 가가가bbbccc#\n",
      "{'가': 3, 'b': 3, 'c': 3, '#': 1}\n"
     ]
    }
   ],
   "source": [
    "# 내 버전\n",
    "\n",
    "a = input(\"입력 : \")\n",
    "\n",
    "# a = a.split()\n",
    "b = {}\n",
    "\n",
    "for x in a:\n",
    "    b[x] = b.get(x, 0)+1\n",
    "\n",
    "print(b)\n",
    "\n",
    "c = list(b.keys())\n",
    "d = list(b.values())\n",
    "\n",
    "# print(c,d)"
   ]
  },
  {
   "cell_type": "code",
   "execution_count": 272,
   "id": "200803ac",
   "metadata": {},
   "outputs": [
    {
     "name": "stdout",
     "output_type": "stream",
     "text": [
      "입력: 가가가bbbccc#\n",
      "출력:  가3b3c3#1"
     ]
    }
   ],
   "source": [
    "# 쌤 버전 - 1\n",
    "\n",
    "str = input(\"입력: \")\n",
    "mydic = {}\n",
    "for s in str:\n",
    "    if mydic.get(s) != None:\n",
    "        mydic[s] = mydic.get(s)+1\n",
    "    else:\n",
    "        mydic[s] = 1\n",
    "        \n",
    "keys = mydic.keys()\n",
    "print(\"출력: \", end=\" \")\n",
    "for k in keys:\n",
    "    print(k, mydic[k], sep=\"\", end=\"\")"
   ]
  },
  {
   "cell_type": "code",
   "execution_count": 41,
   "id": "3e400144",
   "metadata": {},
   "outputs": [
    {
     "name": "stdout",
     "output_type": "stream",
     "text": [
      "입력: 가가가bbbccc#\n",
      "가3b3c3#1"
     ]
    }
   ],
   "source": [
    "# 쌤 버전 - 2\n",
    "\n",
    "str = input(\"입력: \")\n",
    "\n",
    "mydic = {s:str.count(s) for s in str} \n",
    "# dictionary comprehension : {키 표현식 : 값 표현식 for문} \n",
    "# 키 표현식 = s(글자), 값 표현식 = 변수(str)의 count 값\n",
    "\n",
    "for k,v in mydic.items():  # items = key와 value를 튜플의 형태로 한번에 받아오는 함수\n",
    "    print(k,v, sep=\"\", end=\"\")"
   ]
  },
  {
   "cell_type": "markdown",
   "id": "61abbc58",
   "metadata": {},
   "source": [
    "# [문제-2] 분리한 문자열의 첫 번째 문자 출력하기\n",
    "\n",
    "<pre>\n",
    "사용자로부터 임의의 문자열을 입력 받아 공백을 기준으로 분리한 후, 분리된 문자열의 첫 번째 글자만 모아서 출력하는 코드를 작성하시오\n",
    "</pre>\n",
    "\n",
    "예시)\n",
    "    입력: ABC DEF GHI\n",
    "    출력: A D G"
   ]
  },
  {
   "cell_type": "code",
   "execution_count": 286,
   "id": "9bafeea8",
   "metadata": {},
   "outputs": [
    {
     "name": "stdout",
     "output_type": "stream",
     "text": [
      "입력 : ABC DEF GHI\n",
      "['ABC', 'DEF', 'GHI']\n",
      "A,D,G\n"
     ]
    }
   ],
   "source": [
    "a = input(\"입력 : \")\n",
    "\n",
    "a = a.split()\n",
    "\n",
    "print(a)\n",
    "\n",
    "for x in a:\n",
    "  print(x[0], end=\",\")\n",
    "\n",
    "print(\"\\b\")"
   ]
  },
  {
   "cell_type": "code",
   "execution_count": 71,
   "id": "4f7abc24",
   "metadata": {},
   "outputs": [
    {
     "name": "stdout",
     "output_type": "stream",
     "text": [
      "입력 : ABC DEF GHI\n",
      "['ABC', 'DEF', 'GHI']\n",
      "A,D,G\n"
     ]
    }
   ],
   "source": [
    "# 쌤 버전\n",
    "\n",
    "str = input(\"입력 : \")\n",
    "\n",
    "slice_str = str.split()\n",
    "print(slice_str)\n",
    "\n",
    "for s in slice_str:\n",
    "    print(s[0], end=\",\")\n",
    "\n",
    "print(\"\\b\")\n",
    "\n",
    "# sep = 하나의 print()문 안에서 여러개의 문자를 사용할 때 사용\n",
    "# \\b = 프린트할 문장?의 제일 마지막 단어 제외 후 출력"
   ]
  },
  {
   "cell_type": "markdown",
   "id": "7a8e63bb",
   "metadata": {},
   "source": [
    "# [문제-3] 순차적으로 문자열 변환하기\n",
    "\n",
    "<pre>\n",
    "사용자로부터 임의의 문자열을 입력 받아 가장 마지막 문자부터 \"#\"으로 하나씩 변환해가며 출력하는 코드를 작성하시오.\n",
    "\n",
    "예시)\n",
    "    입력: AbcdEf\n",
    "    출력:\n",
    "        AbcdE#\n",
    "        Abcd##\n",
    "        Abc##\n",
    "        Ab###\n",
    "        A####\n",
    "        ####\n",
    "        \n",
    " 힌트) 문자열 반복과 슬라이싱 이용"
   ]
  },
  {
   "cell_type": "code",
   "execution_count": 106,
   "id": "dd751f75",
   "metadata": {},
   "outputs": [
    {
     "name": "stdout",
     "output_type": "stream",
     "text": [
      "입력 : AbcdEf\n"
     ]
    },
    {
     "ename": "TypeError",
     "evalue": "unsupported operand type(s) for -: 'int' and 'str'",
     "output_type": "error",
     "traceback": [
      "\u001b[1;31m---------------------------------------------------------------------------\u001b[0m",
      "\u001b[1;31mTypeError\u001b[0m                                 Traceback (most recent call last)",
      "\u001b[1;32m~\\AppData\\Local\\Temp/ipykernel_11948/3711184587.py\u001b[0m in \u001b[0;36m<module>\u001b[1;34m\u001b[0m\n\u001b[0;32m      9\u001b[0m \u001b[1;33m\u001b[0m\u001b[0m\n\u001b[0;32m     10\u001b[0m \u001b[1;32mfor\u001b[0m \u001b[0mx\u001b[0m \u001b[1;32min\u001b[0m \u001b[0ma\u001b[0m\u001b[1;33m:\u001b[0m\u001b[1;33m\u001b[0m\u001b[1;33m\u001b[0m\u001b[0m\n\u001b[1;32m---> 11\u001b[1;33m     \u001b[0mx\u001b[0m \u001b[1;33m=\u001b[0m \u001b[0mx\u001b[0m\u001b[1;33m[\u001b[0m\u001b[1;36m0\u001b[0m\u001b[1;33m:\u001b[0m\u001b[0mlen\u001b[0m\u001b[1;33m(\u001b[0m\u001b[0mx\u001b[0m\u001b[1;33m)\u001b[0m\u001b[1;33m-\u001b[0m\u001b[0mx\u001b[0m\u001b[1;33m]\u001b[0m\u001b[1;33m\u001b[0m\u001b[1;33m\u001b[0m\u001b[0m\n\u001b[0m\u001b[0;32m     12\u001b[0m \u001b[0mprint\u001b[0m\u001b[1;33m(\u001b[0m\u001b[0mx\u001b[0m\u001b[1;33m)\u001b[0m\u001b[1;33m\u001b[0m\u001b[1;33m\u001b[0m\u001b[0m\n",
      "\u001b[1;31mTypeError\u001b[0m: unsupported operand type(s) for -: 'int' and 'str'"
     ]
    }
   ],
   "source": [
    "a = input(\"입력 : \")\n",
    "\n",
    "# print(a*5,end=\"\\n\")\n",
    "\n",
    "\n",
    "\n",
    "# a = a.replace([-1], '#')\n",
    "\n",
    "\n",
    "for x in a:\n",
    "    x = x[0:len(x)-x]\n",
    "print(x)"
   ]
  },
  {
   "cell_type": "code",
   "execution_count": 292,
   "id": "07046c02",
   "metadata": {},
   "outputs": [
    {
     "name": "stdout",
     "output_type": "stream",
     "text": [
      "입력 : abcdef\n",
      "abcdef#\n",
      "abcde##\n",
      "abcd###\n",
      "abc####\n",
      "ab#####\n",
      "a######\n"
     ]
    }
   ],
   "source": [
    "str = input(\"입력 : \")\n",
    "\n",
    "for x in range(len(str)):\n",
    "    print(str[0:len(str)-(x)] + (\"#\"*(x+1)))"
   ]
  },
  {
   "cell_type": "code",
   "execution_count": 112,
   "id": "63ae6a2d",
   "metadata": {},
   "outputs": [
    {
     "name": "stdout",
     "output_type": "stream",
     "text": [
      "입력 : AbcdEf\n",
      "AbcdE#\n",
      "Abcd##\n",
      "Abc###\n",
      "Ab####\n",
      "A#####\n",
      "######\n"
     ]
    }
   ],
   "source": [
    "# 쌤 버전\n",
    "\n",
    "str = input(\"입력 : \")\n",
    "\n",
    "for x in range(len(str)):\n",
    "    print(str[0:len(str)-(x+1)] + (\"#\"*(x+1)))"
   ]
  },
  {
   "cell_type": "markdown",
   "id": "053545b1",
   "metadata": {},
   "source": [
    "# [문제-4] 대문자 변환\n",
    "<pre>\n",
    "사용자로부터 임의의 문자열을 입력 받아 해당 문자열 내 모든 소문자를 \"#\"으로 변환하여 출력하는 코드를 작성\n",
    "\n",
    "예시)\n",
    "    입력 : abCDeFg\n",
    "    출력 : ##CD#F#"
   ]
  },
  {
   "cell_type": "code",
   "execution_count": 127,
   "id": "1699e334",
   "metadata": {},
   "outputs": [
    {
     "name": "stdout",
     "output_type": "stream",
     "text": [
      "입력 : abCDeFg\n",
      "C\n",
      "D\n",
      "F\n"
     ]
    }
   ],
   "source": [
    "a = input(\"입력 : \")\n",
    "\n",
    "for x in a:\n",
    "    if x.isupper():\n",
    "        print(x)\n"
   ]
  },
  {
   "cell_type": "code",
   "execution_count": 132,
   "id": "5d25fc87",
   "metadata": {},
   "outputs": [
    {
     "name": "stdout",
     "output_type": "stream",
     "text": [
      "입력abCDeFg\n",
      "출력 :##CD#F#"
     ]
    }
   ],
   "source": [
    "# 쌤 버전\n",
    "\n",
    "str = input(\"입력: \")\n",
    "\n",
    "result = list()\n",
    "\n",
    "for s in str:\n",
    "    if s.islower():\\\n",
    "        result.append(\"#\")\n",
    "    else:\n",
    "        result.append(s)\n",
    "        \n",
    "print(\"출력 :\", end=\"\")\n",
    "for s in result:\n",
    "    print(s, end=\"\")"
   ]
  },
  {
   "cell_type": "code",
   "execution_count": 135,
   "id": "cd230dc6",
   "metadata": {},
   "outputs": [
    {
     "name": "stdout",
     "output_type": "stream",
     "text": [
      "입력: abCDeFg\n",
      "출력: ##CD#F#\n"
     ]
    }
   ],
   "source": [
    "# 쌤 버전\n",
    "\n",
    "srt = input(\"입력: \")\n",
    "result = [\"#\" if s.islower() else s for s in str]\n",
    "\n",
    "print(\"출력:\", \"\".join(result))\n",
    "# join: \"구분자 문자열\".join(문자열 객체 or 리스트 객체)"
   ]
  },
  {
   "cell_type": "markdown",
   "id": "7466b435",
   "metadata": {},
   "source": [
    "# [문제-5] 문자열 검색\n",
    "<pre>\n",
    "사용자로부터 입력 받을 문자열의 개수를 입력 받고, 검색할 단어를 입력 후, 앞서 입력 받은 숫자만큼 문자열을 입력받는다.\n",
    "이후 해당 문자열에서 검색어를 포함하는 문자열을 출력하되 검색어가 존재하지 않을 경우 \"None\"을 출력하는 코드를 작성\n",
    "\n",
    "예시 )\n",
    "    입력할 단어 개수 : 3\n",
    "    검색할 단어 : ab\n",
    "    \n",
    "    단어입력 1 : abba\n",
    "    단어입력 2 : oppa\n",
    "    단어입력 3 : BCabd\n",
    "    검색결과 : \n",
    "        abba\n",
    "        BCabD\n",
    "</pre>"
   ]
  },
  {
   "cell_type": "code",
   "execution_count": 188,
   "id": "1045cff7",
   "metadata": {},
   "outputs": [
    {
     "name": "stdout",
     "output_type": "stream",
     "text": [
      "입력한 단어 개수: 3\n",
      "검색할 단어: ab\n",
      "단어입력: abba\n",
      "단어입력: asdfa\n",
      "단어입력: fadbhrehfsab\n",
      "검색결과 : abba\n",
      "None\n",
      "검색결과 : fadbhrehfsab\n"
     ]
    }
   ],
   "source": [
    "n_word = int(input(\"입력한 단어 개수: \"))\n",
    "s_word = input(\"검색할 단어: \")\n",
    "\n",
    "\n",
    "result = list()\n",
    "\n",
    "for y in range(1, n_word+1):\n",
    "    result.append(input(\"단어입력: \"))\n",
    "\n",
    "\n",
    "for s in result:\n",
    "    if s_word in s:\n",
    "        print(\"검색결과 :\", s)\n",
    "    else:\n",
    "        print(\"None\")"
   ]
  },
  {
   "cell_type": "code",
   "execution_count": 197,
   "id": "29d622d8",
   "metadata": {},
   "outputs": [
    {
     "name": "stdout",
     "output_type": "stream",
     "text": [
      "입력할 단어 개수: 3\n",
      "검색할 단어: ab\n",
      "단어입력 1:abba\n",
      "단어입력 2:abadg\n",
      "단어입력 3:fada\n",
      "검색결과 :\n",
      "abba\n",
      "abadg\n"
     ]
    }
   ],
   "source": [
    "# 쌤 버전\n",
    "\n",
    "num = int(input(\"입력할 단어 개수: \"))\n",
    "keyword = input(\"검색할 단어: \")\n",
    "\n",
    "input_strings = list()\n",
    "for i in range(1, num+1):\n",
    "    input_strings.append(input(\"단어입력 %d:\"%i))\n",
    "    \n",
    "print(\"검색결과 :\")\n",
    "find = False\n",
    "for s in input_strings:\n",
    "    if keyword in s:\n",
    "        print(s)\n",
    "        find = True\n",
    "if not find: print(\"None\")"
   ]
  },
  {
   "cell_type": "markdown",
   "id": "595f1c9f",
   "metadata": {},
   "source": [
    "# [문제-6] 규칙에 따라 문자 변환하기\n",
    "<pre>\n",
    "사용자로부터 임의의 문자열을 입력 받아 아래와 같은 규칙에 따라 변환 후 출력하는 코드를 작성\n",
    "\n",
    "규칙)\n",
    "     A=>4\n",
    "     E=>3\n",
    "     G=>6\n",
    "     I=>1\n",
    "     O=>0\n",
    "     S=>5\n",
    "     Z=>2\n",
    "\n",
    "예시)\n",
    "    입력: Ag#IZklS\n",
    "    출력: 4g#12kl5"
   ]
  },
  {
   "cell_type": "code",
   "execution_count": 226,
   "id": "fe48f18e",
   "metadata": {},
   "outputs": [
    {
     "name": "stdout",
     "output_type": "stream",
     "text": [
      "입력 :Aewqr\n"
     ]
    },
    {
     "ename": "AttributeError",
     "evalue": "'str' object has no attribute 'get'",
     "output_type": "error",
     "traceback": [
      "\u001b[1;31m---------------------------------------------------------------------------\u001b[0m",
      "\u001b[1;31mAttributeError\u001b[0m                            Traceback (most recent call last)",
      "\u001b[1;32m~\\AppData\\Local\\Temp/ipykernel_11948/656610620.py\u001b[0m in \u001b[0;36m<module>\u001b[1;34m\u001b[0m\n\u001b[0;32m      9\u001b[0m \u001b[1;32mfor\u001b[0m \u001b[0my\u001b[0m \u001b[1;32min\u001b[0m \u001b[0ma\u001b[0m\u001b[1;33m:\u001b[0m\u001b[1;33m\u001b[0m\u001b[1;33m\u001b[0m\u001b[0m\n\u001b[0;32m     10\u001b[0m     \u001b[1;32mif\u001b[0m \u001b[0my\u001b[0m \u001b[1;32min\u001b[0m \u001b[0mx\u001b[0m\u001b[1;33m.\u001b[0m\u001b[0mkeys\u001b[0m\u001b[1;33m(\u001b[0m\u001b[1;33m)\u001b[0m\u001b[1;33m:\u001b[0m\u001b[1;33m\u001b[0m\u001b[1;33m\u001b[0m\u001b[0m\n\u001b[1;32m---> 11\u001b[1;33m         \u001b[0my\u001b[0m\u001b[1;33m.\u001b[0m\u001b[0mget\u001b[0m\u001b[1;33m(\u001b[0m\u001b[0mx\u001b[0m\u001b[1;33m)\u001b[0m\u001b[1;33m\u001b[0m\u001b[1;33m\u001b[0m\u001b[0m\n\u001b[0m",
      "\u001b[1;31mAttributeError\u001b[0m: 'str' object has no attribute 'get'"
     ]
    }
   ],
   "source": [
    "x = {'A':4, 'E':3, 'G':6, 'I':1, 'O':0, 'S':5, 'Z':2}\n",
    "\n",
    "a = input(\"입력 :\")\n",
    "\n",
    "#x.keys()\n",
    "#x.values()\n",
    "\n",
    "\n",
    "for y in a:\n",
    "    if y in x.keys():\n",
    "        y.get(x)\n"
   ]
  },
  {
   "cell_type": "code",
   "execution_count": 232,
   "id": "b08788f9",
   "metadata": {
    "collapsed": true
   },
   "outputs": [
    {
     "name": "stdout",
     "output_type": "stream",
     "text": [
      "입력: AESrega\n",
      "출력: 435rega"
     ]
    }
   ],
   "source": [
    "# 쌤 버전\n",
    "\n",
    "code = {'A':4, 'E':3, 'G':6, 'I':1, 'O':0, 'S':5, 'Z':2}\n",
    "\n",
    "text = input(\"입력: \")\n",
    "\n",
    "print(\"출력: \", end=\"\")\n",
    "for s in text:\n",
    "    print(code.get(s,s), end=\"\") # \n",
    "    "
   ]
  },
  {
   "cell_type": "markdown",
   "id": "1564043e",
   "metadata": {},
   "source": [
    "# [문제-7] key 기준으로 합계 구하기\n",
    "<pre>\n",
    "사용자로부터 key:value 형태로 반복해서 데이터를 입력 받는다. 이 때 key는 문자열 value는 정수 형태이며 중복되는 key를 입력 받을 경우 기존에 입력되어 있던 value에 새로 입력 받은 value를 합한다. 그리고 사용자가 'exit'를 입력하면 이전까지 입력 받았던 모든 key와 value를 key=value 형태로 출력하는 코드를 작성\n",
    "\n",
    "예시)\n",
    "    입력:\n",
    "        a:1\n",
    "        b:2\n",
    "        c:3\n",
    "        a:4\n",
    "        c:1\n",
    "        exit\n",
    "    출력:\n",
    "        a=5\n",
    "        b=2\n",
    "        c=4"
   ]
  },
  {
   "cell_type": "code",
   "execution_count": 297,
   "id": "17e5a3ab",
   "metadata": {},
   "outputs": [
    {
     "ename": "IndentationError",
     "evalue": "expected an indented block (Temp/ipykernel_11948/2357128702.py, line 11)",
     "output_type": "error",
     "traceback": [
      "\u001b[1;36m  File \u001b[1;32m\"C:\\Users\\user\\AppData\\Local\\Temp/ipykernel_11948/2357128702.py\"\u001b[1;36m, line \u001b[1;32m11\u001b[0m\n\u001b[1;33m    elif a == 'exit':\u001b[0m\n\u001b[1;37m    ^\u001b[0m\n\u001b[1;31mIndentationError\u001b[0m\u001b[1;31m:\u001b[0m expected an indented block\n"
     ]
    }
   ],
   "source": [
    "x = {}\n",
    "y = []\n",
    "while True:\n",
    "    a = input(\"입력: \")\n",
    "     \n",
    "    a = a.split(\":\")\n",
    "    for b in a:\n",
    "        x = {a[0],int(a[1])}\n",
    "        if b == x:\n",
    "            \n",
    "        elif a == 'exit':\n",
    "            print(\"x\")\n",
    "            break\n",
    "\n",
    "\n",
    "# a = input(\"입력: \")\n",
    "# a = a.split(\":\")\n",
    "# for b in a:\n",
    "#     x = {a[0],int(a[1])}\n",
    "#     if b == x:\n",
    "#         a[1]+a[1]\n",
    "\n",
    "\n",
    "print(x)"
   ]
  },
  {
   "cell_type": "code",
   "execution_count": 303,
   "id": "6f11acf9",
   "metadata": {},
   "outputs": [
    {
     "name": "stdout",
     "output_type": "stream",
     "text": [
      "입력: \n",
      "ㅁ:1\n",
      "exit\n",
      "출력: \n",
      "ㅁ = 1\n"
     ]
    }
   ],
   "source": [
    "# 쌤 버전\n",
    "\n",
    "print(\"입력: \")\n",
    "result = {}\n",
    "while True:\n",
    "    data = input()\n",
    "    if data == \"exit\": break\n",
    "    split_data = data.split(\":\")\n",
    "    key = split_data[0]\n",
    "    value = int(split_data[1])\n",
    "    result[key] = result.get(key, 0) + value\n",
    "    # get() : key에 대응하는 value값을 알려줌\n",
    "    \n",
    "print(\"출력: \")\n",
    "for k, v in result.items():\n",
    "    print(k, \"=\", v)"
   ]
  },
  {
   "cell_type": "code",
   "execution_count": 305,
   "id": "778f2c21",
   "metadata": {},
   "outputs": [
    {
     "name": "stdout",
     "output_type": "stream",
     "text": [
      "{'a': 1}\n"
     ]
    }
   ],
   "source": [
    "mydic = {}\n",
    "mydic['a'] = 1\n",
    "print(mydic)"
   ]
  },
  {
   "cell_type": "code",
   "execution_count": 295,
   "id": "6e918eeb",
   "metadata": {},
   "outputs": [
    {
     "name": "stdout",
     "output_type": "stream",
     "text": [
      "['a', '1']\n"
     ]
    }
   ],
   "source": [
    "str = \"a:1\"\n",
    "r = str.split(\":\")\n",
    "\n",
    "print(r)"
   ]
  },
  {
   "cell_type": "markdown",
   "id": "afe4acf2",
   "metadata": {},
   "source": [
    "# [문제-8] 성적 처리 프로그램\n",
    "<pre>\n",
    "사용자로부터 총 학생의 수와 합격 기준 점수를 입력 받는다.\n",
    "그리고, 각 학생의 성적과 결석 일수를 공백으로 구분하여 순차적으로 입력 받는다.\n",
    "결석 일수 1일 당 5점씩 감점하여 최종성적을 계산한다.\n",
    "점수와, 결석일수, 최종 성적과 합격 여부를 출력한다.\n",
    "예시)\n",
    "    입력:\n",
    "        학생 수: 3\n",
    "        합격 기준 점수: 60\n",
    "\n",
    "        점수와 결석 일수 (\"100 0\" 형식): 100 0\n",
    "        점수와 결석 일수 (\"100 0\" 형식): 60 0\n",
    "        점수와 결석 일수 (\"100 0\" 형식): 80 0\n",
    "    출력:\n",
    "        점수    결석    성적    합격여부\n",
    "        100       0     100       합격\n",
    "         60       0      60       합격\n",
    "         80       5      55     불합격\n"
   ]
  },
  {
   "cell_type": "code",
   "execution_count": 39,
   "id": "c8207a09",
   "metadata": {},
   "outputs": [
    {
     "name": "stdout",
     "output_type": "stream",
     "text": [
      "학생 수: 3\n",
      "합격 기준 점수: 60\n",
      "점수와 결석 일수 (\"100 0\" 형식): 100 0\n",
      "점수와 결석 일수 (\"100 0\" 형식): 60 0\n",
      "점수와 결석 일수 (\"100 0\" 형식): 80 5\n",
      "[['100', '0'], ['60', '0'], ['80', '5']]\n",
      "점수   결석   성적\n",
      "[('100', '0'), ('60', '0'), ('80', '5')]\n"
     ]
    }
   ],
   "source": [
    "n_stu = int(input(\"학생 수: \"))\n",
    "s_pass = int(input(\"합격 기준 점수: \"))\n",
    "\n",
    "result = list()\n",
    "\n",
    "for x in range(1, n_stu+1):\n",
    "    r = (input('점수와 결석 일수 (\"100 0\" 형식): '))\n",
    "    result.append(r.split())\n",
    "\n",
    "print(result)\n",
    "\n",
    "y = []\n",
    "print(\"점수   결석   성적\")\n",
    "for x in result:\n",
    "    #print(x[0],\"   \", x[1])\n",
    "    a = (x[0], x[1])\n",
    "    y.append(a)\n",
    "    \n",
    "print(y)\n",
    "    \n",
    "    \n",
    "\n",
    "\n",
    "\n",
    "    "
   ]
  },
  {
   "cell_type": "code",
   "execution_count": 42,
   "id": "8560cfb8",
   "metadata": {},
   "outputs": [
    {
     "name": "stdout",
     "output_type": "stream",
     "text": [
      "학생 수: 3\n",
      "합격 기준 점수: 60\n",
      "점수와 결석 일수 (\"100 0 형식\")100 0\n",
      "점수와 결석 일수 (\"100 0 형식\")60 0\n",
      "점수와 결석 일수 (\"100 0 형식\")80 05\n",
      "점수\t결석\t성적\t합격여부\n",
      "100\t  0\t100\t합격\n",
      " 60\t  0\t 60\t불합격\n",
      " 80\t  5\t 55\t불합격\n"
     ]
    }
   ],
   "source": [
    "# 쌤 버전\n",
    "\n",
    "numOfStudents = int(input(\"학생 수: \"))\n",
    "cutLine = int(input(\"합격 기준 점수: \"))\n",
    "\n",
    "score_data = list() # 전체학생의 정보 저장\n",
    "\n",
    "for i in range(numOfStudents):\n",
    "    student_score = list() # 학생 한명의 성적 정보를 저장 (이중 리스트)\n",
    "    input_data = input('점수와 결석 일수 (\"100 0 형식\")') # 점수와 결석 일수 공백 기준으로 자름\n",
    "    data = input_data.split() # 공백을 기준으로 자른 문자열을 변수에 지정\n",
    "    score = int(data[0]) # 점수를 리스트의 첫번째 자리로 \n",
    "    absent = int(data[1]) # 결석 일수를 리스트의 두번째 자리로\n",
    "    student_score.append(score) # 리스트에 저장\n",
    "    student_score.append(absent)\n",
    "    final_score = score-(absent*5)\n",
    "    student_score.append(final_score)\n",
    "    student_score.append(\"합격\" if final_score > cutLine else \"불합격\")\n",
    "    score_data.append(student_score)\n",
    "    \n",
    "print(\"점수\", \"결석\", \"성적\", \"합격여부\", sep=\"\\t\") # \\t = 공백 생성\n",
    "for s in score_data:\n",
    "    print(\"%3d\\t%3d\\t%3d\\t%s\"%(s[0],s[1],s[2],s[3]))"
   ]
  },
  {
   "cell_type": "markdown",
   "id": "c180bcae",
   "metadata": {},
   "source": [
    "# [문제-9] 2차원 행렬 회전하기\n",
    "\n",
    "<pre>\n",
    "다음과 같은 3행 3열의 리스트를 생성하고, 사용자로부터 임의의 값을 입력 받을 때마다 시계 방향으로 90도씩 회전하여 출력하는 코드를 작성. 단, 사용자가 입력한 값이 'exit'일 경우 프로그램을 종료.\n",
    "\n",
    "[[1,2,3], [4,5,6], [7,8,9]]\n",
    "\n",
    "예시)\n",
    "    123\n",
    "    456\n",
    "    789\n",
    "    입력: a\n",
    "    \n",
    "    741\n",
    "    852\n",
    "    963\n",
    "    입력: b\n",
    "    \n",
    "    987\n",
    "    654\n",
    "    321\n",
    "    입력: exit\n",
    "</pre>"
   ]
  },
  {
   "cell_type": "code",
   "execution_count": 5,
   "id": "f1262a21",
   "metadata": {},
   "outputs": [
    {
     "name": "stdout",
     "output_type": "stream",
     "text": [
      "3\n",
      "3\n",
      "[[0, 0, 0]]\n"
     ]
    }
   ],
   "source": [
    "# 변환규칙: 90도 회전시 첫 번째 열의 값들이 첫 번째 행의 값으로 변환\n",
    "# (2,0) -> (0,0)\n",
    "\n",
    "# 회전 전 열 번호 = 회전 후 행 번호\n",
    "# 회전 후 열 번호 = x-1-회전 전 행번호\n",
    "\n",
    "li = [[1,2,3],[4,5,6],[7,8,9]]\n",
    "\n",
    "    \n",
    "x = len(li)\n",
    "y = len(li[0])\n",
    "\n",
    "print(x)\n",
    "print(y)\n",
    "\n",
    "new = [[0*x for i in range(y)]]\n",
    "\n",
    "print(new)\n",
    "\n",
    "for a in range(x):\n",
    "    for b in range(y):\n",
    "        new[b][x-a-1]\n",
    "        "
   ]
  },
  {
   "cell_type": "code",
   "execution_count": 11,
   "id": "96d0ae8f",
   "metadata": {},
   "outputs": [
    {
     "name": "stdout",
     "output_type": "stream",
     "text": [
      "1 2 3\n",
      "4 5 6\n",
      "7 8 9\n",
      "입력: ㅁ\n",
      "7 4 1\n",
      "8 5 2\n",
      "9 6 3\n",
      "입력: eixt\n",
      "9 8 7\n",
      "6 5 4\n",
      "3 2 1\n",
      "입력: exit\n"
     ]
    }
   ],
   "source": [
    "# 쌤 버전\n",
    "\n",
    "import copy\n",
    "\n",
    "matrix = [[1,2,3], [4,5,6], [7,8,9]]\n",
    "\n",
    "while True:\n",
    "    mcopy = copy.deepcopy(matrix)\n",
    "    \n",
    "    for i in matrix:\n",
    "        print(i[0],i[1],i[2], sep=\" \")\n",
    "        \n",
    "    if input(\"입력: \") == \"exit\": break\n",
    "    \n",
    "    for i in range(len(matrix)):\n",
    "        for j in range(len(matrix[i])):\n",
    "            mcopy[i][j] = matrix[2-j][i]\n",
    "            \n",
    "    matrix = mcopy"
   ]
  },
  {
   "cell_type": "code",
   "execution_count": 1,
   "id": "d50fc66f",
   "metadata": {},
   "outputs": [
    {
     "name": "stdout",
     "output_type": "stream",
     "text": [
      "상위 리스트의 주소\n",
      "1896482352704\n",
      "1896482352512\n",
      "1896482353344\n",
      "하위 리스트의 주소\n",
      "1896482351104\n",
      "1896482351104\n",
      "1896482352960\n"
     ]
    }
   ],
   "source": [
    "# 쌤 버전\n",
    "\n",
    "# [참고] 파이썬 리스트의 깊은복사\n",
    "import copy\n",
    "\n",
    "m = [[1],[2]]\n",
    "c1 = m[:] # 슬라이싱을 이용한 깊은 복사\n",
    "c2 = copy.deepcopy(m) # deepcopy 함수를 이용한 깊은 복사\n",
    "print(\"상위 리스트의 주소\")\n",
    "# 깊은 복사를 하면 가장 상위에 있는 리스트의 서로 다른 주소를 갖는 새로운 객체로 만들어 지지만...\n",
    "print(id(m)) \n",
    "print(id(c1)) \n",
    "print(id(c2))\n",
    "\n",
    "print(\"하위 리스트의 주소\")\n",
    "# 슬라이싱을 이용한 깊은 복사는 하위(서브) 리스트는 원본의 것과 같은 것을 이용한다.\n",
    "# 따라서 이중리스트 이상의 리스트에 대해 완전한 깊은 복사를 위해서는 deepcopy 함수를 이용한다.\n",
    "print(id(m[0]))\n",
    "print(id(c1[0]))\n",
    "print(id(c2[0]))\n"
   ]
  },
  {
   "cell_type": "markdown",
   "id": "38a0d697",
   "metadata": {},
   "source": [
    "# [문제] 함수를 이용한 영화예매 프로그램 만들기\n",
    "\n",
    "<pre>\n",
    "극장의 좌석은 가로 7행, 세로 7열로 구성되어 있다.\n",
    "프로그램은 다음의 두 함수를 선언하여 작성한다.\n",
    "\n",
    "* showReservationStatus() : 극장 좌석의 예약 현황을 보여준다.\n",
    "* reservationSeat(row, col) : 행, 열 값을 매개변수로 받아 해당 자리를 예약한다.\n",
    "예약을 성공하면 True, 실패하면 False를 반환한다.\n",
    "\n",
    "예시)\n",
    "좌석을 예약하시겠습니까? (y/n) y\n",
    "현재의 예약 상태는 다음과 같습니다.\n",
    "\n",
    "------------------------------\n",
    "    1  2  3  4  5  6  7\n",
    "------------------------------\n",
    "1 | 0  0  0  0  0  0  0\n",
    "2 | 0  0  0  0  0  0  0\n",
    "3 | 0  0  0  0  0  0  0\n",
    "4 | 0  0  0  0  0  0  0\n",
    "5 | 0  0  0  0  0  0  0\n",
    "6 | 0  0  0  0  0  0  0\n",
    "7 | 0  0  0  0  0  0  0\n",
    "몇 개의 좌석을 예약하시겠습니까? 2\n",
    "[1번째 자리 예약]\n",
    "행값 입력: 1\n",
    "열값 입력: 1\n",
    "예약되었습니다.\n",
    "[2번째 자리 예약]\n",
    "행값 입력: 1\n",
    "열값 입력: 2\n",
    "예약되었습니다.\n",
    "</pre>"
   ]
  },
  {
   "cell_type": "code",
   "execution_count": 80,
   "id": "b8b2367f",
   "metadata": {},
   "outputs": [
    {
     "name": "stdout",
     "output_type": "stream",
     "text": [
      "좌석을 예약하시겠습니까? (y/n): y\n",
      "현재의 예약 상태는 다음과 같습니다. \n",
      "------------------------------\n",
      "    1  2  3  4  5  6  7\n",
      "------------------------------\n",
      "[0, 0, 0, 0, 0, 0, 0]\n",
      "[0, 0, 0, 0, 0, 0, 0]\n",
      "[0, 0, 0, 0, 0, 0, 0]\n",
      "[0, 0, 0, 0, 0, 0, 0]\n",
      "[0, 0, 0, 0, 0, 0, 0]\n",
      "[0, 0, 0, 0, 0, 0, 0]\n",
      "[0, 0, 0, 0, 0, 0, 0]\n",
      "몇개의 좌석을 예약하시겠습니까? :2\n",
      "['1번째 자리 예약']\n",
      "행값 입력 :7\n",
      "열값 입력 :5\n",
      "예약되었습니다.\n",
      "['2번째 자리 예약']\n",
      "행값 입력 :7\n",
      "열값 입력 :4\n",
      "예약되었습니다.\n",
      "좌석을 예약하시겠습니까? (y/n): y\n",
      "현재의 예약 상태는 다음과 같습니다. \n",
      "------------------------------\n",
      "    1  2  3  4  5  6  7\n",
      "------------------------------\n",
      "[0, 0, 0, 0, 0, 0, 0]\n",
      "[0, 0, 0, 0, 0, 0, 0]\n",
      "[0, 0, 0, 0, 0, 0, 0]\n",
      "[0, 0, 0, 0, 0, 0, 0]\n",
      "[0, 0, 0, 0, 0, 0, 0]\n",
      "[0, 0, 0, 0, 0, 0, 0]\n",
      "[0, 0, 0, 1, 1, 0, 0]\n",
      "몇개의 좌석을 예약하시겠습니까? :1\n",
      "['1번째 자리 예약']\n",
      "행값 입력 :7\n",
      "열값 입력 :4\n",
      "이미 선택된 좌석입니다.\n",
      "좌석을 예약하시겠습니까? (y/n): y\n",
      "현재의 예약 상태는 다음과 같습니다. \n",
      "------------------------------\n",
      "    1  2  3  4  5  6  7\n",
      "------------------------------\n",
      "[0, 0, 0, 0, 0, 0, 0]\n",
      "[0, 0, 0, 0, 0, 0, 0]\n",
      "[0, 0, 0, 0, 0, 0, 0]\n",
      "[0, 0, 0, 0, 0, 0, 0]\n",
      "[0, 0, 0, 0, 0, 0, 0]\n",
      "[0, 0, 0, 0, 0, 0, 0]\n",
      "[0, 0, 0, 1, 1, 0, 0]\n",
      "몇개의 좌석을 예약하시겠습니까? :1\n",
      "['1번째 자리 예약']\n",
      "행값 입력 :7\n",
      "열값 입력 :5\n",
      "이미 선택된 좌석입니다.\n",
      "좌석을 예약하시겠습니까? (y/n): n\n"
     ]
    }
   ],
   "source": [
    "seat = [[0,0,0,0,0,0,0], [0,0,0,0,0,0,0], [0,0,0,0,0,0,0], [0,0,0,0,0,0,0], [0,0,0,0,0,0,0], [0,0,0,0,0,0,0], [0,0,0,0,0,0,0]]\n",
    "\n",
    "while True:\n",
    "    q1 = input(\"좌석을 예약하시겠습니까? (y/n): \")\n",
    "    \n",
    "    if q1 == 'n': break\n",
    "        \n",
    "    elif q1 == 'y':\n",
    "        print(\"현재의 예약 상태는 다음과 같습니다. \")\n",
    "        print(\"------------------------------\")\n",
    "        print(\"    1  2  3  4  5  6  7\")\n",
    "        print(\"------------------------------\")\n",
    "        print(seat[0], seat[1], seat[2], seat[3],seat[4],seat[5], seat[6], sep=\"\\n\")\n",
    "        q2 = int(input(\"몇개의 좌석을 예약하시겠습니까? :\"))\n",
    "        res = 0\n",
    "        \n",
    "        for i in range(q2):\n",
    "            res+=1\n",
    "            print([\"%s번째 자리 예약\"%(res)])\n",
    "            seat1 = int(input(\"행값 입력 :\"))\n",
    "            seat2 = int(input(\"열값 입력 :\"))\n",
    "            \n",
    "            if seat[seat1 - 1][seat2 - 1] == 1:\n",
    "                print(\"이미 선택된 좌석입니다.\")\n",
    "            \n",
    "            else:\n",
    "                print(\"예약되었습니다.\")\n",
    "                seat[seat1 - 1][seat2 - 1] = 1\n",
    "            \n",
    "    "
   ]
  },
  {
   "cell_type": "code",
   "execution_count": 114,
   "id": "c34a59c7",
   "metadata": {},
   "outputs": [
    {
     "name": "stdout",
     "output_type": "stream",
     "text": [
      "좌석을 예약하시겠습니까? (y/n)y\n",
      "현재의 예약 상태는 다음과 같습니다. \n",
      "------------------------------\n",
      "   1  2  3  4  5  6  7\n",
      "------------------------------\n",
      "1| 0  0  0  0  0  0  0 \n",
      "2| 0  0  0  0  0  0  0 \n",
      "3| 0  0  0  0  0  0  0 \n",
      "4| 0  0  0  0  0  0  0 \n",
      "5| 0  0  0  0  0  0  0 \n",
      "6| 0  0  0  0  0  0  0 \n",
      "7| 0  0  0  0  0  0  0 \n",
      "몇개의 좌석을 예약 하시겠습니까? 1\n",
      "[1번째 자리예약]\n",
      "행값 입력: 7\n",
      "열값 입력: 3\n",
      "예약되었습니다.\n",
      "좌석을 예약하시겠습니까? (y/n)n\n"
     ]
    }
   ],
   "source": [
    "# 쌤 버전\n",
    "\n",
    "# seat = [[0,0,0,0,0,0,0],\n",
    "#         [0,0,0,0,0,0,0],\n",
    "#         [0,0,0,0,0,0,0],\n",
    "#         [0,0,0,0,0,0,0],\n",
    "#         [0,0,0,0,0,0,0],\n",
    "#         [0,0,0,0,0,0,0],\n",
    "#         [0,0,0,0,0,0,0]]\n",
    "\n",
    "seats = [[0 for row in range(7)] for col in range(7)]\n",
    "\n",
    "def showReservationStatus():\n",
    "    print(\"현재의 예약 상태는 다음과 같습니다. \")\n",
    "    print(\"------------------------------\")\n",
    "    print(\"   1  2  3  4  5  6  7\")\n",
    "    print(\"------------------------------\")\n",
    "    for i, x in enumerate(seats, 1):\n",
    "        print(\"%d|\"%i, end=\"\")\n",
    "        for y in x:\n",
    "            print(\"%2d\"%y, end=\" \")\n",
    "        print()\n",
    "        \n",
    "def reservationSeat(row, col):\n",
    "    if seats[row-1][col-1] == 0:\n",
    "        seats[row-1][col-1] = 1\n",
    "        return True\n",
    "    else:\n",
    "        return False\n",
    "    \n",
    "while True:\n",
    "    choice = input(\"좌석을 예약하시겠습니까? (y/n)\")\n",
    "    if choice == 'n':break\n",
    "        \n",
    "    showReservationStatus()\n",
    "    howMany = int(input(\"몇개의 좌석을 예약 하시겠습니까? \"))\n",
    "    cnt = 0\n",
    "    \n",
    "    while cnt < howMany:\n",
    "        cnt += 1\n",
    "        print(\"[%d번째 자리예약]\"%cnt)\n",
    "        row = int(input(\"행값 입력: \"))\n",
    "        col = int(input(\"열값 입력: \"))\n",
    "        if reservationSeat(row, col):\n",
    "            print(\"예약되었습니다.\")\n",
    "        else:\n",
    "            print(\"%d행 %d열 자리는 예약할 수 없습니다.\"%(row, col))\n",
    "            cnt -= 1"
   ]
  },
  {
   "cell_type": "markdown",
   "id": "bbdb3de8",
   "metadata": {},
   "source": [
    "# [문제] 이항 사칙 연산 계산기\n",
    "\n",
    "<pre>\n",
    "두 값과 연산자를 입력 받아 연산의 결과를 출력하는 프로그램을 작성\n",
    "> 값 1을 입력하세요: 10\n",
    "> 연산자를 입력하세요(+,-,*,/): +\n",
    "> 값 2를 입력하세요: 20\n",
    "> 10.00 + 20.00 = 30.00\n",
    "\n",
    "[요구사항]\n",
    "- 값으로서의 함수 기능 이영\n",
    "    - 모든 연산은 calculator() 함수를 이용하고 세부연산은 각 연산자 별 함수 이용\n",
    "    \n",
    "- 나누기 연산에서 분모의 값이 0일 경우 \"0으로 나눌 수 없습니다.\" 출력\n",
    "- 사칙 연산자 외에 다른 문자가 입력되면 \"연산자 오류\" 출력\n",
    "</pre>"
   ]
  },
  {
   "cell_type": "code",
   "execution_count": 126,
   "id": "8ad13cf5",
   "metadata": {},
   "outputs": [
    {
     "name": "stdout",
     "output_type": "stream",
     "text": [
      "값1을 입력하세요: 5\n",
      "연산자를 입력하세요 (+,-,*,/): a\n",
      "값2를 입력하세요: 5\n",
      "연산자 오류!!\n"
     ]
    }
   ],
   "source": [
    "def calculator(op, a, b):# 매개변수로 연산자(op), 값1(a), 값2(b) 선언\n",
    "    if op == None:\n",
    "        print(\"연산자 오류!!\")\n",
    "        return 0 # 0 = False\n",
    "    return op(a,b)\n",
    "\n",
    "def plus(a,b):\n",
    "    return a+b\n",
    "\n",
    "def minus(a,b):\n",
    "    return a-b\n",
    "\n",
    "def multi(a,b):\n",
    "    return a*b\n",
    "\n",
    "def division(a,b):\n",
    "    if b == 0:\n",
    "        print(\"0으로 나눌 수 없습니다.\")\n",
    "        return 0\n",
    "    return a/b\n",
    "\n",
    "v1 = float(input(\"값 1을 입력하세요: \"))\n",
    "operator = input(\"연산자를 입력하세요 (+,-,*,/): \")\n",
    "v2 = float(input(\"값 2를 입력하세요: \"))\n",
    "\n",
    "function = {\"+\":plus, \"-\":minus, \"*\":multi, \"/\":division} # dict로 생성 후 해당 key(op)가 입력되면 동일 이름 가진 value(함수) 실행\n",
    "result = calculator(function.get(operator), v1, v2)\n",
    "# get() : key 값으로 value 값 얻기 (key = 연산자, value = 함수 명)\n",
    "if result : print(\"%.2f %s %.2f = %.2f\"%(v1, operator, v2, result))"
   ]
  },
  {
   "cell_type": "markdown",
   "id": "5e5ea0af",
   "metadata": {},
   "source": [
    "# [문제] 목표 날짜 구하기\n",
    "<pre>\n",
    "사용자로부터 입력 받은 기준 날짜로부터 며칠이 경과된 목표 날짜를 계산하는 프로그램을 작성\n",
    "\n",
    "예시)\n",
    "    연도를 입력하세요: 2019\n",
    "    월을 입력하세요: 2\n",
    "    일을 입력하세요: 5\n",
    "    며칠째 되는 날을 구하고 싶은가요?: \n",
    "    2019년 2월 5일로부터 10일째 되는 날은 2019년 2월 10일 입니다.\n",
    "    \n",
    "[참고]\n",
    "    - 윤년인 경우 2월은 29일로 계산\n",
    "    - 기준일이 1일째 되는 날로 계산\n",
    "</pre>"
   ]
  },
  {
   "cell_type": "code",
   "execution_count": 161,
   "id": "b4424d83",
   "metadata": {},
   "outputs": [
    {
     "name": "stdout",
     "output_type": "stream",
     "text": [
      "연도를 입력하세요: 2022\n",
      "월을 입력하세요: 5\n",
      "일을 입력하세요: 10\n",
      "며칠째 되는 날을 구하고 싶은가요?: 5\n",
      "2022년 5월 10일로부터 5일째 되는 날은 2022년 6월 5일 입니다\n"
     ]
    }
   ],
   "source": [
    "year = int(input(\"연도를 입력하세요: \"))\n",
    "month = int(input(\"월을 입력하세요: \"))\n",
    "day = int(input(\"일을 입력하세요: \"))\n",
    "target = int(input(\"며칠째 되는 날을 구하고 싶은가요?: \"))\n",
    "\n",
    "my_year = year\n",
    "\n",
    "for x in range(target): \n",
    "    my_day = day + target\n",
    "    \n",
    "    if month == 1 or 3 or 5 or 7 or 8 or 10 or 12 and my_day > 31:\n",
    "        my_month = month + 1\n",
    "        my_date = my_day - day\n",
    "        \n",
    "    elif month == 4 or 6 or 9 or 11 and my_day > 30:\n",
    "        my_month = month + 1\n",
    "        my_date = my_day - day\n",
    "        \n",
    "    elif month == 2 and my_day > 29:\n",
    "        my_month = month + 1\n",
    "        my_date = my_day - day\n",
    "        \n",
    "        if my_month > 12:\n",
    "            my_year = year + 1\n",
    "            my_month = 1\n",
    "        \n",
    "        \n",
    "print(\"%d년 %d월 %d일로부터 %d일째 되는 날은 %d년 %d월 %d일 입니다\"%(year, month, day, target, my_year, my_month, my_date ))\n",
    "\n",
    "\n",
    "#     if month == 2:\n",
    "#         my_day = 29 if (year%4 == 0 and year%100 != 0) or year %400 == 0 else 28\n"
   ]
  },
  {
   "cell_type": "code",
   "execution_count": 173,
   "id": "334315a2",
   "metadata": {},
   "outputs": [
    {
     "name": "stdout",
     "output_type": "stream",
     "text": [
      "연도를 입력하세요: 2000\n",
      "월을 입력하세요: 2\n",
      "일을 입력하세요: 25\n",
      "며칠째 되는 날을 구하고 싶은가요?: 10\n",
      "2000년 2월 25일로부터 10일째 되는 날은 2000년 3월 5일 입니다\n"
     ]
    }
   ],
   "source": [
    "# 쌤 버전\n",
    "\n",
    "daysInMonth = [31,28,31,30,31,30,31,31,30,31,30,31]\n",
    "\n",
    "year = int(input(\"연도를 입력하세요: \"))\n",
    "month = int(input(\"월을 입력하세요: \"))\n",
    "day = int(input(\"일을 입력하세요: \"))\n",
    "target = int(input(\"며칠째 되는 날을 구하고 싶은가요?: \"))\n",
    "\n",
    "t_year = year\n",
    "t_month = month\n",
    "t_day = day -1 # 기준 일이 1일째 되는 날로 계산\n",
    "maxDayCheck = True # 해당 월의 최대 일수를 확인할 필요가 있는지의 여부\n",
    "\n",
    "for i in range(1, target+1):\n",
    "    if maxDayCheck:\n",
    "        if t_month == 2:\n",
    "            if (not t_year % 4 and t_year % 100) or not t_year % 400:\n",
    "                daysOfMonth = 29\n",
    "            else:\n",
    "                daysOfMonth = 28\n",
    "        else:\n",
    "            daysOfMonth = daysInMonth[t_month-1]\n",
    "        maxDayCheck = False\n",
    "        \n",
    "    t_day += 1 # 기준일을 시작으로 일수를 하루씩 증가\n",
    "    \n",
    "    if t_day > daysOfMonth:\n",
    "        t_month += 1\n",
    "        t_day = 1\n",
    "        maxDayCheck = True\n",
    "        \n",
    "    if t_month > 12:\n",
    "        t_year += 1\n",
    "        t_month = 1\n",
    "        t_day = 1\n",
    "        maxDayCheck = True\n",
    "        \n",
    "print(\"%d년 %d월 %d일로부터 %d일째 되는 날은 %d년 %d월 %d일 입니다\"%(year, month, day, target, t_year, t_month, t_day))"
   ]
  },
  {
   "cell_type": "markdown",
   "id": "e4f82b84",
   "metadata": {},
   "source": [
    "# [문제] Tic-Tac-Toe 게임 만들기\n",
    "\n",
    "<pre>\n",
    "Tic Tac Toe 게임이란 3행3열의 말판에 두 명이 번갈아가며 O와 X를 써서, 먼저 3개의 같은 문자를 가로, 세로 또는 대각선상에 놓이도록 하는 게임이다.\n",
    "말판은 3X3의 이중 리스트를 이용하여 값 저장 및 출력을 한다.\n",
    "9개의 칸이 모두 채워졌지만 3개의 연속된 같은 문자가 없는 경우는 무승부로 하고 게임을 종료한다.\n",
    "이미  O 또는 X로 선택되어 있는 번호를 고른 경우에는 무시하고 다시 입력받는다.\n",
    "\n",
    "※ 말판을 출력하는 printBoard(board) 함수 선언\n",
    "    - 매개변수 board : 1~9까지의 번호로 채워진 3행 3열의 이중 리스트 객체\n",
    "\n",
    "[실행예시]\n",
    "+---+---+---+\n",
    "| 1 | 2 | 3 |\n",
    "+---+---+---+\n",
    "| 4 | 5 | 6 |\n",
    "+---+---+---+\n",
    "| 7 | 8 | 9 |\n",
    "+---+---+---+\n",
    "\n",
    "** Player[1]님이 말을 놓을 차례입니다.\n",
    "**말 X를 놓을 위치의 번호를 입력하세요 : 1\n",
    "\n",
    "+---+---+---+\n",
    "| X | 2 | 3 |\n",
    "+---+---+---+\n",
    "| 4 | 5 | 6 |\n",
    "+---+---+---+\n",
    "| 7 | 8 | 9 |\n",
    "+---+---+---+\n",
    "\n",
    "** Player[2]님이 말을 놓을 차례입니다.\n",
    "**말 O를 놓을 위치의 번호를 입력하세요 : 2\n",
    "\n",
    "+---+---+---+\n",
    "| X | O | 3 |\n",
    "+---+---+---+\n",
    "| 4 | 5 | 6 |\n",
    "+---+---+---+\n",
    "| 7 | 8 | 9 |\n",
    "+---+---+---+\n",
    "      :\n",
    "+---+---+---+\n",
    "| X | O | 3 |\n",
    "+---+---+---+\n",
    "| 4 | X | O |\n",
    "+---+---+---+\n",
    "| 7 | 8 | X |\n",
    "+---+---+---+\n",
    "\n",
    "Player-1님의 승리! 축하합니다.\n",
    "</pre>"
   ]
  },
  {
   "cell_type": "code",
   "execution_count": 243,
   "id": "d6a74562",
   "metadata": {},
   "outputs": [
    {
     "name": "stdout",
     "output_type": "stream",
     "text": [
      "+---+---+---+\n",
      "| 1 | 2 | 3 | \n",
      "+---+---+---+\n",
      "| 4 | 5 | 6 | \n",
      "+---+---+---+\n",
      "| 7 | 8 | 9 | \n",
      "+---+---+---+\n",
      "Player[1]님이 말을 놓을 차례입니다.\n"
     ]
    },
    {
     "ename": "KeyboardInterrupt",
     "evalue": "Interrupted by user",
     "output_type": "error",
     "traceback": [
      "\u001b[1;31m---------------------------------------------------------------------------\u001b[0m",
      "\u001b[1;31mKeyboardInterrupt\u001b[0m                         Traceback (most recent call last)",
      "\u001b[1;32m~\\AppData\\Local\\Temp/ipykernel_5016/168231641.py\u001b[0m in \u001b[0;36m<module>\u001b[1;34m\u001b[0m\n\u001b[0;32m     30\u001b[0m \u001b[1;33m\u001b[0m\u001b[0m\n\u001b[0;32m     31\u001b[0m     \u001b[0mprint\u001b[0m\u001b[1;33m(\u001b[0m\u001b[1;34m\"Player[1]님이 말을 놓을 차례입니다.\"\u001b[0m\u001b[1;33m)\u001b[0m\u001b[1;33m\u001b[0m\u001b[1;33m\u001b[0m\u001b[0m\n\u001b[1;32m---> 32\u001b[1;33m     \u001b[0mp1\u001b[0m \u001b[1;33m=\u001b[0m \u001b[0mint\u001b[0m\u001b[1;33m(\u001b[0m\u001b[0minput\u001b[0m\u001b[1;33m(\u001b[0m\u001b[1;34m\"말 X를 놓을 위치의 번호를 입력하세요 : \"\u001b[0m\u001b[1;33m)\u001b[0m\u001b[1;33m)\u001b[0m\u001b[1;33m\u001b[0m\u001b[1;33m\u001b[0m\u001b[0m\n\u001b[0m\u001b[0;32m     33\u001b[0m     \u001b[1;32mif\u001b[0m \u001b[0mp1\u001b[0m \u001b[1;33m==\u001b[0m \u001b[0mchoice\u001b[0m\u001b[1;33m(\u001b[0m\u001b[0mp1\u001b[0m\u001b[1;33m)\u001b[0m\u001b[1;33m:\u001b[0m\u001b[1;33m\u001b[0m\u001b[1;33m\u001b[0m\u001b[0m\n\u001b[0;32m     34\u001b[0m         \u001b[0mprint\u001b[0m\u001b[1;33m(\u001b[0m\u001b[1;34m\"Player[1]님이 말을 놓을 차례입니다.\"\u001b[0m\u001b[1;33m)\u001b[0m\u001b[1;33m\u001b[0m\u001b[1;33m\u001b[0m\u001b[0m\n",
      "\u001b[1;32m~\\anaconda3\\lib\\site-packages\\ipykernel\\kernelbase.py\u001b[0m in \u001b[0;36mraw_input\u001b[1;34m(self, prompt)\u001b[0m\n\u001b[0;32m   1004\u001b[0m                 \u001b[1;34m\"raw_input was called, but this frontend does not support input requests.\"\u001b[0m\u001b[1;33m\u001b[0m\u001b[1;33m\u001b[0m\u001b[0m\n\u001b[0;32m   1005\u001b[0m             )\n\u001b[1;32m-> 1006\u001b[1;33m         return self._input_request(\n\u001b[0m\u001b[0;32m   1007\u001b[0m             \u001b[0mstr\u001b[0m\u001b[1;33m(\u001b[0m\u001b[0mprompt\u001b[0m\u001b[1;33m)\u001b[0m\u001b[1;33m,\u001b[0m\u001b[1;33m\u001b[0m\u001b[1;33m\u001b[0m\u001b[0m\n\u001b[0;32m   1008\u001b[0m             \u001b[0mself\u001b[0m\u001b[1;33m.\u001b[0m\u001b[0m_parent_ident\u001b[0m\u001b[1;33m[\u001b[0m\u001b[1;34m\"shell\"\u001b[0m\u001b[1;33m]\u001b[0m\u001b[1;33m,\u001b[0m\u001b[1;33m\u001b[0m\u001b[1;33m\u001b[0m\u001b[0m\n",
      "\u001b[1;32m~\\anaconda3\\lib\\site-packages\\ipykernel\\kernelbase.py\u001b[0m in \u001b[0;36m_input_request\u001b[1;34m(self, prompt, ident, parent, password)\u001b[0m\n\u001b[0;32m   1049\u001b[0m             \u001b[1;32mexcept\u001b[0m \u001b[0mKeyboardInterrupt\u001b[0m\u001b[1;33m:\u001b[0m\u001b[1;33m\u001b[0m\u001b[1;33m\u001b[0m\u001b[0m\n\u001b[0;32m   1050\u001b[0m                 \u001b[1;31m# re-raise KeyboardInterrupt, to truncate traceback\u001b[0m\u001b[1;33m\u001b[0m\u001b[1;33m\u001b[0m\u001b[0m\n\u001b[1;32m-> 1051\u001b[1;33m                 \u001b[1;32mraise\u001b[0m \u001b[0mKeyboardInterrupt\u001b[0m\u001b[1;33m(\u001b[0m\u001b[1;34m\"Interrupted by user\"\u001b[0m\u001b[1;33m)\u001b[0m \u001b[1;32mfrom\u001b[0m \u001b[1;32mNone\u001b[0m\u001b[1;33m\u001b[0m\u001b[1;33m\u001b[0m\u001b[0m\n\u001b[0m\u001b[0;32m   1052\u001b[0m             \u001b[1;32mexcept\u001b[0m \u001b[0mException\u001b[0m\u001b[1;33m:\u001b[0m\u001b[1;33m\u001b[0m\u001b[1;33m\u001b[0m\u001b[0m\n\u001b[0;32m   1053\u001b[0m                 \u001b[0mself\u001b[0m\u001b[1;33m.\u001b[0m\u001b[0mlog\u001b[0m\u001b[1;33m.\u001b[0m\u001b[0mwarning\u001b[0m\u001b[1;33m(\u001b[0m\u001b[1;34m\"Invalid Message:\"\u001b[0m\u001b[1;33m,\u001b[0m \u001b[0mexc_info\u001b[0m\u001b[1;33m=\u001b[0m\u001b[1;32mTrue\u001b[0m\u001b[1;33m)\u001b[0m\u001b[1;33m\u001b[0m\u001b[1;33m\u001b[0m\u001b[0m\n",
      "\u001b[1;31mKeyboardInterrupt\u001b[0m: Interrupted by user"
     ]
    }
   ],
   "source": [
    "game = [['1','2','3'],['4','5','6'],['7','8','9']]\n",
    "\n",
    "\n",
    "        \n",
    "def printBoard(x):\n",
    "    for i,z in enumerate(game, 0):\n",
    "        if i == 0:\n",
    "            print(\"+---+---+---+\")\n",
    "        else:\n",
    "            print(\"| \\n+---+---+---+\")\n",
    "        for y in z:\n",
    "            print(\"|\", \"%s \"%y, end=\"\")\n",
    "    print(\"| \\n+---+---+---+\")\n",
    "        \n",
    "def choice(p1):\n",
    "    row = (p1 - 1) // 3\n",
    "    col = (p1 - 1) % 3\n",
    "    game[row][col] = \"x\"\n",
    "  \n",
    "    \n",
    "    \n",
    "def choice2(p2):\n",
    "    row = (p2 - 1) // 3\n",
    "    col = (p2 - 1) % 3\n",
    "    game[row][col] = \"O\"\n",
    "    \n",
    "\n",
    "printBoard(x)\n",
    "while True:\n",
    "    \n",
    "    print(\"Player[1]님이 말을 놓을 차례입니다.\")\n",
    "    p1 = int(input(\"말 X를 놓을 위치의 번호를 입력하세요 : \"))\n",
    "    if p1 == choice(p1):\n",
    "        print(\"Player[1]님이 말을 놓을 차례입니다.\")\n",
    "    choice(p1)\n",
    "    printBoard(x)\n",
    "    \n",
    "    print(\"Player[2]님이 말을 놓을 차례입니다.\")\n",
    "    p2 = int(input(\"말 O를 놓을 위치의 번호를 입력하세요 : \"))\n",
    "    choice2(p2)\n",
    "    printBoard(x)\n",
    "#     printBoard(x)\n",
    "    \n",
    "#     print(\"Player[2]님이 말을 놓을 차례입니다.\")\n",
    "#     p2 = int(input(\"말 O를 놓을 위치의 번호를 입력하세요 : \"))"
   ]
  },
  {
   "cell_type": "code",
   "execution_count": 260,
   "id": "25fd39d0",
   "metadata": {},
   "outputs": [
    {
     "name": "stdout",
     "output_type": "stream",
     "text": [
      "+---+---+---+\n",
      "| 1 | 2 | 3 |\n",
      "+---+---+---+\n",
      "| 4 | 5 | 6 |\n",
      "+---+---+---+\n",
      "| 7 | 8 | 9 |\n",
      "+---+---+---+\n",
      "** player[1]님이 말을 놓을 차례입니다.\n",
      "**말 X를 놓을 위치의 번호를 입력하세요 :1\n",
      "+---+---+---+\n",
      "| X | 2 | 3 |\n",
      "+---+---+---+\n",
      "| 4 | 5 | 6 |\n",
      "+---+---+---+\n",
      "| 7 | 8 | 9 |\n",
      "+---+---+---+\n",
      "** player[2]님이 말을 놓을 차례입니다.\n",
      "**말 0를 놓을 위치의 번호를 입력하세요 :2\n",
      "+---+---+---+\n",
      "| X | O | 3 |\n",
      "+---+---+---+\n",
      "| 4 | 5 | 6 |\n",
      "+---+---+---+\n",
      "| 7 | 8 | 9 |\n",
      "+---+---+---+\n",
      "** player[1]님이 말을 놓을 차례입니다.\n",
      "**말 X를 놓을 위치의 번호를 입력하세요 :5\n",
      "+---+---+---+\n",
      "| X | O | 3 |\n",
      "+---+---+---+\n",
      "| 4 | X | 6 |\n",
      "+---+---+---+\n",
      "| 7 | 8 | 9 |\n",
      "+---+---+---+\n",
      "** player[2]님이 말을 놓을 차례입니다.\n",
      "**말 0를 놓을 위치의 번호를 입력하세요 :6\n",
      "+---+---+---+\n",
      "| X | O | 3 |\n",
      "+---+---+---+\n",
      "| 4 | X | O |\n",
      "+---+---+---+\n",
      "| 7 | 8 | 9 |\n",
      "+---+---+---+\n",
      "** player[1]님이 말을 놓을 차례입니다.\n",
      "**말 X를 놓을 위치의 번호를 입력하세요 :9\n",
      "+---+---+---+\n",
      "| X | O | 3 |\n",
      "+---+---+---+\n",
      "| 4 | X | O |\n",
      "+---+---+---+\n",
      "| 7 | 8 | X |\n",
      "+---+---+---+\n",
      "player 1님의 승리\n"
     ]
    }
   ],
   "source": [
    "# 쌤 버전\n",
    "\n",
    "board = [[str(i+j) for j in range(3)] for i in range(1,10,3)]\n",
    "#board = [[i+j for j in range(3)]for i in range(1,10,3)]\n",
    "# print(board)\n",
    "\n",
    "def printBoard(board):\n",
    "    print(\"+---+---+---+\")\n",
    "    for row in board:\n",
    "        for col in row:\n",
    "            print(\"| %s \"%col, end=\"\")\n",
    "        print(\"|\\n+---+---+---+\")\n",
    "        \n",
    "# printBoard(board)\n",
    "\n",
    "count = 0 # 전체 반복 횟수 (최대 9번 고정)\n",
    "player = 0 # 플레이어 번호 : 1 or 2\n",
    "winner = 0 # 승리한 플레이어\n",
    "\n",
    "while count < 9  and winner == 0: # 게임 반복 횟수가 9번이 넘으면 종료\n",
    "    printBoard(board)\n",
    "    player = count % 2 + 1 # 항상 1과 2로 떨어짐 -> 1: 플레이어 1 / 2 : 플레이어 2\n",
    "    \n",
    "    while True:\n",
    "        print(\"** player[%d]님이 말을 놓을 차례입니다.\"%player)\n",
    "        choice = int(input(\"**말 %s를 놓을 위치의 번호를 입력하세요 :\"%(\"X\" if player == 1 else \"0\")))\n",
    "        \n",
    "        row = (choice-1) // 3\n",
    "        col = (choice-1) % 3\n",
    "        \n",
    "        if 1 <= choice <= 9 and board[row][col] not in \"XO\": break\n",
    "            \n",
    "    board[row][col] = \"X\" if player == 1 else \"O\"\n",
    "    \n",
    "    # 대각선 방향으로 승리여부 검사\n",
    "    if board[0][0] == board[1][1] == board[2][2] or board[0][2] == board[0][0] == board[2][0]:\n",
    "        winner = player\n",
    "    else:\n",
    "        for i in range(3):\n",
    "            if board[i][0] == board[i][1]==board[i][2] or board[0][i] == board[1][i]==board[2][i]:\n",
    "                winner = player\n",
    "                \n",
    "    count += 1\n",
    "    \n",
    "printBoard(board)\n",
    "\n",
    "if winner == 0:\n",
    "    print(\"무승부\")\n",
    "else:\n",
    "    print(\"player %d님의 승리\"%player)"
   ]
  },
  {
   "cell_type": "markdown",
   "id": "2c3c792d",
   "metadata": {},
   "source": [
    "# [문제] n번째로 큰 수 찾기\n",
    "\n",
    "<pre>\n",
    "사용자로부터 정수를 반복적으로 입력받는다. 반복 입력은 0을 입력하면 종료.\n",
    "이후 검색할 순위를 입력받으면 해당 순위를 갖는 숫자를 출력하되 입력받은 값의 범위를 벗어난 순위를 입력하면 순위를 다시 입력 받는다.\n",
    "\n",
    "예시)\n",
    "    정수를 입력하세요 (종료:0)\n",
    "    5\n",
    "    4\n",
    "    6\n",
    "    2\n",
    "    1\n",
    "    0\n",
    "    검색할 순위: -4\n",
    "    리스트의 범의를 벗어났습니다. 다시 입력하세요.\n",
    "    검색할 순위: 9\n",
    "    리스트의 범의를 벗어났습니다. 다시 입력하세요.\n",
    "    검색할 순위: 1\n",
    "    1번째로 큰 수는 6입니다.\n",
    "</pre>"
   ]
  },
  {
   "cell_type": "code",
   "execution_count": 27,
   "id": "48816460",
   "metadata": {},
   "outputs": [
    {
     "name": "stdout",
     "output_type": "stream",
     "text": [
      "정수를 입력하세요 (종료: 0)\n",
      "5\n",
      "4\n",
      "8\n",
      "7\n",
      "9\n",
      "0\n",
      "[9, 8, 7, 5, 4]\n",
      "검색할 순위: 2\n",
      "2번째로 큰 수는 8입니다\n"
     ]
    }
   ],
   "source": [
    "rank = []\n",
    "\n",
    "print(\"정수를 입력하세요 (종료: 0)\")\n",
    "while True:\n",
    "    inp = int(input())\n",
    "    if inp == 0: break\n",
    "    rank.append(inp)\n",
    "    rank.sort(reverse=True)\n",
    "\n",
    "print(rank)\n",
    "        \n",
    "\n",
    "while True:\n",
    "    search = int(input(\"검색할 순위: \"))\n",
    "    if 0 > search > range(inp):\n",
    "        print(\"리스트의 범위를 벗어났습니다. 다시 입력하세요.\")\n",
    "    else:\n",
    "        break\n",
    "        \n",
    "print(\"%d번째로 큰 수는 %d입니다\"%(search, rank[search-1]))"
   ]
  },
  {
   "cell_type": "code",
   "execution_count": 24,
   "id": "9bfb28be",
   "metadata": {},
   "outputs": [
    {
     "name": "stdout",
     "output_type": "stream",
     "text": [
      "정수를 입력하세요 (종료: 0)\n",
      "5\n",
      "4\n",
      "3\n",
      "2\n",
      "1\n",
      "0\n",
      "검색할 순위: 1\n",
      "1번째로 큰 수는 5입니다\n"
     ]
    }
   ],
   "source": [
    "# 쌤 버전\n",
    "\n",
    "li = list()\n",
    "\n",
    "print(\"정수를 입력하세요 (종료: 0)\")\n",
    "while True:\n",
    "    num = int(input())\n",
    "    if num == 0: break\n",
    "    li.append(num)\n",
    "    \n",
    "li.sort(reverse=True)\n",
    "\n",
    "while True:\n",
    "    rank = int(input(\"검색할 순위: \"))\n",
    "    if 0 < rank < len(li):\n",
    "        break\n",
    "    else:\n",
    "        print(\"리스트의 범위를 벗어났습니다. 다시 입력하세요.\")\n",
    "        \n",
    "print(\"%d번째로 큰 수는 %d입니다\"%(rank, li[rank-1]))"
   ]
  },
  {
   "cell_type": "markdown",
   "id": "f2aa202b",
   "metadata": {},
   "source": [
    "# [문제] 객관식 답안지 채점하기\n",
    "\n",
    "10개의 문항으로 이루어진 객관식 시험문제의 정답과 학생들의 답안을 입력하여 채점 결과를 출력하는 프로그램을 작성하시오.\n",
    "\n",
    "<pre>\n",
    "[실행예시]\n",
    "    정답 입력: 1 2 3 4 1 2 3 4 1 2\n",
    "    성적입력 학생 수: 5\n",
    "    학생 답안 입력 (형식> 이름:답안1 답안2 ... 답안10)\n",
    "    1번 학생: 홍길동: 1 2 2 4 2 2 3 4 1 2\n",
    "         :\n",
    "\n",
    "    [ 학생들 제출 답안 ]\n",
    "    홍길동 : 1 2 2 4 2 2 3 4 1 2 \n",
    "    김철수 : 1 2 3 4 1 1 1 4 1 1 \n",
    "    박자바 : 1 2 3 4 1 2 3 4 1 2 \n",
    "    이파썬 : 1 3 3 3 3 3 3 3 1 2 \n",
    "    최고수 : 1 2 3 4 1 2 3 1 1 2 \n",
    "\n",
    "    [ 채점 결과 ]\n",
    "    학생1 : O O X O X O O O O O (80점)\n",
    "    학생2 : O O O O O X X O O X (70점)\n",
    "    학생3 : O O O O O O O O O O (100점)\n",
    "    학생4 : O X O X X X O X O O (50점)\n",
    "    학생5 : O O O O O O O X O O (90점)\n",
    "</pre>"
   ]
  },
  {
   "cell_type": "code",
   "execution_count": 98,
   "id": "cb2ae375",
   "metadata": {},
   "outputs": [
    {
     "name": "stdout",
     "output_type": "stream",
     "text": [
      "정답 입력 : 1 2 3 4 5\n",
      "1 2 3 4 5\n"
     ]
    },
    {
     "ename": "KeyboardInterrupt",
     "evalue": "Interrupted by user",
     "output_type": "error",
     "traceback": [
      "\u001b[1;31m---------------------------------------------------------------------------\u001b[0m",
      "\u001b[1;31mKeyboardInterrupt\u001b[0m                         Traceback (most recent call last)",
      "\u001b[1;32m~\\AppData\\Local\\Temp/ipykernel_7288/426344642.py\u001b[0m in \u001b[0;36m<module>\u001b[1;34m\u001b[0m\n\u001b[0;32m      3\u001b[0m \u001b[0manswer\u001b[0m \u001b[1;33m=\u001b[0m \u001b[0minput\u001b[0m\u001b[1;33m(\u001b[0m\u001b[1;34m\"정답 입력 : \"\u001b[0m\u001b[1;33m)\u001b[0m\u001b[1;33m\u001b[0m\u001b[1;33m\u001b[0m\u001b[0m\n\u001b[0;32m      4\u001b[0m \u001b[0mprint\u001b[0m\u001b[1;33m(\u001b[0m\u001b[0manswer\u001b[0m\u001b[1;33m)\u001b[0m\u001b[1;33m\u001b[0m\u001b[1;33m\u001b[0m\u001b[0m\n\u001b[1;32m----> 5\u001b[1;33m \u001b[0mstudent\u001b[0m \u001b[1;33m=\u001b[0m \u001b[0mint\u001b[0m\u001b[1;33m(\u001b[0m\u001b[0minput\u001b[0m\u001b[1;33m(\u001b[0m\u001b[1;34m\"성적 입력 학생 수 : \"\u001b[0m\u001b[1;33m)\u001b[0m\u001b[1;33m)\u001b[0m\u001b[1;33m\u001b[0m\u001b[1;33m\u001b[0m\u001b[0m\n\u001b[0m\u001b[0;32m      6\u001b[0m \u001b[0mprint\u001b[0m\u001b[1;33m(\u001b[0m\u001b[1;34m\"학생 답안 입력\"\u001b[0m\u001b[1;33m)\u001b[0m\u001b[1;33m\u001b[0m\u001b[1;33m\u001b[0m\u001b[0m\n\u001b[0;32m      7\u001b[0m \u001b[1;33m\u001b[0m\u001b[0m\n",
      "\u001b[1;32m~\\anaconda3\\lib\\site-packages\\ipykernel\\kernelbase.py\u001b[0m in \u001b[0;36mraw_input\u001b[1;34m(self, prompt)\u001b[0m\n\u001b[0;32m   1004\u001b[0m                 \u001b[1;34m\"raw_input was called, but this frontend does not support input requests.\"\u001b[0m\u001b[1;33m\u001b[0m\u001b[1;33m\u001b[0m\u001b[0m\n\u001b[0;32m   1005\u001b[0m             )\n\u001b[1;32m-> 1006\u001b[1;33m         return self._input_request(\n\u001b[0m\u001b[0;32m   1007\u001b[0m             \u001b[0mstr\u001b[0m\u001b[1;33m(\u001b[0m\u001b[0mprompt\u001b[0m\u001b[1;33m)\u001b[0m\u001b[1;33m,\u001b[0m\u001b[1;33m\u001b[0m\u001b[1;33m\u001b[0m\u001b[0m\n\u001b[0;32m   1008\u001b[0m             \u001b[0mself\u001b[0m\u001b[1;33m.\u001b[0m\u001b[0m_parent_ident\u001b[0m\u001b[1;33m[\u001b[0m\u001b[1;34m\"shell\"\u001b[0m\u001b[1;33m]\u001b[0m\u001b[1;33m,\u001b[0m\u001b[1;33m\u001b[0m\u001b[1;33m\u001b[0m\u001b[0m\n",
      "\u001b[1;32m~\\anaconda3\\lib\\site-packages\\ipykernel\\kernelbase.py\u001b[0m in \u001b[0;36m_input_request\u001b[1;34m(self, prompt, ident, parent, password)\u001b[0m\n\u001b[0;32m   1049\u001b[0m             \u001b[1;32mexcept\u001b[0m \u001b[0mKeyboardInterrupt\u001b[0m\u001b[1;33m:\u001b[0m\u001b[1;33m\u001b[0m\u001b[1;33m\u001b[0m\u001b[0m\n\u001b[0;32m   1050\u001b[0m                 \u001b[1;31m# re-raise KeyboardInterrupt, to truncate traceback\u001b[0m\u001b[1;33m\u001b[0m\u001b[1;33m\u001b[0m\u001b[0m\n\u001b[1;32m-> 1051\u001b[1;33m                 \u001b[1;32mraise\u001b[0m \u001b[0mKeyboardInterrupt\u001b[0m\u001b[1;33m(\u001b[0m\u001b[1;34m\"Interrupted by user\"\u001b[0m\u001b[1;33m)\u001b[0m \u001b[1;32mfrom\u001b[0m \u001b[1;32mNone\u001b[0m\u001b[1;33m\u001b[0m\u001b[1;33m\u001b[0m\u001b[0m\n\u001b[0m\u001b[0;32m   1052\u001b[0m             \u001b[1;32mexcept\u001b[0m \u001b[0mException\u001b[0m\u001b[1;33m:\u001b[0m\u001b[1;33m\u001b[0m\u001b[1;33m\u001b[0m\u001b[0m\n\u001b[0;32m   1053\u001b[0m                 \u001b[0mself\u001b[0m\u001b[1;33m.\u001b[0m\u001b[0mlog\u001b[0m\u001b[1;33m.\u001b[0m\u001b[0mwarning\u001b[0m\u001b[1;33m(\u001b[0m\u001b[1;34m\"Invalid Message:\"\u001b[0m\u001b[1;33m,\u001b[0m \u001b[0mexc_info\u001b[0m\u001b[1;33m=\u001b[0m\u001b[1;32mTrue\u001b[0m\u001b[1;33m)\u001b[0m\u001b[1;33m\u001b[0m\u001b[1;33m\u001b[0m\u001b[0m\n",
      "\u001b[1;31mKeyboardInterrupt\u001b[0m: Interrupted by user"
     ]
    }
   ],
   "source": [
    "cnt = 0\n",
    "stu_list = []\n",
    "answer = input(\"정답 입력 : \")\n",
    "print(answer)\n",
    "student = int(input(\"성적 입력 학생 수 : \"))\n",
    "print(\"학생 답안 입력\")\n",
    "\n",
    "while cnt < student:\n",
    "    cnt += 1\n",
    "    stu_ans = input(\"%d번 학생 : \"%cnt)\n",
    "    stu_list.append(stu_ans)\n",
    "    \n",
    "answer_split = answer.split()\n",
    "\n",
    "print(\"[ 학생들 제출 답안 ]\")\n",
    "for i in range(student):\n",
    "    print(stu_list[i])\n",
    "    \n",
    "\n",
    "#print(stu_list)\n",
    "stu_string = \":\".join(stu_list)\n",
    "print(stu_string)\n",
    "\n",
    "stu_list_srt = stu_string.split(':')\n",
    "print(stu_list_srt)\n",
    "\n",
    "score=[]\n"
   ]
  },
  {
   "cell_type": "code",
   "execution_count": 166,
   "id": "36a8077d",
   "metadata": {},
   "outputs": [
    {
     "name": "stdout",
     "output_type": "stream",
     "text": [
      "정답 입력 : 1 2 3\n",
      "['1', '2', '3']\n",
      "성적 입력 학생 수 : 2\n",
      "학생 답안 입력\n",
      "1번 학생 : a : 1 3 2\n",
      "2번 학생 : b : 4 2 3\n",
      "[ 학생들 제출 답안 ]\n",
      "a  : ['1', '3', '2']\n",
      "b  : ['4', '2', '3']\n",
      "dict_keys(['a ', 'b '])\n",
      "dict_values([['1', '3', '2'], ['4', '2', '3']])\n",
      "[['1', '3', '2'], ['4', '2', '3']]\n",
      "['O', 'O', 'X']\n"
     ]
    }
   ],
   "source": [
    "stu_list = {}\n",
    "sheet = []\n",
    "answer = input(\"정답 입력 : \")\n",
    "sheet = answer.split()\n",
    "\n",
    "print(sheet)\n",
    "\n",
    "student = int(input(\"성적 입력 학생 수 : \"))\n",
    "print(\"학생 답안 입력\")\n",
    "\n",
    "for i in range(1, student+1):\n",
    "    stu_ans = input(\"%d번 학생 : \"%i)\n",
    "    stu_ans_split = stu_ans.split(\":\")\n",
    "    stu_list[stu_ans_split[0]] = stu_ans_split[1].split()\n",
    "\n",
    "# print(stu_list)\n",
    "\n",
    "print(\"[ 학생들 제출 답안 ]\")\n",
    "\n",
    "for name, ans in stu_list.items():\n",
    "    print(name, \":\", ans)\n",
    "    \n",
    "print(stu_list.keys())\n",
    "print(stu_list.values())\n",
    "student_list = list(stu_list.keys())\n",
    "score_list = list(stu_list.values())\n",
    "print(score_list)\n",
    "\n",
    "result = []\n",
    "for x in range(len(sheet)):\n",
    "    for y in range(x):\n",
    "        if sheet[0] == score_list[0][y-0]:\n",
    "            result.append(\"O\")\n",
    "        else:\n",
    "            result.append(\"X\")\n",
    "print(result)"
   ]
  },
  {
   "cell_type": "code",
   "execution_count": 14,
   "id": "ba616390",
   "metadata": {},
   "outputs": [
    {
     "name": "stdout",
     "output_type": "stream",
     "text": [
      "정답 입력: 1 2 3 4 5\n",
      "성적입력 학생 수: 2\n",
      "학생 답안 입력 (형식> 이름:답안1 답안2 ... 답안10)\n",
      "1번 학생:a : 1 2 3 5 4\n",
      "2번 학생:b : 5 1 3 4 5\n",
      "\n",
      "[ 학생들 제출 답안]\n",
      "a  :1 2 3 5 4 \n",
      "b  :5 1 3 4 5 \n",
      "\n",
      "[ 채점 결과 ]\n",
      "a  :O O O X X (30점) b  :X X O O O (30점) "
     ]
    }
   ],
   "source": [
    "# 쌤 버전\n",
    "\n",
    "answer = input(\"정답 입력: \")\n",
    "answer_list = answer.split() # 정답 리스트\n",
    "student_num = int(input(\"성적입력 학생 수: \"))\n",
    "print(\"학생 답안 입력 (형식> 이름:답안1 답안2 ... 답안10)\")\n",
    "s_answer_dic = {} # 학생이 제출한 답안 저장 {이름 : 성적 리스트}\n",
    "result_dic = {} # 최종 채점 결과 저장\n",
    "\n",
    "for i in range(1, student_num+1):\n",
    "    s_answer = input(\"%d번 학생:\"%i)\n",
    "    data = s_answer.split(\":\") # data -> [\"이름\", \"답안1 답안2...\"]\n",
    "    s_answer_dic[data[0]] = data[1].split()\n",
    "    \n",
    "print()\n",
    "print(\"[ 학생들 제출 답안]\")\n",
    "\n",
    "for k,v in s_answer_dic.items():\n",
    "    print(k, \":\", end=\"\")\n",
    "    for a in v:\n",
    "        print(a, end=\" \")\n",
    "    print()\n",
    "    \n",
    "    # 제출 답안과 정답을 비교해 제출 답안의 값을  \"O\" 또는 \"X\"로 변경하여 저장\n",
    "    result_list = []\n",
    "    for an, s_an in zip(answer_list, v): #answer_list: 정답리스트 , v : 학생이 제출한 답안 리스트\n",
    "        result_list.append(\"O\" if an == s_an else \"X\")\n",
    "    score = result_list.count(\"O\")*10\n",
    "    result_list.append(\"(%d점)\"%score)\n",
    "    result_dic[k] = result_list\n",
    "    \n",
    "print()\n",
    "print(\"[ 채점 결과 ]\")\n",
    "for k,v in result_dic.items():\n",
    "    print(k, \":\", end=\"\")\n",
    "    for s in v:\n",
    "        print(s, end=\" \")\n",
    "    print()"
   ]
  },
  {
   "cell_type": "markdown",
   "id": "0ca203b4",
   "metadata": {},
   "source": [
    "# [문제] 야구게임\n",
    "\n",
    "<pre>\n",
    "다음과 같은 규칙에 따라 컴퓨터가 0~9사이의 임의의 정수 3개를 생성한 숫자를 숫자와 순서까지 맞추는 게임 코드를 작성하시오.\n",
    "- 랜덤하게 생성된 3개의 숫자와 플레이어가 입력한 숫자 3개에 대해 순서와 숫자를 비교하여 다음의 결과를 보여준다.\n",
    "  * 숫자는 맞았으나 위치가 다른 경우 맞춘 숫자 개수 만큼 볼로 표현하고 숫자와 순서까지 맞는 경우네는 스트라이크로 표현한다.  \n",
    "  * 게임은 3Strike가 되면 종료되며 시도 횟수를 보여준다.\n",
    "\n",
    "- 다음의 두 가지 함수를 정의하여 구현하나. \n",
    "  * randomNumber(): 0~9 사이의 중복되지 않은 정수 3개를 반환하는  함수\n",
    "  * inputNumber(): 키보드로 0~9사이의 정수를 입력 받아 반환하는 함수 (ValueError 예외처리) \n",
    "\n",
    "************ Baseball Game ****************\n",
    "각각의 입력범위는 (0~9)입니다....\n",
    "자 준비됐습니까? 지금부터 게임을 시작합니다.\n",
    "********************************************\n",
    "첫번째 값 : 1\n",
    "두번째 값 : 2\n",
    "세번째 값 : 3\n",
    "count : 1  : 현재 입력하신 내용에 대한 결과는 1Strike, 0ball 입니다.\n",
    "첫번째 값 : 4\n",
    "두번째 값 : 5\n",
    "세번째 값 : 6\n",
    "count : 2  : 현재 입력하신 내용에 대한 결과는 0Strike, 1ball 입니다.\n",
    "첫번째 값 : 1\n",
    "두번째 값 : 7\n",
    "세번째 값 : 5\n",
    "count : 3  : 현재 입력하신 내용에 대한 결과는 3Strike, 0ball 입니다.\n",
    "축하합니다! 총 3번 만에 성공하셨습니다.\n",
    "</pre>"
   ]
  },
  {
   "cell_type": "code",
   "execution_count": 142,
   "id": "b6faf73c",
   "metadata": {},
   "outputs": [
    {
     "name": "stdout",
     "output_type": "stream",
     "text": [
      "************ Baseball Game ****************\n",
      "각각의 입력범위는 (0~9)입니다....\n",
      "자 준비됐습니까? 지금부터 게임을 시작합니다.\n",
      "********************************************\n",
      "[8, 1, 3]\n",
      "1번째 값: 8\n",
      "2번째 값: 1\n",
      "3번째 값: 3\n",
      "count1 : 현재 입력하신 내용에 대한 결과는 3strike\n"
     ]
    }
   ],
   "source": [
    "import random\n",
    "my_num = []\n",
    "\n",
    "def randomNumber():\n",
    "    ball = set()\n",
    "    while True:\n",
    "        ball.add(random.randint(1,9))\n",
    "        if len(ball) == 3: break\n",
    "    print(list(ball))\n",
    "    return(list(ball))\n",
    "\n",
    "    \n",
    "def inputNumber(num):\n",
    "    my_num=[]\n",
    "    try:\n",
    "        for i in range(1,4):\n",
    "            num = int(input(\"%d번째 값: \"%i))\n",
    "            if num >= 10:\n",
    "                print(\"1~9사이의 숫자만 입력 가능합니다.\")\n",
    "                inputNumber(num)\n",
    "            else:\n",
    "                my_num.append(num)\n",
    "        return(my_num)\n",
    "        \n",
    "    except ValueError:\n",
    "        print(\"숫자만 입력 가능합니다.\")\n",
    "        inputNumber(num)\n",
    "\n",
    "        \n",
    "# randomNumber()\n",
    "\n",
    "# inputNumber(a)\n",
    "\n",
    "\n",
    "print(\"************ Baseball Game ****************\")\n",
    "print(\"각각의 입력범위는 (0~9)입니다....\")\n",
    "print(\"자 준비됐습니까? 지금부터 게임을 시작합니다.\")\n",
    "print(\"********************************************\")\n",
    "\n",
    "\n",
    "ran_num = randomNumber()\n",
    "my_list = []\n",
    "cnt = 0\n",
    "result = [\"1strike\", \"2strike\", \"3strike\", \"1ball\", \"2ball\", \"3ball\"]\n",
    "\n",
    "while True:\n",
    "    \n",
    "    cnt = cnt+1\n",
    "    my_list = inputNumber(a)\n",
    "    \n",
    "    if ran_num == my_list:\n",
    "        print(\"count%s : 현재 입력하신 내용에 대한 결과는 %s\"%(cnt, result[2]))\n",
    "        break\n",
    "\n",
    "    \n"
   ]
  },
  {
   "cell_type": "code",
   "execution_count": 148,
   "id": "34eacde4",
   "metadata": {},
   "outputs": [
    {
     "name": "stdout",
     "output_type": "stream",
     "text": [
      "************ Baseball Game ****************\n",
      "각각의 입력범위는 (0~9)입니다....\n",
      "자 준비됐습니까? 지금부터 게임을 시작합니다.\n",
      "********************************************\n",
      "첫 번째 값1\n",
      "두 번째 값5\n",
      "세 번째 값6\n",
      "count: 1, 현재 입력하신 내용에 대한 결과는 0strike, 0ball 입니다.\n",
      "첫 번째 값8\n",
      "두 번째 값9\n",
      "세 번째 값3\n",
      "count: 2, 현재 입력하신 내용에 대한 결과는 0strike, 1ball 입니다.\n",
      "첫 번째 값0\n",
      "두 번째 값3\n",
      "세 번째 값7\n",
      "count: 3, 현재 입력하신 내용에 대한 결과는 1strike, 1ball 입니다.\n",
      "첫 번째 값3\n",
      "두 번째 값0\n",
      "세 번째 값6\n",
      "count: 4, 현재 입력하신 내용에 대한 결과는 0strike, 1ball 입니다.\n",
      "첫 번째 값4\n",
      "두 번째 값3\n",
      "세 번째 값7\n",
      "count: 5, 현재 입력하신 내용에 대한 결과는 0strike, 1ball 입니다.\n",
      "첫 번째 값3\n",
      "두 번째 값8\n",
      "세 번째 값2\n",
      "count: 6, 현재 입력하신 내용에 대한 결과는 0strike, 0ball 입니다.\n",
      "첫 번째 값0\n",
      "두 번째 값7\n",
      "세 번째 값1\n",
      "count: 7, 현재 입력하신 내용에 대한 결과는 2strike, 0ball 입니다.\n",
      "첫 번째 값0\n",
      "두 번째 값7\n",
      "세 번째 값4\n",
      "count: 8, 현재 입력하신 내용에 대한 결과는 2strike, 0ball 입니다.\n",
      "첫 번째 값0\n",
      "두 번째 값7\n",
      "세 번째 값9\n",
      "count: 9, 현재 입력하신 내용에 대한 결과는 3strike, 0ball 입니다.\n",
      "축하합니다 총 9번 만에 성공했습니다.\n"
     ]
    }
   ],
   "source": [
    "# 쌤 버전\n",
    "\n",
    "def randomNumbers():\n",
    "    n = range(10)\n",
    "    return random.sample(n,3)\n",
    "\n",
    "def inputNumber():\n",
    "    n = 0\n",
    "    try:\n",
    "        while True:\n",
    "            n = int(input())\n",
    "            if 0<= n <=9:\n",
    "                break\n",
    "            else:\n",
    "                print(\"0~9 사이의 값만 입력하세요\", end=\"\")\n",
    "    except ValueError as e:\n",
    "        print(\"0~9 사이의 숫자만 입력하세요: \", end=\"\")\n",
    "        n = inputNumber()\n",
    "        \n",
    "    return n\n",
    "\n",
    "\n",
    "print(\"************ Baseball Game ****************\")\n",
    "print(\"각각의 입력범위는 (0~9)입니다....\")\n",
    "print(\"자 준비됐습니까? 지금부터 게임을 시작합니다.\")\n",
    "print(\"********************************************\")\n",
    "\n",
    "count = 0 # 시도횟수\n",
    "strike = 0\n",
    "ball = 0\n",
    "randNums = randomNumbers() # 컴퓨터가 만들어낸 랜덤 숫자\n",
    "\n",
    "while True:\n",
    "    count+=1\n",
    "    inputNums = [] # 사용자로부터 입력 받은 정수 3개를 저장\n",
    "    order = [\"첫\", \"두\", \"세\"]\n",
    "    i = 0\n",
    "    \n",
    "    while i<=2:\n",
    "        print(\"%s 번째 값 : \"%order[i], end=\"\")\n",
    "        n = inputNumber()\n",
    "        if n not in inputNums:\n",
    "            inputNums.append(n)\n",
    "            i += 1\n",
    "            \n",
    "    for i in range(len(randNums)):\n",
    "        for j in range(len(inputNums)):\n",
    "            if randNums[i] == inputNums[j] and i == j: # i와 j의 위치와 값이 맞으면 strike\n",
    "                strike +=1\n",
    "            elif randNums[i] == inputNums[j]: # i와 j의 값만 맞으면 ball\n",
    "                ball += 1\n",
    "                \n",
    "    print(\"count: %d, 현재 입력하신 내용에 대한 결과는 %dstrike, %dball 입니다.\"%(count,strike,ball))\n",
    "          \n",
    "    if strike == 3:\n",
    "        print(\"축하합니다 총 %d번 만에 성공했습니다.\"%count)\n",
    "        break\n",
    "          \n",
    "    strike = 0\n",
    "    ball = 0"
   ]
  },
  {
   "cell_type": "code",
   "execution_count": null,
   "id": "460d55fa",
   "metadata": {},
   "outputs": [],
   "source": []
  }
 ],
 "metadata": {
  "kernelspec": {
   "display_name": "Python 3 (ipykernel)",
   "language": "python",
   "name": "python3"
  },
  "language_info": {
   "codemirror_mode": {
    "name": "ipython",
    "version": 3
   },
   "file_extension": ".py",
   "mimetype": "text/x-python",
   "name": "python",
   "nbconvert_exporter": "python",
   "pygments_lexer": "ipython3",
   "version": "3.9.7"
  },
  "toc": {
   "base_numbering": 1,
   "nav_menu": {},
   "number_sections": true,
   "sideBar": true,
   "skip_h1_title": false,
   "title_cell": "Table of Contents",
   "title_sidebar": "Contents",
   "toc_cell": false,
   "toc_position": {
    "height": "calc(100% - 180px)",
    "left": "10px",
    "top": "150px",
    "width": "165px"
   },
   "toc_section_display": true,
   "toc_window_display": true
  }
 },
 "nbformat": 4,
 "nbformat_minor": 5
}
