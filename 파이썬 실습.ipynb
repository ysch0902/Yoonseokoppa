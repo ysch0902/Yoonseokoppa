{
 "cells": [
  {
   "cell_type": "markdown",
   "id": "c5b4afea",
   "metadata": {},
   "source": [
    "# Extension 설치하기\n",
    "- extension 라이브러리 설치: pip install jupyter_contrib_nbextensions\n",
    "- ectension 라이브러리 적용: jupyter contrib nbextension install --user"
   ]
  },
  {
   "cell_type": "markdown",
   "id": "e777f307",
   "metadata": {},
   "source": [
    "# 주석문\n",
    "- **주석**은 코드의 실행과 `무관한` 문장을 기록하기 위한 <b>기능</b>"
   ]
  },
  {
   "cell_type": "code",
   "execution_count": 8,
   "id": "52beb6ae",
   "metadata": {},
   "outputs": [
    {
     "name": "stdout",
     "output_type": "stream",
     "text": [
      "\"문자열\"\n",
      "동해물과 백두산이 마르고 닳도록 \n",
      "하느님이 보우하사 우리나라 만세\n"
     ]
    }
   ],
   "source": [
    "#  주석처리\n",
    "s1 = \"문자열\"\n",
    "s2 = '문자열'\n",
    "s3 = '\"문자열\"'\n",
    "print(s3)\n",
    "s4 = \"\"\"동해물과 백두산이 마르고 닳도록 \n",
    "하느님이 보우하사 우리나라 만세\"\"\"\n",
    "print(s4)"
   ]
  },
  {
   "cell_type": "markdown",
   "id": "268ea589",
   "metadata": {},
   "source": [
    "# 연산자와 데이터"
   ]
  },
  {
   "cell_type": "code",
   "execution_count": 14,
   "id": "d31ede85",
   "metadata": {},
   "outputs": [
    {
     "name": "stdout",
     "output_type": "stream",
     "text": [
      "0.2857142857142857\n",
      "0\n",
      "3\n"
     ]
    }
   ],
   "source": [
    "# 산술 연산자\n",
    "a = 10\n",
    "b = 35\n",
    "\n",
    "print(a/b)\n",
    "print(a//b)\n",
    "print(b//a)"
   ]
  },
  {
   "cell_type": "code",
   "execution_count": 17,
   "id": "61ebf884",
   "metadata": {},
   "outputs": [
    {
     "name": "stdout",
     "output_type": "stream",
     "text": [
      "사과10\n"
     ]
    }
   ],
   "source": [
    "# + 연산자: 문자열 결합. 단! 숫자와 문자열 결합은 불가능\n",
    "c = \"사과\"\n",
    "d= 10\n",
    "print(c+str(d))"
   ]
  },
  {
   "cell_type": "code",
   "execution_count": 18,
   "id": "18b6f30a",
   "metadata": {},
   "outputs": [
    {
     "name": "stdout",
     "output_type": "stream",
     "text": [
      "hahahahaha\n"
     ]
    }
   ],
   "source": [
    "# 문자열 반복: *\n",
    "e = 'ha'\n",
    "print(e*5)"
   ]
  },
  {
   "cell_type": "code",
   "execution_count": 21,
   "id": "e9c275c2",
   "metadata": {},
   "outputs": [
    {
     "name": "stdout",
     "output_type": "stream",
     "text": [
      "16581.375\n"
     ]
    }
   ],
   "source": [
    "# 거듭제곱 연산자: **\n",
    "f = 25.5\n",
    "print(f**3)"
   ]
  },
  {
   "cell_type": "code",
   "execution_count": 22,
   "id": "adf4e444",
   "metadata": {},
   "outputs": [
    {
     "name": "stdout",
     "output_type": "stream",
     "text": [
      "False\n",
      "True\n"
     ]
    }
   ],
   "source": [
    "# 논리 연산자: and, or\n",
    "\n",
    "x = True\n",
    "y = False\n",
    "\n",
    "print(x and y)\n",
    "print(x or y)"
   ]
  },
  {
   "cell_type": "code",
   "execution_count": 23,
   "id": "9f7b5097",
   "metadata": {},
   "outputs": [
    {
     "name": "stdout",
     "output_type": "stream",
     "text": [
      "True\n"
     ]
    }
   ],
   "source": [
    "# 비교연산\n",
    "\n",
    "n = 5\n",
    "print(0<=n<=10)"
   ]
  },
  {
   "cell_type": "code",
   "execution_count": 31,
   "id": "5ece250f",
   "metadata": {},
   "outputs": [
    {
     "name": "stdout",
     "output_type": "stream",
     "text": [
      "10 20\n",
      "10,20\n",
      "10 20\n"
     ]
    }
   ],
   "source": [
    "a = 10\n",
    "b = 20\n",
    "\n",
    "print(a,b)\n",
    "print(a,b, sep =',')\n",
    "print(a, end=' ') # end 파라미터의 기본 값은 '\\n'이 사용된다.\n",
    "print(b)"
   ]
  },
  {
   "cell_type": "markdown",
   "id": "e07a16c4",
   "metadata": {},
   "source": [
    "# 표준 입출력"
   ]
  },
  {
   "cell_type": "code",
   "execution_count": 33,
   "id": "a4afe300",
   "metadata": {},
   "outputs": [
    {
     "name": "stdout",
     "output_type": "stream",
     "text": [
      "밑변을 입력:10\n",
      "높이를 입력:20\n",
      "10 20 넓이는: 200\n"
     ]
    }
   ],
   "source": [
    "a = int(input(\"밑변을 입력:\"))\n",
    "b = int(input(\"높이를 입력:\"))\n",
    "print(a,b, \"넓이는:\", a*b)"
   ]
  },
  {
   "cell_type": "markdown",
   "id": "4a6a6b2a",
   "metadata": {},
   "source": [
    "# 제어문"
   ]
  },
  {
   "cell_type": "markdown",
   "id": "a9851b80",
   "metadata": {},
   "source": [
    "## if문 "
   ]
  },
  {
   "cell_type": "code",
   "execution_count": 42,
   "id": "25801740",
   "metadata": {},
   "outputs": [
    {
     "name": "stdout",
     "output_type": "stream",
     "text": [
      "숫자 타입의 점수 입력:95\n",
      "합격\n"
     ]
    }
   ],
   "source": [
    "score = float(input(\"숫자 타입의 점수 입력:\"))\n",
    "\n",
    "if score >= 90:\n",
    "    print(\"합격\")\n",
    "elif 70 <= score <= 90:\n",
    "    print(\"재시험\")\n",
    "else:\n",
    "    print(\"탈락\")"
   ]
  },
  {
   "cell_type": "code",
   "execution_count": 38,
   "id": "772fc7ea",
   "metadata": {},
   "outputs": [
    {
     "name": "stdout",
     "output_type": "stream",
     "text": [
      "아침인사 입니다.\n"
     ]
    }
   ],
   "source": [
    "sayHello = \"good morning\"\n",
    "\n",
    "if sayHello == \"good morning\":\n",
    "    print(\"아침인사 입니다.\")\n",
    "else:\n",
    "    print(\"아침인사가 아닙니다.\")"
   ]
  },
  {
   "cell_type": "code",
   "execution_count": 39,
   "id": "bf1c815c",
   "metadata": {},
   "outputs": [
    {
     "name": "stdout",
     "output_type": "stream",
     "text": [
      "문자열이 비어있지 않습니다.\n"
     ]
    }
   ],
   "source": [
    "notEmptyString = \"test\"\n",
    "\n",
    "if notEmptyString:\n",
    "    print(\"문자열이 비어있지 않습니다.\")\n",
    "else:\n",
    "    print(\"문자열이 비어있습니다\")"
   ]
  },
  {
   "cell_type": "code",
   "execution_count": 45,
   "id": "55fc6b48",
   "metadata": {},
   "outputs": [
    {
     "name": "stdout",
     "output_type": "stream",
     "text": [
      "짝수\n"
     ]
    }
   ],
   "source": [
    "i = 10\n",
    "if not i%2: # i%2의 값이 0이면 (짝수) False이기 때문에 not을 붙여서 True로 변환\n",
    "    print(\"짝수\")\n",
    "else:\n",
    "    print(\"홀수\")"
   ]
  },
  {
   "cell_type": "markdown",
   "id": "4f3a9592",
   "metadata": {},
   "source": [
    "## [문제-1] 정수 하나를 입력 받아 5의 배수인지 조사하여 그 결과를 출력하라."
   ]
  },
  {
   "cell_type": "code",
   "execution_count": 51,
   "id": "acded0bd",
   "metadata": {},
   "outputs": [
    {
     "name": "stdout",
     "output_type": "stream",
     "text": [
      "정수를 입력하세요 : 50\n",
      "5의 배수입니다.\n"
     ]
    }
   ],
   "source": [
    "a = int(input(\"정수를 입력하세요 : \"))\n",
    "if not a%5:\n",
    "    print(\"5의 배수입니다.\")\n",
    "else:\n",
    "    print(\"5의 배수가 아닙니다\")"
   ]
  },
  {
   "cell_type": "markdown",
   "id": "2bd1b052",
   "metadata": {},
   "source": [
    "## [문제-2] 화폐단위 계산\n",
    "<pre>\n",
    "사용자로부터 금액을 입력 받아 화폐의 개수를 출력하는 프로그램을 작성하세요\n",
    "조건) 화폐의 종류: 만원, 천원, 백원, 십원 (일원 단위는 절사)\n",
    "\n",
    "<실행 예>\n",
    "금액을 입력하세요: 45630\n",
    "만원 : 4개\n",
    "천원 : 5개\n",
    "백원 : 6개\n",
    "십원 : 3개\n",
    "<pre/>"
   ]
  },
  {
   "cell_type": "code",
   "execution_count": 64,
   "id": "603d610b",
   "metadata": {},
   "outputs": [
    {
     "name": "stdout",
     "output_type": "stream",
     "text": [
      "금액을 입력하세요 : 45698\n",
      "만원권 : 4 장  천원권 : 4 장   백원 : 6 개   십원 : 9 개\n"
     ]
    }
   ],
   "source": [
    "x = int(input(\"금액을 입력하세요 : \"))\n",
    "\n",
    "\n",
    "m10000 = x // 10000\n",
    "m1000 = (x%10000) // 1000\n",
    "m100 = (x%1000) // 100\n",
    "m10 = (x%100) // 10\n",
    "\n",
    "print(\"만원권 :\", m10000,\"장  \" \"천원권 :\", m10000,\"장  \", \"백원 :\", m100,\"개  \", \"십원 :\", m10,\"개\")"
   ]
  },
  {
   "cell_type": "markdown",
   "id": "4aed73ab",
   "metadata": {},
   "source": [
    "# 삼항 연산자\n",
    "- 형식: True일때 선택 값 if 조건식 else False일때 선택 값 "
   ]
  },
  {
   "cell_type": "code",
   "execution_count": 65,
   "id": "c12dc53f",
   "metadata": {},
   "outputs": [
    {
     "name": "stdout",
     "output_type": "stream",
     "text": [
      "a와 b는 같지 않다\n"
     ]
    }
   ],
   "source": [
    "a = 10\n",
    "b = 20\n",
    "result = \"a와 b는 같지 않다\" if a != b else \"a와 b는 같다\"\n",
    "print(result)"
   ]
  },
  {
   "cell_type": "markdown",
   "id": "236b4679",
   "metadata": {},
   "source": [
    "## [문제-3] 대도시 여부 판단\n",
    "<pre>\n",
    "\n",
    "[판단 조건]\n",
    "수도면서 인구가 100만 이상인 도시\n",
    "또는 부자가 200만 이상인 도시\n",
    "\n",
    "[실행예시]\n",
    "수도입니까? (수도: 1, 수도아님:0) 1\n",
    "인구 (단위: 만) 150\n",
    "부자의 수 (단위: 만) 50\n",
    "대도시 여부 : True\n",
    "</pre>"
   ]
  },
  {
   "cell_type": "code",
   "execution_count": 79,
   "id": "e2784fd0",
   "metadata": {},
   "outputs": [
    {
     "name": "stdout",
     "output_type": "stream",
     "text": [
      "수도입니까? (수도:1, 수도아님:0)1\n",
      "인구(단위:만)789\n",
      "부자의 수(단위:만)569\n",
      "대도시 여부:  True\n"
     ]
    }
   ],
   "source": [
    "a = input(\"수도입니까? (수도:1, 수도아님:0)\")\n",
    "b = int(input(\"인구(단위:만)\"))\n",
    "c = int(input(\"부자의 수(단위:만)\"))\n",
    "\n",
    "수도 = True if (a == \"1\" and b >= 100) or c >= 200 else False\n",
    "print(\"대도시 여부: \", 수도)\n",
    "\n"
   ]
  },
  {
   "cell_type": "markdown",
   "id": "8ecc58a6",
   "metadata": {},
   "source": [
    "# 반복문"
   ]
  },
  {
   "cell_type": "code",
   "execution_count": 4,
   "id": "34085019",
   "metadata": {},
   "outputs": [
    {
     "name": "stdout",
     "output_type": "stream",
     "text": [
      "1 2 3 4 5 End\n"
     ]
    }
   ],
   "source": [
    "c = 1\n",
    "while c <= 5:\n",
    "    print(c, end=\" \") # end 파라미터에 공백 넣으면 줄 바꿈 없이 옆으로 나열해서 출력 / end 파라미터 빼면 밑으로 출력\n",
    "    c += 1 # c++ 증가 연산자 사용불가\n",
    "    \n",
    "print(\"End\")"
   ]
  },
  {
   "cell_type": "code",
   "execution_count": 5,
   "id": "4122f033",
   "metadata": {},
   "outputs": [
    {
     "name": "stdout",
     "output_type": "stream",
     "text": [
      "55\n"
     ]
    }
   ],
   "source": [
    "sum = 0\n",
    "\n",
    "# for 변수 in 리스트 (or 튜플, 문자열)\n",
    "for i in range(1, 11):\n",
    "    sum += i\n",
    "print(sum)"
   ]
  },
  {
   "cell_type": "code",
   "execution_count": 8,
   "id": "cfaf2822",
   "metadata": {},
   "outputs": [
    {
     "name": "stdout",
     "output_type": "stream",
     "text": [
      "영어 단어를 입력하세요(종료: q):sdq\n",
      "SDQ\n",
      "영어 단어를 입력하세요(종료: q):Q\n",
      "Q\n",
      "영어 단어를 입력하세요(종료: q):q\n",
      "End\n"
     ]
    }
   ],
   "source": [
    "while True:\n",
    "    s = input(\"영어 단어를 입력하세요(종료: q):\")\n",
    "    if s == 'q': break\n",
    "    print(s.upper())\n",
    "    \n",
    "print(\"End\")\n",
    "        "
   ]
  },
  {
   "cell_type": "code",
   "execution_count": 40,
   "id": "c6e08802",
   "metadata": {},
   "outputs": [
    {
     "name": "stdout",
     "output_type": "stream",
     "text": [
      "I, ,h,a,v,e, ,a, ,D,r,e,a,m,!,"
     ]
    }
   ],
   "source": [
    "# python에서 문자열은 list 객체로 관리\n",
    "for s in \"I have a Dream!\":\n",
    "    print(s, end=\",\")"
   ]
  },
  {
   "cell_type": "code",
   "execution_count": 19,
   "id": "0d1be278",
   "metadata": {},
   "outputs": [
    {
     "name": "stdout",
     "output_type": "stream",
     "text": [
      "[3, 6, 9, 12]\n"
     ]
    }
   ],
   "source": [
    "# 자바스타일의 코딩\n",
    "\n",
    "a = [1,2,3,4] # a는 list 객체 (가변적이며, 동일한 데이터 타입의 집합)\n",
    "result = []  # 리스트 객체 선언\n",
    "for i in a:\n",
    "    result.append(i*3) # append()는 리스트 객체에 요소 값을 추가하는 함수\n",
    "print(result)"
   ]
  },
  {
   "cell_type": "code",
   "execution_count": 21,
   "id": "d2af9a8e",
   "metadata": {},
   "outputs": [
    {
     "name": "stdout",
     "output_type": "stream",
     "text": [
      "[3, 6, 9, 12]\n"
     ]
    }
   ],
   "source": [
    "# list comprehension\n",
    "\n",
    "a = [1,2,3,4]\n",
    "result = [i*3 for i in a] # for의 왼쪽에는 문장이 올수 없음 (표현식만 가능)\n",
    "print(result)"
   ]
  },
  {
   "cell_type": "code",
   "execution_count": 28,
   "id": "9a6e3661",
   "metadata": {},
   "outputs": [
    {
     "name": "stdout",
     "output_type": "stream",
     "text": [
      "[6, 12]\n"
     ]
    }
   ],
   "source": [
    "# list comprehension with if\n",
    "\n",
    "a = [1,2,3,4]\n",
    "result = [i*3 for i in a if not i%2]  # 해석순서 -> 1번: for문, 2번: if 문, 3번: 표현식\n",
    "print(result)"
   ]
  },
  {
   "cell_type": "code",
   "execution_count": 29,
   "id": "895732b8",
   "metadata": {},
   "outputs": [
    {
     "name": "stdout",
     "output_type": "stream",
     "text": [
      "i= 0 j= 0\n",
      "i= 0 j= 1\n",
      "i= 0 j= 2\n",
      "i= 0 j= 3\n",
      "i= 0 j= 4\n",
      "i= 1 j= 0\n",
      "i= 1 j= 1\n",
      "i= 1 j= 2\n",
      "i= 1 j= 3\n",
      "i= 1 j= 4\n",
      "i= 2 j= 0\n",
      "i= 2 j= 1\n",
      "i= 2 j= 2\n",
      "i= 2 j= 3\n",
      "i= 2 j= 4\n",
      "i= 3 j= 0\n",
      "i= 3 j= 1\n",
      "i= 3 j= 2\n",
      "i= 3 j= 3\n",
      "i= 3 j= 4\n",
      "i= 4 j= 0\n",
      "i= 4 j= 1\n",
      "i= 4 j= 2\n",
      "i= 4 j= 3\n",
      "i= 4 j= 4\n"
     ]
    }
   ],
   "source": [
    "# 2중 for문\n",
    "\n",
    "for i in range(5):\n",
    "    for j in range(5):\n",
    "        print(\"i=\",i, \"j=\", j)"
   ]
  },
  {
   "cell_type": "markdown",
   "id": "42635295",
   "metadata": {},
   "source": [
    "## [문제-4] ---------+---------+---------+---------+---------+ 문자열 만들기"
   ]
  },
  {
   "cell_type": "code",
   "execution_count": 39,
   "id": "3f70a8f3",
   "metadata": {},
   "outputs": [
    {
     "name": "stdout",
     "output_type": "stream",
     "text": [
      "---------+---------+---------+---------+---------+"
     ]
    }
   ],
   "source": [
    "\n",
    "for a in range(5):\n",
    "    print(\"-\"*9, end=\"\")\n",
    "    print(\"+\", end=\"\")\n",
    "    "
   ]
  },
  {
   "cell_type": "markdown",
   "id": "da3a853c",
   "metadata": {},
   "source": [
    "## [문제-5] 합계 구하기\n",
    "정수를 입력받아 1부터 입력 받은 정수까지의 합을 구하여 출력\n",
    "단, 반복문은 while일 이용할 것"
   ]
  },
  {
   "cell_type": "code",
   "execution_count": 53,
   "id": "6896c530",
   "metadata": {},
   "outputs": [
    {
     "name": "stdout",
     "output_type": "stream",
     "text": [
      "정수를 입력하세요: 456\n",
      "1 ~ 456 까지의 합: 104196\n"
     ]
    }
   ],
   "source": [
    "sum = 0 # 전체 합계를 저장\n",
    "cnt = 0 # 반복 횟수\n",
    "\n",
    "num = int(input(\"정수를 입력하세요: \"))\n",
    "\n",
    "while cnt <= num:\n",
    "    sum += cnt\n",
    "    cnt += 1\n",
    "print(1, \"~\", num, \"까지의 합:\", sum)"
   ]
  },
  {
   "cell_type": "markdown",
   "id": "f395216c",
   "metadata": {},
   "source": [
    "## [문제-6] BMI 측정 프로그램\n",
    "<pre>\n",
    "키와 몸무게를 입력받아 BMI 측정 결과를 출력하는 프로그램을 작성하세용\n",
    "\n",
    "[실행예시]\n",
    "> 키를 입력하세요(cm) : 170\n",
    "> 몸무게를 입력하세요(kg) : 85\n",
    "> 당신의 BMI는 비만 1단계 입니다.\n",
    "\n",
    "[BMI 계산식]\n",
    "BMI = 몸무게 / 키의 제곱\n",
    "* BMI 비만도 판단 결과 지표\n",
    "18.5 미만: 저체중\n",
    "18.5 ~ 22.9: 정상체중\n",
    "23 ~ 29.9: 비만\n",
    "29.9 초과: 과체중\n",
    "</pre>"
   ]
  },
  {
   "cell_type": "code",
   "execution_count": 67,
   "id": "0a7d77fb",
   "metadata": {},
   "outputs": [
    {
     "name": "stdout",
     "output_type": "stream",
     "text": [
      "> 키를 입력하세요(cm): 175\n",
      "> 몸무게를 입력하세요(kg): 88\n",
      "비만\n"
     ]
    }
   ],
   "source": [
    "hei = float(input(\"> 키를 입력하세요(cm): \"))\n",
    "wei = float(input(\"> 몸무게를 입력하세요(kg): \"))\n",
    "\n",
    "if wei//(hei*0.01)**2 < 18:\n",
    "    print(\"저체중\")\n",
    "elif 18.5 < wei//(hei*0.01)**2 <= 22.9:\n",
    "    print(\"정상체중\")\n",
    "elif 22.9 < wei//(hei*0.01)**2 <= 29.9:\n",
    "    print(\"비만\")\n",
    "else:\n",
    "    print(\"파오후\")"
   ]
  },
  {
   "cell_type": "markdown",
   "id": "73c62218",
   "metadata": {},
   "source": [
    "# 문자열 처리"
   ]
  },
  {
   "cell_type": "code",
   "execution_count": 9,
   "id": "650a2b23",
   "metadata": {},
   "outputs": [
    {
     "name": "stdout",
     "output_type": "stream",
     "text": [
      "학교종이 땡땡땡\n",
      "학\n",
      "땡\n",
      "학 교 종 이   땡 땡 땡 "
     ]
    }
   ],
   "source": [
    "mystr = \"학교종이 땡땡땡\"\n",
    "print(mystr)\n",
    "print(mystr[0])\n",
    "print(mystr[-1])\n",
    "# mystr[1] = '원'\n",
    "mystr[1]\n",
    "\n",
    "for i in mystr:\n",
    "    print(i, end=\" \")"
   ]
  },
  {
   "cell_type": "code",
   "execution_count": 10,
   "id": "6ecf2a28",
   "metadata": {},
   "outputs": [
    {
     "name": "stdout",
     "output_type": "stream",
     "text": [
      "I say \"Help\" to you\n"
     ]
    }
   ],
   "source": [
    "hello = 'I say \"Help\" to you'\n",
    "print(hello)"
   ]
  },
  {
   "cell_type": "markdown",
   "id": "0587ab45",
   "metadata": {},
   "source": [
    "## [문제-7] 파일 이름 슬라이스\n",
    "<pre>\n",
    "\n",
    "* 파일이름  : 20220408-091622.jpg\n",
    "[출력결과]\n",
    "촬영날짜 : 2022년 4월 08일\n",
    "촬영시간 : 09시 16분\n",
    "확장자: jpg\n",
    "</pre>"
   ]
  },
  {
   "cell_type": "code",
   "execution_count": 36,
   "id": "30f6cfc8",
   "metadata": {},
   "outputs": [
    {
     "name": "stdout",
     "output_type": "stream",
     "text": [
      "촬영날짜: 2022 년 4 월 8 일\n",
      "촬영시간: 09 시 16 분\n",
      "확장자: jpg\n"
     ]
    }
   ],
   "source": [
    "fname = '20220408-091622.jpg'\n",
    "\n",
    "print(\"촬영날짜:\", fname[0:4],\"년\", fname[5:6], \"월\", fname[7:8], \"일\")\n",
    "print(\"촬영시간:\", fname[9:11],\"시\", fname[11:13], \"분\")\n",
    "# print(\"확장자:\", fname[16:19])\n",
    "print(\"확장자:\", fname[-3:])\n",
    "\n",
    "# 앞에서 자르기는 0부터 시작 / 뒤에서 부터 자르기는 1부터 시작"
   ]
  },
  {
   "cell_type": "code",
   "execution_count": 31,
   "id": "23916fa0",
   "metadata": {},
   "outputs": [
    {
     "name": "stdout",
     "output_type": "stream",
     "text": [
      "olleh\n"
     ]
    }
   ],
   "source": [
    "# 문자열 뒤집기\n",
    "str = \"hello\" # olleh로 출력\n",
    "\n",
    "print(str[::-1])"
   ]
  },
  {
   "cell_type": "markdown",
   "id": "a887f03d",
   "metadata": {},
   "source": [
    "# 문자열 함수"
   ]
  },
  {
   "cell_type": "code",
   "execution_count": 38,
   "id": "f27ca062",
   "metadata": {},
   "outputs": [
    {
     "name": "stdout",
     "output_type": "stream",
     "text": [
      "9\n"
     ]
    }
   ],
   "source": [
    "s = \"\"\"생각이란 생각할수록 생각나므로\n",
    "생각하지 말아야 할 생각은 생각하지 않으려고 하는 생각이\n",
    "옳은 생각이라고 생각합니다.\"\"\"\n",
    "\n",
    "print(s.count(\"생각\"))\n",
    "\n",
    "# 해당 문자가 몇번 포함되어 있는지 여부"
   ]
  },
  {
   "cell_type": "code",
   "execution_count": 42,
   "id": "5ce330f9",
   "metadata": {},
   "outputs": [
    {
     "name": "stdout",
     "output_type": "stream",
     "text": [
      "True\n",
      "False\n"
     ]
    }
   ],
   "source": [
    "s = \"Python Programming\"\n",
    "print(\"a\" in s)\n",
    "print(\"z\" in a)\n",
    "\n",
    "# 해당 문자가 포함되어 있는지 여부를 Ture, Flase로 표기"
   ]
  },
  {
   "cell_type": "code",
   "execution_count": 51,
   "id": "68e58497",
   "metadata": {},
   "outputs": [
    {
     "name": "stdout",
     "output_type": "stream",
     "text": [
      "['짜장', '짬뽕', '탕수육']\n",
      "짜장\n",
      "짬뽕\n",
      "탕수육\n",
      "['서울', '대전', '대구', '부산']\n"
     ]
    }
   ],
   "source": [
    "s = \"짜장 짬뽕 탕수육\"\n",
    "print(s.split())\n",
    "\n",
    "for i in s.split():\n",
    "    print(i)\n",
    "    \n",
    "s2 = \"서울->대전->대구->부산\"\n",
    "city = (s2.split(\"->\"))\n",
    "print(city)\n",
    "\n",
    "# 특정 문자 기준으로 문자열 나누기 / 구분자 없으면 기본 구분자( 공백, 줄나눔ㅁ, 탭) 기준으로 나눔"
   ]
  },
  {
   "cell_type": "code",
   "execution_count": 53,
   "id": "73d80f44",
   "metadata": {},
   "outputs": [
    {
     "name": "stdout",
     "output_type": "stream",
     "text": [
      "서울,대전,대구,부산\n"
     ]
    }
   ],
   "source": [
    "city_list = ['서울', '대전', '대구', '부산']\n",
    "city_string = \",\".join(city_list)\n",
    "print(city_string)"
   ]
  },
  {
   "cell_type": "markdown",
   "id": "fe786c1c",
   "metadata": {},
   "source": [
    "# 문자열 대입"
   ]
  },
  {
   "cell_type": "code",
   "execution_count": 59,
   "id": "90ecba51",
   "metadata": {},
   "outputs": [
    {
     "name": "stdout",
     "output_type": "stream",
     "text": [
      "I eat 3 apples\n",
      "i eat five apples\n",
      "i eat 95% apples\n"
     ]
    }
   ],
   "source": [
    "str = \"I eat %d apples\"%3\n",
    "print(str)\n",
    "\n",
    "str = \"i eat %s apples\"%\"five\"\n",
    "print(str)\n",
    "\n",
    "str = \"i eat %d%% apples\" %95\n",
    "print(str)"
   ]
  },
  {
   "cell_type": "code",
   "execution_count": 62,
   "id": "b2a2d6f2",
   "metadata": {},
   "outputs": [
    {
     "name": "stdout",
     "output_type": "stream",
     "text": [
      "8월 15일은 광복절입니다.\n"
     ]
    }
   ],
   "source": [
    "month = 8\n",
    "day = 15\n",
    "anni =\"광복절\"\n",
    "\n",
    "print(\"%d월 %d일은 %s입니다.\"%(month, day, anni))"
   ]
  },
  {
   "cell_type": "code",
   "execution_count": 68,
   "id": "7c64a278",
   "metadata": {},
   "outputs": [
    {
     "name": "stdout",
     "output_type": "stream",
     "text": [
      "나는 사과 3개를 먹고 삼일동안 아팠다\n"
     ]
    }
   ],
   "source": [
    "number =4\n",
    "day = \"삼\"\n",
    "s = \"나는 사과 {number}개를 먹고 {day}일동안 아팠다\".format(day=\"삼\", number=3)\n",
    "print(s)"
   ]
  },
  {
   "cell_type": "markdown",
   "id": "d0565981",
   "metadata": {},
   "source": [
    "## [문제-8] 주민등록번호 분석하기\n",
    "- 임의의 주민등록번호를 입력 받아 다음과 같이 생년과 성별을 추출하여 출력하는 코드를 작성하시오\n",
    "\n",
    "- (입력) 881231-1234567 --> (출력)88년생 남자"
   ]
  },
  {
   "cell_type": "code",
   "execution_count": 83,
   "id": "6073fdfa",
   "metadata": {},
   "outputs": [
    {
     "name": "stdout",
     "output_type": "stream",
     "text": [
      "주민등록 번호를 입력하세요:960902-1194615\n",
      "96 년생\n",
      "남자\n",
      "주민등록번호:960902-2194615\n",
      "96년생 여자\n"
     ]
    }
   ],
   "source": [
    "# 내가한거\n",
    "\n",
    "a = input(\"주민등록 번호를 입력하세요:\")\n",
    "\n",
    "b = print(a[0:2],\"년생\")\n",
    "\n",
    "c = a[7]\n",
    "if c == \"1\":\n",
    "    print(\"남자\")\n",
    "else:\n",
    "    print(\"여자\")\n",
    "    \n",
    "    \n",
    "# 쌤 버전\n",
    "jumin = input(\"주민등록번호:\")\n",
    "year = jumin[:2]\n",
    "gender = jumin[7]\n",
    "print(\"%s년생 %s\"%(year, \"남자\" if gender==\"1\" else \"여자\"))"
   ]
  },
  {
   "cell_type": "markdown",
   "id": "b2a2ec57",
   "metadata": {},
   "source": [
    "## [문제-9] 단어 수 세기\n",
    "- 문자열 내 전체 단어가 몇개인가?\n",
    "- 문자열 내 \"like\" 단어의 개수가 몇 개인가?\n",
    "- 문자열 내 가장 많이 나오는 단어는 무엇인가?\n",
    ">- 1) 문자열 내에 엔터(\"\\n\") 문자를 공백 문자로 치환: replace()\n",
    ">- 2) 문자열을 단어로 나눈다: split()\n",
    ">- 3) 모든 단어를 소문자로 수정한다: lower()"
   ]
  },
  {
   "cell_type": "code",
   "execution_count": 123,
   "id": "9b8245f2",
   "metadata": {},
   "outputs": [
    {
     "name": "stdout",
     "output_type": "stream",
     "text": [
      "226\n",
      "1\n"
     ]
    },
    {
     "ename": "TypeError",
     "evalue": "'int' object is not iterable",
     "output_type": "error",
     "traceback": [
      "\u001b[1;31m---------------------------------------------------------------------------\u001b[0m",
      "\u001b[1;31mTypeError\u001b[0m                                 Traceback (most recent call last)",
      "\u001b[1;32m~\\AppData\\Local\\Temp/ipykernel_13368/3716443069.py\u001b[0m in \u001b[0;36m<module>\u001b[1;34m\u001b[0m\n\u001b[0;32m     43\u001b[0m \u001b[0mprint\u001b[0m\u001b[1;33m(\u001b[0m\u001b[0mf\u001b[0m\u001b[1;33m)\u001b[0m\u001b[1;33m\u001b[0m\u001b[1;33m\u001b[0m\u001b[0m\n\u001b[0;32m     44\u001b[0m \u001b[1;33m\u001b[0m\u001b[0m\n\u001b[1;32m---> 45\u001b[1;33m \u001b[1;32mfor\u001b[0m \u001b[0mx\u001b[0m \u001b[1;32min\u001b[0m \u001b[0mf\u001b[0m\u001b[1;33m:\u001b[0m\u001b[1;33m\u001b[0m\u001b[1;33m\u001b[0m\u001b[0m\n\u001b[0m\u001b[0;32m     46\u001b[0m     \u001b[0mw_max\u001b[0m \u001b[1;33m=\u001b[0m \u001b[0md\u001b[0m\u001b[1;33m.\u001b[0m\u001b[0mcount\u001b[0m\u001b[1;33m(\u001b[0m\u001b[0mx\u001b[0m\u001b[1;33m)\u001b[0m\u001b[1;33m\u001b[0m\u001b[1;33m\u001b[0m\u001b[0m\n\u001b[0;32m     47\u001b[0m     \u001b[1;32mif\u001b[0m \u001b[0mmax\u001b[0m \u001b[1;33m<\u001b[0m \u001b[0mw_max\u001b[0m\u001b[1;33m:\u001b[0m\u001b[1;33m\u001b[0m\u001b[1;33m\u001b[0m\u001b[0m\n",
      "\u001b[1;31mTypeError\u001b[0m: 'int' object is not iterable"
     ]
    }
   ],
   "source": [
    "a = \"\"\"Hello, it's me \n",
    "I was wondering if after all these years you'd like to meet\n",
    "To go over everything\n",
    "They say that time's supposed to heal ya\n",
    "But I ain't done much healing\n",
    "Hello, can you hear me?\n",
    "I'm in California dreaming about who we used to be\n",
    "When we were younger and free\n",
    "I've forgotten how it felt before the world fell at our feet\n",
    "There's such a difference between us\n",
    "And a million miles\n",
    "Hello from the other side\n",
    "I must've called a thousand times\n",
    "To tell you I'm sorry for everything that I've done\n",
    "But when I call, you never seem to be home\n",
    "Hello from the outside\n",
    "At least I can say that I've tried\n",
    "To tell you I'm sorry for breaking your heart\n",
    "But it don't matter, it clearly doesn't tear you apart anymore\n",
    "Hello, how are you?\n",
    "It's so typical of me to talk about myself, I'm sorry\n",
    "I hope that you're well\n",
    "Did you ever make it out of that town where nothing \n",
    "times)\n",
    "To tell you I'm sorry for everything that I've done\n",
    "But when I call, you never seem to be home\n",
    "Hello from the outside (Outside)\n",
    "At least I can say that I've tried (I've tried)\n",
    "To tell you I'm sorry for breaking your heart\n",
    "But it don't matter, it clearly doesn't tear you apart anymore\n",
    "\"\"\"\n",
    "\n",
    "b = a.replace(\"\\n\", \" \")\n",
    "\n",
    "c = b.lower()\n",
    "\n",
    "d = c.split()\n",
    "\n",
    "e = len(d)\n",
    "print(e)\n",
    "\n",
    "f = d.count('like')\n",
    "print(f)\n",
    "\n",
    "for x in f:\n",
    "    w_max = d.count(x)\n",
    "    if max < w_max:\n",
    "        max = w_max\n",
    "        anser = []\n",
    "        anser.append(x)\n",
    "    else:\n",
    "        anser.append(x)\n",
    "print(x)"
   ]
  },
  {
   "cell_type": "code",
   "execution_count": 150,
   "id": "2407a017",
   "metadata": {},
   "outputs": [
    {
     "name": "stdout",
     "output_type": "stream",
     "text": [
      "like 단어의 갯수: 1\n",
      "전체 단어의 갯수: 226\n",
      "가장 많이 포함된 단어는 you이며 횟수는 10이다.\n"
     ]
    }
   ],
   "source": [
    "song = \"\"\"Hello, it's me \n",
    "I was wondering if after all these years you'd like to meet\n",
    "To go over everything\n",
    "They say that time's supposed to heal ya\n",
    "But I ain't done much healing\n",
    "Hello, can you hear me?\n",
    "I'm in California dreaming about who we used to be\n",
    "When we were younger and free\n",
    "I've forgotten how it felt before the world fell at our feet\n",
    "There's such a difference between us\n",
    "And a million miles\n",
    "Hello from the other side\n",
    "I must've called a thousand times\n",
    "To tell you I'm sorry for everything that I've done\n",
    "But when I call, you never seem to be home\n",
    "Hello from the outside\n",
    "At least I can say that I've tried\n",
    "To tell you I'm sorry for breaking your heart\n",
    "But it don't matter, it clearly doesn't tear you apart anymore\n",
    "Hello, how are you?\n",
    "It's so typical of me to talk about myself, I'm sorry\n",
    "I hope that you're well\n",
    "Did you ever make it out of that town where nothing \n",
    "times)\n",
    "To tell you I'm sorry for everything that I've done\n",
    "But when I call, you never seem to be home\n",
    "Hello from the outside (Outside)\n",
    "At least I can say that I've tried (I've tried)\n",
    "To tell you I'm sorry for breaking your heart\n",
    "But it don't matter, it clearly doesn't tear you apart anymore\n",
    "\"\"\"\n",
    "\n",
    "song = song.replace(\"\\n\", \" \")\n",
    "print(\"like 단어의 갯수:\", song.count(\"like\"))\n",
    "word_list = song.split()\n",
    "print(\"전체 단어의 갯수:\", len(word_list))\n",
    "\n",
    "# 가장 많이 나온 단어 찾기\n",
    "max_word_count = 0 # 가장 많이 나온 단어의 횟수\n",
    "max_word = \"\" # 가장 많이 나온 단어\n",
    "word = 0\n",
    "\n",
    "for word in word_list:\n",
    "    word_count = word_list.count(word)\n",
    "    if word_count > max_word_count:\n",
    "        max_word_count = word_count\n",
    "        max_word = word\n",
    "\n",
    "print(\"가장 많이 포함된 단어는 %s이며 횟수는 %d이다.\"%(max_word, max_word_count))"
   ]
  },
  {
   "cell_type": "code",
   "execution_count": 136,
   "id": "119c2c51",
   "metadata": {},
   "outputs": [
    {
     "name": "stdout",
     "output_type": "stream",
     "text": [
      "like 단어의 갯수: 1\n",
      "전체 단어 갯수: 226\n",
      "가장 많이 포함된 단어는 to이며 횟수는 11이다.\n"
     ]
    }
   ],
   "source": [
    "song = \"\"\"Hello, it's me \n",
    "I was wondering if after all these years you'd like to meet\n",
    "To go over everything\n",
    "They say that time's supposed to heal ya\n",
    "But I ain't done much healing\n",
    "Hello, can you hear me?\n",
    "I'm in California dreaming about who we used to be\n",
    "When we were younger and free\n",
    "I've forgotten how it felt before the world fell at our feet\n",
    "There's such a difference between us\n",
    "And a million miles\n",
    "Hello from the other side\n",
    "I must've called a thousand times\n",
    "To tell you I'm sorry for everything that I've done\n",
    "But when I call, you never seem to be home\n",
    "Hello from the outside\n",
    "At least I can say that I've tried\n",
    "To tell you I'm sorry for breaking your heart\n",
    "But it don't matter, it clearly doesn't tear you apart anymore\n",
    "Hello, how are you?\n",
    "It's so typical of me to talk about myself, I'm sorry\n",
    "I hope that you're well\n",
    "Did you ever make it out of that town where nothing \n",
    "times)\n",
    "To tell you I'm sorry for everything that I've done\n",
    "But when I call, you never seem to be home\n",
    "Hello from the outside (Outside)\n",
    "At least I can say that I've tried (I've tried)\n",
    "To tell you I'm sorry for breaking your heart\n",
    "But it don't matter, it clearly doesn't tear you apart anymore\n",
    "\"\"\"\n",
    "\n",
    "song = song.replace(\"\\n\",\" \").lower()\n",
    "print(\"like 단어의 갯수:\", song.count(\"like\"))\n",
    "word_list = song.split()\n",
    "print(\"전체 단어 갯수:\", len(word_list))\n",
    "\n",
    "# 가장 많이 나온 단어 찾기\n",
    "max_word_count = 0 # 가장 많이 나온 단어의 횟수\n",
    "max_word = \"\" # 가장 많이 나온 단어\n",
    "\n",
    "for word in word_list:\n",
    "    word_count = word_list.count(word)\n",
    "    if word_count > max_word_count:\n",
    "        max_word_count = word_count\n",
    "        max_word = word\n",
    "        \n",
    "\n",
    "print(\"가장 많이 포함된 단어는 %s이며 횟수는 %d이다.\"%(max_word, max_word_count))\n"
   ]
  },
  {
   "cell_type": "markdown",
   "id": "d56663a8",
   "metadata": {},
   "source": [
    "# List"
   ]
  },
  {
   "cell_type": "code",
   "execution_count": 140,
   "id": "67fa6b45",
   "metadata": {},
   "outputs": [
    {
     "name": "stdout",
     "output_type": "stream",
     "text": [
      "[1, 5, 3, 6, 7]\n",
      "[1, 3, 5, 6, 7]\n",
      "[7, 6, 5, 3, 1]\n",
      "[1, 3, 5, 6, 7]\n"
     ]
    }
   ],
   "source": [
    "a = [1,5,3,6,7]\n",
    "print(a)\n",
    "a.sort()\n",
    "print(a)\n",
    "\n",
    "a.sort(reverse=True)\n",
    "print(a)\n",
    "\n",
    "a.reverse()\n",
    "print(a)"
   ]
  },
  {
   "cell_type": "code",
   "execution_count": 144,
   "id": "2cd294ad",
   "metadata": {},
   "outputs": [
    {
     "name": "stdout",
     "output_type": "stream",
     "text": [
      "[1, 3, 5, 7, 7, 11]\n",
      "11\n",
      "[1, 3, 5, 7, 7]\n"
     ]
    }
   ],
   "source": [
    "b = [1,5,3,5,7,7,11]\n",
    "b.remove(5) # index로 삭제하는 것이 아니라 실제 값을 삭제 (중복되는 숫자라면 중복 값중 첫번째 값 삭제)\n",
    "print(b)\n",
    "\n",
    "temp = b.pop() # -1 위치의 데이터를 꺼낸 후 삭제\n",
    "print(temp)\n",
    "print(b)"
   ]
  },
  {
   "cell_type": "code",
   "execution_count": 93,
   "id": "35500933",
   "metadata": {},
   "outputs": [
    {
     "name": "stdout",
     "output_type": "stream",
     "text": [
      "[1, 2, 20, 4, 5, 6, 7]\n",
      "[1, 2, 20, 4, 5, 6, 7]\n",
      "[200, 2, 20, 4, 5, 6, 7]\n",
      "True\n",
      "False\n"
     ]
    }
   ],
   "source": [
    "# 얕은 복사\n",
    "a = [1,2,3,4,5,6,7]\n",
    "b = a\n",
    "a[2]=20\n",
    "print(b)\n",
    "\n",
    "# 깊은 복사\n",
    "c = a[:]\n",
    "c[0] = 200\n",
    "print(a)\n",
    "print(c)\n",
    "\n",
    "print(a is b)\n",
    "print(a is c)"
   ]
  },
  {
   "cell_type": "code",
   "execution_count": 148,
   "id": "128045da",
   "metadata": {},
   "outputs": [
    {
     "name": "stdout",
     "output_type": "stream",
     "text": [
      "[1, 2, 3, 4, 5, 6]\n",
      "[1, 2, 3, 1, 2, 3, 1, 2, 3]\n"
     ]
    }
   ],
   "source": [
    "# list의 연산: +(연결), *(반복)\n",
    "a = [1,2,3]\n",
    "b = [4,5,6]\n",
    "\n",
    "print(a+b)\n",
    "print(a*3)"
   ]
  },
  {
   "cell_type": "code",
   "execution_count": 149,
   "id": "761e53f0",
   "metadata": {},
   "outputs": [
    {
     "name": "stdout",
     "output_type": "stream",
     "text": [
      "[1, 4, 5]\n"
     ]
    }
   ],
   "source": [
    "# 리스트의 원소 삭제\n",
    "a = [1,2,3,4,5]\n",
    "\n",
    "a[1:3] = []\n",
    "print(a)"
   ]
  },
  {
   "cell_type": "code",
   "execution_count": 155,
   "id": "6b7abea1",
   "metadata": {},
   "outputs": [
    {
     "name": "stdout",
     "output_type": "stream",
     "text": [
      "11\n",
      "1\n",
      "52\n",
      "4.7272727272727275\n"
     ]
    }
   ],
   "source": [
    "d = [1,4,5,6,3,1,3,5,6,7,11]\n",
    "\n",
    "# 다음의 함수는 리스트 객체의 함수가 아닌, 파이썬의 내장 함수\n",
    "print(max(d))\n",
    "print(min(d))\n",
    "print(sum(d))\n",
    "print(sum(d)/len(d))"
   ]
  },
  {
   "cell_type": "code",
   "execution_count": 158,
   "id": "3a4af8bf",
   "metadata": {},
   "outputs": [
    {
     "name": "stdout",
     "output_type": "stream",
     "text": [
      "결제를 하시겠습니까? :y\n",
      "구매해 주셔서 감사합니다.\n"
     ]
    }
   ],
   "source": [
    "ans = input(\"결제를 하시겠습니까? :\")\n",
    "if ans in ['yes', 'y', 'ok', '네', '예']: # ans 리스트에 해당 원소가 포함되어 있는지의 여부\n",
    "    print('구매해 주셔서 감사합니다.')\n",
    "else:\n",
    "    print('잘가세요')"
   ]
  },
  {
   "cell_type": "markdown",
   "id": "d6df5c1a",
   "metadata": {},
   "source": [
    "# 이중 리스트\n",
    "- 리스트의 요소로 리스트를 갖는 형태"
   ]
  },
  {
   "cell_type": "code",
   "execution_count": 170,
   "id": "917aa9a3",
   "metadata": {},
   "outputs": [
    {
     "name": "stdout",
     "output_type": "stream",
     "text": [
      "[1, 2, 3]\n",
      "4\n",
      "1 2 3 \n",
      "4 5 \n",
      "6 7 8 9 \n"
     ]
    }
   ],
   "source": [
    "li = [[1,2,3], [4,5], [6,7,8,9]]\n",
    "print(li[0])\n",
    "print(li[1][0])\n",
    "\n",
    "for x in li:\n",
    "    for y in x: # outer for에서 바깥 리스트의 값을 받았으니 inner for에서 안쪽 리스트 (x) 를 받아야함\n",
    "        print(y, end=\" \")\n",
    "    print()"
   ]
  },
  {
   "cell_type": "markdown",
   "id": "dfe53c12",
   "metadata": {},
   "source": [
    "## [문제-10] 성적 총점과 평균 구하기\n",
    "- 학생 3명의 성적에 대해 각각 총점과 평균을 구하고, 전체 평균을 구하라"
   ]
  },
  {
   "cell_type": "code",
   "execution_count": 210,
   "id": "00d80f5c",
   "metadata": {},
   "outputs": [
    {
     "name": "stdout",
     "output_type": "stream",
     "text": [
      "354 88\n",
      "276 69\n",
      "338 84\n",
      "354 88.5\n",
      "354 88.5 276 69.0 338 84.5 276 69.0\n",
      "354 88.5 276 69.0 338 84.5 338 84.5\n",
      "354 88.5 276 69.0 338 84.5 "
     ]
    }
   ],
   "source": [
    "# 내 버전\n",
    "\n",
    "score = [[88,76,92,98], [65,70,58,83], [82,100,89,67]]\n",
    "\n",
    "print(sum(score[0]), (sum(score[0])//len(score[0])))\n",
    "print(sum(score[1]), (sum(score[1])//len(score[1])))\n",
    "print(sum(score[2]), (sum(score[2])//len(score[2])))\n",
    "\n",
    "for x in score:\n",
    "    print(sum(x), (sum(x)/len(x)))\n",
    "    for y in score:\n",
    "        print(sum(y), (sum(y)/len(y)), end=\" \")\n",
    "        "
   ]
  },
  {
   "cell_type": "code",
   "execution_count": 211,
   "id": "f3e98c59",
   "metadata": {},
   "outputs": [
    {
     "name": "stdout",
     "output_type": "stream",
     "text": [
      "총점:354, 평균: 88.50\n",
      "총점:276, 평균: 69.00\n",
      "총점:338, 평균: 84.50\n",
      "전체 평균: 0.00\n"
     ]
    }
   ],
   "source": [
    "# 쌤 버전\n",
    "\n",
    "score = [[88,76,92,98], [65,70,58,83], [82,100,89,67]]\n",
    "\n",
    "sum = 0 #학생 한명의 총점을 저장\n",
    "total = 0 #전체 모든 학생의 총점을 저장\n",
    "all_subject = 0 #전체 과목의 수\n",
    "\n",
    "for student in score:\n",
    "    for jumsu in student:\n",
    "        sum += jumsu\n",
    "        all_subject+= 1\n",
    "    print(\"총점:%d, 평균: %.2f\"%(sum, sum/len(student)))\n",
    "    sum = 0\n",
    "print(\"전체 평균: %.2f\"%(total/all_subject))"
   ]
  },
  {
   "cell_type": "markdown",
   "id": "8cf7ea96",
   "metadata": {},
   "source": [
    "## [문제-11] 일수 계산\n",
    "<pre>\n",
    "1~12월 중 입력 받은 월이 몇 일까지 있는지 계산하는 프로그램을 작성\n",
    "\n",
    "[실행예시]\n",
    "년도를 입력하세요: 2021\n",
    "월을 입력하세요: 10\n",
    "2021년 10월은 3일까지 있습니다.\n",
    "\n",
    "[참고]\n",
    "윤년 조건: 4로 나눠지고, 100으로 나눠지지 않는 해, 또는 400으로 나눠지는 해"
   ]
  },
  {
   "cell_type": "code",
   "execution_count": 236,
   "id": "4d67e7b3",
   "metadata": {},
   "outputs": [
    {
     "name": "stdout",
     "output_type": "stream",
     "text": [
      "년도를 입력하세요: 2021\n",
      "월을 입력하세요: 4\n",
      "31\n"
     ]
    }
   ],
   "source": [
    "year = int(input(\"년도를 입력하세요: \"))\n",
    "month = int(input(\"월을 입력하세요: \"))\n",
    "\n",
    "x = [28,29,30,31]\n",
    "\n",
    "if month == 1 or 3 or 5 or 7 or 8 or 10 or 12:\n",
    "    print(x[3])\n",
    "elif month == 2 or 4 or 6 or 9 or 11:\n",
    "    print(x[2])"
   ]
  },
  {
   "cell_type": "code",
   "execution_count": 242,
   "id": "203076ff",
   "metadata": {},
   "outputs": [
    {
     "name": "stdout",
     "output_type": "stream",
     "text": [
      "년도를 입력하세요: 2022\n",
      "월을 입력하세요: 4\n",
      "2022년의 4월은 30일까지 있습니다.\n"
     ]
    }
   ],
   "source": [
    "# 쌤 버전\n",
    "\n",
    "daysInMonth = [31,28,31,30,31,30,31,31,30,31,30,31]\n",
    "\n",
    "year = int(input(\"년도를 입력하세요: \"))\n",
    "month = int(input(\"월을 입력하세요: \"))\n",
    "days = 0\n",
    "if month == 2:\n",
    "    days = 29 if (year%4 == 0 and year%100 != 0) or year %400 == 0 else 28\n",
    "else:\n",
    "    days = daysInMonth[month-1]\n",
    "print(\"%d년의 %d월은 %d일까지 있습니다.\"%(year, month, days))"
   ]
  },
  {
   "cell_type": "markdown",
   "id": "28f268f2",
   "metadata": {},
   "source": [
    "# Dictionary"
   ]
  },
  {
   "cell_type": "code",
   "execution_count": 257,
   "id": "659b9f05",
   "metadata": {},
   "outputs": [
    {
     "name": "stdout",
     "output_type": "stream",
     "text": [
      "{'name': '전우치', 'age': 28}\n",
      "나이: 28\n",
      "None\n",
      "서울시\n"
     ]
    }
   ],
   "source": [
    "x = {'name': '홍길동', 'age':32}\n",
    "\n",
    "# 비어있는 딕셔너리 생성\n",
    "y = dict()\n",
    "\n",
    "# 비어있는 딕셔너리에 새로운 키와 value 삽입\n",
    "y['name'] = '전우치'\n",
    "y['age'] = 28\n",
    "\n",
    "print(y)\n",
    "print(\"나이:\", y['age'])\n",
    "# print(y['addres']) # 오류\n",
    "print(y.get('addres')) # get() 함수 쓰면 없는 값을 입력했을 때 none을 출력\n",
    "print(y.get('addres', '서울시'))"
   ]
  },
  {
   "cell_type": "code",
   "execution_count": 261,
   "id": "79229090",
   "metadata": {},
   "outputs": [
    {
     "name": "stdout",
     "output_type": "stream",
     "text": [
      "name\n",
      "age\n",
      "홍길동\n",
      "32\n",
      "dict_items([('name', '홍길동'), ('age', 32)])\n",
      "name : 홍길동\n",
      "age : 32\n"
     ]
    }
   ],
   "source": [
    "for key in x.keys():\n",
    "    print(key)\n",
    "    \n",
    "for value in x.values():\n",
    "    print(value)\n",
    "    \n",
    "print(x.items()) # 튜플 출력\n",
    "\n",
    "for k,v in x.items():\n",
    "    print(k, \":\", v)"
   ]
  },
  {
   "cell_type": "code",
   "execution_count": 2,
   "id": "e248783c",
   "metadata": {},
   "outputs": [
    {
     "name": "stdout",
     "output_type": "stream",
     "text": [
      "합계: 324\n",
      "최고점: 89\n"
     ]
    }
   ],
   "source": [
    "score = {\"홍길동\":89, \"임꺽정\":88, \"손오공\":80, \"전우치\":67}\n",
    "\n",
    "print(\"합계:\", sum(score.values()))\n",
    "print(\"최고점:\", max(score.values()))\n"
   ]
  },
  {
   "cell_type": "markdown",
   "id": "b95b8023",
   "metadata": {},
   "source": [
    "## [문제-12] 단어 빈도수 구하기\n",
    "- text 문장 안에 포함된 각 단어의 빈도수를 구하여 dictionary 형태로 결과를 출력\n",
    "- 단어는 key가 되고, 빈도 수는 value가 된다\n",
    "- 모든 단어는 소문자로 변환하고 '/\\'은 공백 문자로 치환"
   ]
  },
  {
   "cell_type": "code",
   "execution_count": 38,
   "id": "3e4f4dd9",
   "metadata": {},
   "outputs": [
    {
     "name": "stdout",
     "output_type": "stream",
     "text": [
      "light 1\n"
     ]
    }
   ],
   "source": [
    "tt = \"\"\"I heard that you're settled down \n",
    "That you found a girl and you're married now \n",
    "I heard that your dreams came true \n",
    "Guess she gave you things, I didn't give to you \n",
    "Old friend, why are you so shy? \n",
    "Ain't like you to hold back or hide from the light\n",
    "\"\"\"\n",
    "\n",
    "tt = tt.replace(\"\\n\", \" \")\n",
    "\n",
    "tt = tt.lower()\n",
    "\n",
    "tt = tt.split()\n",
    "\n",
    "word = 0\n",
    "\n",
    "for word in tt:\n",
    "    w_count = tt.count(word)\n",
    "    \n",
    "print(word, w_count)\n",
    "\n",
    "\n",
    "\n"
   ]
  },
  {
   "cell_type": "code",
   "execution_count": 40,
   "id": "288e9415",
   "metadata": {},
   "outputs": [
    {
     "name": "stdout",
     "output_type": "stream",
     "text": [
      "{'i': 3, 'heard': 2, 'that': 3, \"you're\": 2, 'settled': 1, 'down': 1, 'you': 5, 'found': 1, 'a': 1, 'girl': 1, 'and': 1, 'married': 1, 'now': 1, 'your': 1, 'dreams': 1, 'came': 1, 'true': 1, 'guess': 1, 'she': 1, 'gave': 1, 'things,': 1, \"didn't\": 1, 'give': 1, 'to': 2, 'old': 1, 'friend,': 1, 'why': 1, 'are': 1, 'so': 1, 'shy?': 1, \"ain't\": 1, 'like': 1, 'hold': 1, 'back': 1, 'or': 1, 'hide': 1, 'from': 1, 'the': 1, 'light': 1}\n"
     ]
    }
   ],
   "source": [
    "# 쌤 버전\n",
    "\n",
    "text = \"\"\"I heard that you're settled down \n",
    "That you found a girl and you're married now \n",
    "I heard that your dreams came true \n",
    "Guess she gave you things, I didn't give to you \n",
    "Old friend, why are you so shy? \n",
    "Ain't like you to hold back or hide from the light\n",
    "\"\"\"\n",
    "\n",
    "word_list = text.replace(\"\\n\", \" \").lower().split()\n",
    "mydic={} # 결과를 저장할 함수\n",
    "\n",
    "#for word in word_list:\n",
    "#    if word not in mydic:\n",
    "#        mydic[word] = 1\n",
    "#    else:\n",
    "#        mydic[word] += 1 # mydic[word] = mydic[world] + 1\n",
    " \n",
    "\n",
    "# get(key): 없는 key일 경우 None 반환\n",
    "# get(key, value): 없는 key일 경우 None 대신 value 반환\n",
    "for word in word_list:\n",
    "    mydic[word] = mydic.get(word, 0)+1\n",
    "print(mydic)"
   ]
  },
  {
   "cell_type": "markdown",
   "id": "8bf51733",
   "metadata": {},
   "source": [
    "# Tuple"
   ]
  },
  {
   "cell_type": "code",
   "execution_count": 46,
   "id": "a666f0af",
   "metadata": {},
   "outputs": [
    {
     "name": "stdout",
     "output_type": "stream",
     "text": [
      "1\n",
      "(2, 'a', 'b')\n",
      "(1, 2, 'a', 'b', 3, 4)\n",
      "(1, 2, 'a', 'b', 1, 2, 'a', 'b', 1, 2, 'a', 'b')\n"
     ]
    }
   ],
   "source": [
    "t1 = (1,2,'a','b')\n",
    "print(t1[0])\n",
    "print(t1[1:])\n",
    "\n",
    "# t1[0] = 10 에러\n",
    "\n",
    "t2 = (3,4)\n",
    "print(t1+t2)\n",
    "print(t1*3)"
   ]
  },
  {
   "cell_type": "markdown",
   "id": "ebbc039a",
   "metadata": {},
   "source": [
    "# Set"
   ]
  },
  {
   "cell_type": "code",
   "execution_count": 54,
   "id": "e636b4a6",
   "metadata": {},
   "outputs": [
    {
     "name": "stdout",
     "output_type": "stream",
     "text": [
      "{'o', 'h', 'H', 'y', 't', 'l', 'e', 'P', 'n', ' '}\n",
      "{'book', 'phone', 'boy', 'school'}\n"
     ]
    }
   ],
   "source": [
    "print(set(\"Hello Python\")) # 중복된 값은 제거 됨\n",
    "print(set({'boy':'소년', 'school':'학교', 'book':'책', 'phone':'핸드폰'}))"
   ]
  },
  {
   "cell_type": "code",
   "execution_count": 53,
   "id": "487bc372",
   "metadata": {},
   "outputs": [
    {
     "name": "stdout",
     "output_type": "stream",
     "text": [
      "합집합: {1, 2, 3, 4, 5, 6, 7, 8}\n",
      "교집합: {5, 6}\n",
      "차집합: {1, 2, 3, 4}\n",
      "차집합: {8, 7}\n"
     ]
    }
   ],
   "source": [
    "a = {1,2,3,4,5,6}\n",
    "b = {5,6,7,8}\n",
    "\n",
    "print(\"합집합:\", a.union(b))\n",
    "print(\"교집합:\", a.intersection(b))\n",
    "print(\"차집합:\", a.difference(b))\n",
    "print(\"차집합:\", b.difference(a))"
   ]
  },
  {
   "cell_type": "markdown",
   "id": "1106ef54",
   "metadata": {},
   "source": [
    "# Comprehension"
   ]
  },
  {
   "cell_type": "code",
   "execution_count": 67,
   "id": "9a0f50a5",
   "metadata": {},
   "outputs": [
    {
     "name": "stdout",
     "output_type": "stream",
     "text": [
      "[1, 3, 4, 4, 6, 3, 12, 55, 31, 76, 7]\n",
      "[3, 9, 12, 12, 18, 9, 36, 165, 93, 228, 21]\n",
      "[4, 4, 6, 12, 76]\n",
      "[2, 6, 4, 4, 6, 6, 12, 110, 62, 76, 14]\n",
      "[2, 4, 6, 8, 10, 12, 14, 16, 18, 3, 6, 9, 12, 15, 18, 21, 24, 27, 4, 8, 12, 16, 20, 24, 28, 32, 36, 5, 10, 15, 20, 25, 30, 35, 40, 45, 6, 12, 18, 24, 30, 36, 42, 48, 54, 7, 14, 21, 28, 35, 42, 49, 56, 63, 8, 16, 24, 32, 40, 48, 56, 64, 72, 9, 18, 27, 36, 45, 54, 63, 72, 81]\n",
      "[[0, 0, 0, 0, 0, 0, 0], [0, 0, 0, 0, 0, 0, 0], [0, 0, 0, 0, 0, 0, 0], [0, 0, 0, 0, 0, 0, 0]]\n"
     ]
    }
   ],
   "source": [
    "tmp = [1,3,4,4,6,3,12,55,31,76,7]\n",
    "a = [i for i in tmp]\n",
    "print(a)\n",
    "\n",
    "b = [i*3 for i in tmp]\n",
    "print(b)\n",
    "\n",
    "c = [i for i in tmp if not i%2]\n",
    "print(c)\n",
    "\n",
    "# d = [i for i in tmp if not i%2 else i*2] 에라\n",
    "d = [i if not i%2 else i*2 for i in tmp]\n",
    "print(d)\n",
    "\n",
    "e = [x*y for x in range(2,10) for y in range(1,10)]\n",
    "print(e)\n",
    "\n",
    "# 4행 7열 형태의 이중 리스트\n",
    "double_list = [[0,0,0,0,0,0,0],\n",
    "               [0,0,0,0,0,0,0],\n",
    "               [0,0,0,0,0,0,0],\n",
    "               [0,0,0,0,0,0,0]]\n",
    "\n",
    "double_list = [ [0 for col in range(7)]for row in range(4)]\n",
    "print(double_list)"
   ]
  },
  {
   "cell_type": "code",
   "execution_count": 68,
   "id": "9151af0c",
   "metadata": {},
   "outputs": [
    {
     "name": "stdout",
     "output_type": "stream",
     "text": [
      "{1, 2, 3, 4, 5, 6, 7, 8, 9, 10}\n"
     ]
    }
   ],
   "source": [
    "# set comprehension\n",
    "s = {i for i in range(1,11)}\n",
    "print(s)"
   ]
  },
  {
   "cell_type": "code",
   "execution_count": 71,
   "id": "0a3383bd",
   "metadata": {},
   "outputs": [
    {
     "name": "stdout",
     "output_type": "stream",
     "text": [
      "[(1, 1), (1, 2), (2, 1), (2, 2)]\n"
     ]
    }
   ],
   "source": [
    "# tuple comprehension\n",
    "t = [ (a,b)for a in range(1,3) for b in range(1,3)]\n",
    "print(t)"
   ]
  },
  {
   "cell_type": "markdown",
   "id": "7bbcf289",
   "metadata": {},
   "source": [
    "## [문제-13] 1~100까지 1씩 증가하는 데이터를 발생하여 3의 배수이거나 5의 배수인 데이터만 리스트에 포함시킨 후 출력"
   ]
  },
  {
   "cell_type": "code",
   "execution_count": 1,
   "id": "1bb10726",
   "metadata": {},
   "outputs": [
    {
     "name": "stdout",
     "output_type": "stream",
     "text": [
      "[3, 5, 6, 9, 10, 12, 15, 18, 20, 21, 24, 25, 27, 30, 33, 35, 36, 39, 40, 42, 45, 48, 50, 51, 54, 55, 57, 60, 63, 65, 66, 69, 70, 72, 75, 78, 80, 81, 84, 85, 87, 90, 93, 95, 96, 99, 100]\n",
      "[1, 2, 3, 4, 6, 7, 8, 9, 11, 12, 13, 14, 15, 16, 17, 18, 19, 21, 22, 23, 24, 26, 27, 28, 29, 30, 31, 32, 33, 34, 36, 37, 38, 39, 41, 42, 43, 44, 45, 46, 47, 48, 49, 51, 52, 53, 54, 56, 57, 58, 59, 60, 61, 62, 63, 64, 66, 67, 68, 69, 71, 72, 73, 74, 75, 76, 77, 78, 79, 81, 82, 83, 84, 86, 87, 88, 89, 90, 91, 92, 93, 94, 96, 97, 98, 99]\n"
     ]
    }
   ],
   "source": [
    "x = [i for i in range(1,101) if i%3==0 or i%5==0]\n",
    "print(x)\n",
    "\n",
    "y = [i for i in range(1,101) if not i%3 or i%5]\n",
    "print(y)"
   ]
  },
  {
   "cell_type": "code",
   "execution_count": 3,
   "id": "7d135a59",
   "metadata": {},
   "outputs": [
    {
     "name": "stdout",
     "output_type": "stream",
     "text": [
      "[3, 6, 9, 12]\n"
     ]
    }
   ],
   "source": [
    "a = [1,2,3,4]\n",
    "\n",
    "result = [num*3 for num in a]\n",
    "\n",
    "print(result)"
   ]
  },
  {
   "cell_type": "markdown",
   "id": "e746ad84",
   "metadata": {},
   "source": [
    "# zip()"
   ]
  },
  {
   "cell_type": "code",
   "execution_count": 4,
   "id": "f0e666e6",
   "metadata": {},
   "outputs": [
    {
     "name": "stdout",
     "output_type": "stream",
     "text": [
      "[(1, 10), (2, 20), (3, 30), (4, 40), (5, 50)]\n",
      "[111, 222, 333, 444, 555]\n"
     ]
    }
   ],
   "source": [
    "data1 = [1,2,3,4,5]\n",
    "data2 = [10,20,30,40,50]\n",
    "data3 = [100,200,300,400,500]\n",
    "\n",
    "result1 = [x for x in zip(data1, data2)]\n",
    "print(result1)\n",
    "# 튜플의 형태로 데이터를 받아옴\n",
    "\n",
    "result2 = [sum(x) for x in zip(data1, data2, data3)]\n",
    "print(result2)"
   ]
  },
  {
   "cell_type": "code",
   "execution_count": 8,
   "id": "28ef253f",
   "metadata": {},
   "outputs": [
    {
     "name": "stdout",
     "output_type": "stream",
     "text": [
      "월요일 메뉴: 갈비탕\n",
      "화요일 메뉴: 순대국\n",
      "수요일 메뉴: 칼국수\n",
      "목요일 메뉴: 삼겹살\n",
      "{'월': '갈비탕', '화': '순대국', '수': '칼국수', '목': '삼겹살'}\n"
     ]
    }
   ],
   "source": [
    "yoil = ['월', '화', '수', '목', '금', '토', '일']\n",
    "food = ['갈비탕', '순대국', '칼국수', '삼겹살']\n",
    "\n",
    "menu = zip(yoil, food)\n",
    "for y, f in menu:\n",
    "    print(\"%s요일 메뉴: %s\"%(y, f))\n",
    "    \n",
    "d = dict(zip(yoil, food))\n",
    "# dict함수 활용해 딕셔너리 객체로 변환 (키와 밸류)\n",
    "print(d)\n"
   ]
  },
  {
   "cell_type": "markdown",
   "id": "abe0a7c5",
   "metadata": {},
   "source": [
    "# enumerate()"
   ]
  },
  {
   "cell_type": "code",
   "execution_count": 18,
   "id": "4fceb3a8",
   "metadata": {},
   "outputs": [
    {
     "name": "stdout",
     "output_type": "stream",
     "text": [
      "[(0, '월'), (1, '화'), (2, '수'), (3, '목'), (4, '금')]\n",
      "1 월 2 화 3 수 4 목 5 금 "
     ]
    }
   ],
   "source": [
    "days = ['월', '화', '수', '목', '금']\n",
    "print(list(enumerate(days)))\n",
    "\n",
    "# enumarate()의 두 번째 인수로 시작값을 지정할 수 있다.\n",
    "\n",
    "for i, item in enumerate(days, 1):\n",
    "    print(i, item, end=\" \")"
   ]
  },
  {
   "cell_type": "code",
   "execution_count": 21,
   "id": "bd90b2ff",
   "metadata": {},
   "outputs": [
    {
     "name": "stdout",
     "output_type": "stream",
     "text": [
      "{0: '빨강', 1: '노랑', 2: '주황', 3: '초록', 4: '파랑'}\n"
     ]
    }
   ],
   "source": [
    "color = ['빨강', '노랑', '주황', '초록', '파랑']\n",
    "\n",
    "mydic = {i:v for i, v in enumerate(color)}\n",
    "print(mydic)"
   ]
  },
  {
   "cell_type": "markdown",
   "id": "e50ec239",
   "metadata": {},
   "source": [
    "## [문제-14] 리스트 x, y를 이용해 리스트 z와 같은 결과가 나오게 해라\n",
    "\n",
    "- x = [[1,2,3],[4,5,6]]\n",
    "- y = [[11,12,13], [14,15,16]]\n",
    "- z = [[12,14,16], [18,20,22]]\n",
    "- hint : list comprehension, zip() 이용"
   ]
  },
  {
   "cell_type": "code",
   "execution_count": 38,
   "id": "2f42e8ec",
   "metadata": {},
   "outputs": [
    {
     "name": "stdout",
     "output_type": "stream",
     "text": [
      "[[0, 0, 0], [0, 0, 0]]\n"
     ]
    }
   ],
   "source": [
    "# 내 버전\n",
    "\n",
    "x = [[1,2,3],[4,5,6]]\n",
    "y = [[11,12,13], [14,15,16]]\n",
    "\n",
    "\n",
    "b = [ [0 for col in range(3)]for row in range(2)]\n",
    "        \n",
    "print(b)\n"
   ]
  },
  {
   "cell_type": "code",
   "execution_count": 1,
   "id": "67fc40cf",
   "metadata": {},
   "outputs": [
    {
     "name": "stdout",
     "output_type": "stream",
     "text": [
      "[([1, 2, 3], [11, 12, 13]), ([4, 5, 6], [14, 15, 16])]\n",
      "[[12, 14, 16], [18, 20, 22]]\n"
     ]
    }
   ],
   "source": [
    "# 쌤 버전\n",
    "\n",
    "x = [[1,2,3],[4,5,6]]\n",
    "y = [[11,12,13], [14,15,16]]\n",
    "\n",
    "print(list(zip(x,y))) # 리스트로 변환하면 두개의 튜플로 나눠짐\n",
    "\n",
    "z = [[ c+d for c,d in zip(a,b)] for a,b in zip(x,y)]\n",
    "print(z)"
   ]
  },
  {
   "cell_type": "markdown",
   "id": "1a387458",
   "metadata": {},
   "source": [
    "# 함수"
   ]
  },
  {
   "cell_type": "code",
   "execution_count": 3,
   "id": "7ef8c99c",
   "metadata": {},
   "outputs": [
    {
     "name": "stdout",
     "output_type": "stream",
     "text": [
      "1~10 까지의 합= 55\n",
      "1~10 까지의 합= 55\n"
     ]
    }
   ],
   "source": [
    "def calcstep(begin, end, step=1):\n",
    "    sum = 0\n",
    "    for num in range(begin, end+1, step):\n",
    "        sum+= num\n",
    "    return sum\n",
    "\n",
    "print(\"1~10 까지의 합=\", calcstep(1,10))\n",
    "print(\"1~10 까지의 합=\", calcstep(end=10, begin=1))"
   ]
  },
  {
   "cell_type": "code",
   "execution_count": 9,
   "id": "53fe3139",
   "metadata": {},
   "outputs": [
    {
     "name": "stdout",
     "output_type": "stream",
     "text": [
      "500\n",
      "sales() 함수 호출 후 price 값: 1000\n"
     ]
    }
   ],
   "source": [
    "price = 1000 # 전역변수\n",
    "\n",
    "def sales():\n",
    "\n",
    "    price = 500 #지역 변수\n",
    "    print(price)\n",
    "    \n",
    "sales() # 함수 호출\n",
    "print(\"sales() 함수 호출 후 price 값:\", price)"
   ]
  },
  {
   "cell_type": "code",
   "execution_count": 10,
   "id": "7c1081bd",
   "metadata": {},
   "outputs": [
    {
     "name": "stdout",
     "output_type": "stream",
     "text": [
      "500\n",
      "sales() 함수 호출 후 price 값: 500\n"
     ]
    }
   ],
   "source": [
    "price = 1000 # 전역변수\n",
    "\n",
    "def sales():\n",
    "    global price # 전역변수 사용 # 주석처리하면 price 값은 1000이 출력됨.\n",
    "    price = 500 # 지역 변수\n",
    "    print(price)\n",
    "    \n",
    "sales() # 함수 호출\n",
    "print(\"sales() 함수 호출 후 price 값:\", price)"
   ]
  },
  {
   "cell_type": "markdown",
   "id": "b4e51b8a",
   "metadata": {},
   "source": [
    "## # [문제 - 15] 다음과 같은 결과를 출력하는 함수를 정의\n",
    "\n",
    "<pre>\n",
    "print_star(5)\n",
    "*\n",
    "**\n",
    "***\n",
    "****\n",
    "*****\n",
    "</pre>"
   ]
  },
  {
   "cell_type": "code",
   "execution_count": 34,
   "id": "0c4e3427",
   "metadata": {},
   "outputs": [
    {
     "name": "stdout",
     "output_type": "stream",
     "text": [
      "*\n",
      "**\n",
      "***\n",
      "****\n",
      "*****\n"
     ]
    }
   ],
   "source": [
    "# 쌤 버전\n",
    "\n",
    "def print_star(num):\n",
    "    for n in range(1, num+1):\n",
    "        print(\"*\"*n)\n",
    "        \n",
    "print_star(5)  "
   ]
  },
  {
   "cell_type": "markdown",
   "id": "a798ec16",
   "metadata": {},
   "source": [
    "## [문제-16] 함수를 이용한 계산기\n",
    "\n",
    "<pre>\n",
    "이항사칙연산식 문자열을 매개변수로 받아 연산의 결과를 출력하는 함수를 작성\n",
    "* 함수 형식 : calculator(exp)\n",
    "* exp: 사용자로부터 입력 받은 문자열 형태의 계산식\n",
    "    \n",
    "예시)\n",
    "계산식을 입력하세요: 10+20\n",
    "10+20=30.00\n",
    "\n",
    "계산식을 입력하세요: 10a20\n",
    "연산자 오류"
   ]
  },
  {
   "cell_type": "code",
   "execution_count": 55,
   "id": "2fcee2d9",
   "metadata": {},
   "outputs": [
    {
     "name": "stdout",
     "output_type": "stream",
     "text": [
      "계산식을 입력하세요: 10+20\n"
     ]
    }
   ],
   "source": [
    "def calculator(exp):\n",
    "    str = input(\"계산식을 입력하세요: \")\n",
    "    a = []\n",
    "    print(str)\n",
    "    for '+' in str:\n",
    "        a.append = str.split(\"+\")\n",
    "        print(a)"
   ]
  },
  {
   "cell_type": "code",
   "execution_count": 67,
   "id": "60f69497",
   "metadata": {},
   "outputs": [
    {
     "name": "stdout",
     "output_type": "stream",
     "text": [
      "계산식을 입력하세요: 20/10\n",
      "+\n",
      "-\n",
      "/\n",
      "20/10=2.00\n"
     ]
    }
   ],
   "source": [
    "# 쌤 버전\n",
    "\n",
    "def calculator(exp):\n",
    "    op_index = 0 # 연산자 포함 여부\n",
    "    operator = \" \" # 연산자\n",
    "    for op in ['+', '-', '/', '*']: # op 리스트에 + - / * 해당 연산자 넣음\n",
    "        print(op)\n",
    "        op_index = exp.find(op) # find() : 문자가 포함되어 있으면 문자의 위치를 인덱스로 출력 / 없으면 -1 출력\n",
    "        if op_index != -1:\n",
    "            operator = op\n",
    "            break\n",
    "            \n",
    "    if op_index == -1:\n",
    "        print(\"연산자 오류!\")\n",
    "        return exp\n",
    "    \n",
    "    value1 = float(exp.split(operator)[0])\n",
    "    value2 = float(exp.split(operator)[1])\n",
    "    \n",
    "    result = 0.0\n",
    "    if operator == \"+\":\n",
    "        result = value1 + value2\n",
    "    elif operator == \"-\":\n",
    "        result = value1 - value2\n",
    "    elif operator == \"/\":\n",
    "        result = value1 / value2\n",
    "    elif operator == \"*\":\n",
    "        result = value1 * value2\n",
    "        \n",
    "    print(\"%s=%.2f\"%(exp,result))\n",
    "    \n",
    "exp = input(\"계산식을 입력하세요: \")\n",
    "calculator(exp)"
   ]
  },
  {
   "cell_type": "markdown",
   "id": "3d1f9f2b",
   "metadata": {},
   "source": [
    "# \\*arg와 \\**kwargs 매개변수"
   ]
  },
  {
   "cell_type": "code",
   "execution_count": 68,
   "id": "8ebed314",
   "metadata": {},
   "outputs": [
    {
     "name": "stdout",
     "output_type": "stream",
     "text": [
      "결과:  ()\n",
      "결과:  (1,)\n",
      "결과:  (1, 2, 3, 'a', 'b', 'c')\n"
     ]
    }
   ],
   "source": [
    "def test(*args):\n",
    "    print(\"결과: \", args)\n",
    "\n",
    "test()\n",
    "test(1)\n",
    "test(1,2,3,'a','b','c')"
   ]
  },
  {
   "cell_type": "code",
   "execution_count": 76,
   "id": "f3da1d83",
   "metadata": {},
   "outputs": [
    {
     "name": "stdout",
     "output_type": "stream",
     "text": [
      "a=> 10\n",
      "b=> 20\n",
      "args=> (30,)\n"
     ]
    }
   ],
   "source": [
    "def myargs(a, b, *args):\n",
    "    print(\"a=>\", a)\n",
    "    print(\"b=>\", b)\n",
    "    print(\"args=>\", args)\n",
    "    \n",
    "# myargs(10,20)\n",
    "myargs(10,20,30)"
   ]
  },
  {
   "cell_type": "code",
   "execution_count": 88,
   "id": "68672de1",
   "metadata": {},
   "outputs": [
    {
     "name": "stdout",
     "output_type": "stream",
     "text": [
      "5 {}\n",
      "5 {'b': 7, 'c': 8, 'd': 9}\n"
     ]
    }
   ],
   "source": [
    "def myargs2(a, **kwargs): #**kwargs : 가변인자를 dict() 형태로 받음\n",
    "    print(a, kwargs)\n",
    "    \n",
    "myargs2(5)\n",
    "myargs2(5, b=7, c=8, d=9) #5는 일반 매개변수 형태 / 나머지는 딕셔너리 형태로 저장"
   ]
  },
  {
   "cell_type": "code",
   "execution_count": 83,
   "id": "af677287",
   "metadata": {},
   "outputs": [
    {
     "name": "stdout",
     "output_type": "stream",
     "text": [
      "1~10 합계: 55\n"
     ]
    }
   ],
   "source": [
    "def calcstet(**kwargs):\n",
    "    begin = kwargs[\"begin\"]\n",
    "    end = kwargs[\"end\"]\n",
    "    step = kwargs[\"step\"]\n",
    "    \n",
    "    sum = 0\n",
    "    for n in range(begin, end+1, step):\n",
    "        sum += n\n",
    "        \n",
    "    return sum\n",
    "\n",
    "print(\"1~10 합계:\", calcstep(begin=1, end=10, step=1))"
   ]
  },
  {
   "cell_type": "code",
   "execution_count": 87,
   "id": "1450a183",
   "metadata": {},
   "outputs": [
    {
     "name": "stdout",
     "output_type": "stream",
     "text": [
      "1~10 합계: 55\n"
     ]
    }
   ],
   "source": [
    "def calcstet(step, **kwargs):\n",
    "    begin = kwargs[\"begin\"]\n",
    "    end = kwargs[\"end\"]\n",
    "    \n",
    "    sum = 0\n",
    "    for n in range(begin, end+1, step):\n",
    "        sum += n\n",
    "        \n",
    "    return sum\n",
    "\n",
    "print(\"1~10 합계:\", calcstep(begin=1, end=10))"
   ]
  },
  {
   "cell_type": "markdown",
   "id": "c452e94f",
   "metadata": {},
   "source": [
    "# filter(), map(), reduce()"
   ]
  },
  {
   "cell_type": "code",
   "execution_count": 89,
   "id": "877970db",
   "metadata": {},
   "outputs": [
    {
     "name": "stdout",
     "output_type": "stream",
     "text": [
      "낙제 점수:  40\n",
      "낙제 점수:  53\n"
     ]
    }
   ],
   "source": [
    "def flunk(s):\n",
    "    return s <60\n",
    "\n",
    "score = [40,89,72,53,94]\n",
    "for s in filter(flunk, score):\n",
    "    print(\"낙제 점수: \",s)"
   ]
  },
  {
   "cell_type": "code",
   "execution_count": 90,
   "id": "43887960",
   "metadata": {},
   "outputs": [
    {
     "name": "stdout",
     "output_type": "stream",
     "text": [
      "20.0, 44.5, 36.0, 26.5, 47.0, "
     ]
    }
   ],
   "source": [
    "def half(s):\n",
    "    return s/2\n",
    "\n",
    "score = [40,89,72,53,94]\n",
    "for s in map(half, score):\n",
    "    print(s, end=\", \")"
   ]
  },
  {
   "cell_type": "code",
   "execution_count": 99,
   "id": "824db6c8",
   "metadata": {},
   "outputs": [
    {
     "name": "stdout",
     "output_type": "stream",
     "text": [
      "348\n",
      "HELLO PYTHON\n"
     ]
    }
   ],
   "source": [
    "from functools import reduce\n",
    "\n",
    "# reduce 함수에 매개변수로 사용할 함수의 첫 번째 매개변수는 누적값을 의미 (a = 값을 누적시키는 역할, a의 값은 0이 디폴트)\n",
    "# a = a+b\n",
    "def sum(a,b):\n",
    "    return a+b # a+b의 값을 a에 넣어줌\n",
    "\n",
    "score = [40,89,72,53,94]\n",
    "print(reduce(sum,score))\n",
    "\n",
    "alphabet = ['H', 'E', 'L', 'L', 'O', ' ', 'P', 'Y', 'T', 'H', 'O', 'N']\n",
    "print(reduce(sum,alphabet)) # 숫자뿐만 아니라 문자도 가능 "
   ]
  },
  {
   "cell_type": "markdown",
   "id": "6ec94951",
   "metadata": {},
   "source": [
    "# Lambda"
   ]
  },
  {
   "cell_type": "code",
   "execution_count": 102,
   "id": "f9918cc9",
   "metadata": {},
   "outputs": [
    {
     "name": "stdout",
     "output_type": "stream",
     "text": [
      "21\n",
      "21\n"
     ]
    }
   ],
   "source": [
    "def myfunc(x, y):\n",
    "    return x+y\n",
    "\n",
    "result = myfunc(10, 11)\n",
    "print(result)\n",
    "\n",
    "result2 = lambda x,y : x+y\n",
    "print(result2(10,11))"
   ]
  },
  {
   "cell_type": "code",
   "execution_count": 104,
   "id": "9d8474c4",
   "metadata": {},
   "outputs": [
    {
     "data": {
      "text/plain": [
       "[1, 4, 9, 16, 25]"
      ]
     },
     "execution_count": 104,
     "metadata": {},
     "output_type": "execute_result"
    }
   ],
   "source": [
    "a = [1,2,3,4,5]\n",
    "\n",
    "# a리스트 값의 제곱 출력\n",
    "list(map(lambda x:x**2, a)) # 함수 처리 후 리스트로 출력해야해서 map()사용 "
   ]
  },
  {
   "cell_type": "code",
   "execution_count": 106,
   "id": "d23c7217",
   "metadata": {},
   "outputs": [
    {
     "data": {
      "text/plain": [
       "[11, 22, 33, 44, 55]"
      ]
     },
     "execution_count": 106,
     "metadata": {},
     "output_type": "execute_result"
    }
   ],
   "source": [
    "x = [1,2,3,4,5]\n",
    "y = [10,20,30,40,50]\n",
    "\n",
    "list(map(lambda a,b:a+b, x,y)) # (lambda 매개변수(a,b) : 리턴할 수식(a+b), 리스트의 값(x,y))"
   ]
  },
  {
   "cell_type": "code",
   "execution_count": 110,
   "id": "d8b9222b",
   "metadata": {},
   "outputs": [
    {
     "data": {
      "text/plain": [
       "[1, 4, 3, 16, 5, 36, 7, 64, 9, 100]"
      ]
     },
     "execution_count": 110,
     "metadata": {},
     "output_type": "execute_result"
    }
   ],
   "source": [
    "k = list(range(1,11)) # end값은 입력한 값의 -1\n",
    "\n",
    "list(map(lambda x:x**2 if not x%2 else x, k))"
   ]
  },
  {
   "cell_type": "code",
   "execution_count": 111,
   "id": "02e6ff43",
   "metadata": {},
   "outputs": [
    {
     "data": {
      "text/plain": [
       "[40, 53]"
      ]
     },
     "execution_count": 111,
     "metadata": {},
     "output_type": "execute_result"
    }
   ],
   "source": [
    "score = [40,89,72,53,94]\n",
    "\n",
    "list(filter(lambda x: x<60, score))"
   ]
  },
  {
   "cell_type": "code",
   "execution_count": 116,
   "id": "79d40fe5",
   "metadata": {},
   "outputs": [
    {
     "name": "stdout",
     "output_type": "stream",
     "text": [
      "3\n",
      "12\n"
     ]
    }
   ],
   "source": [
    "def calc(op, a, b):\n",
    "    op(a,b)\n",
    "\n",
    "def add(a,b):\n",
    "    print(a+b)\n",
    "    \n",
    "def multi(a, b):\n",
    "    print(a*b)\n",
    "    \n",
    "calc(add, 1,2)\n",
    "calc(multi, 3,4)"
   ]
  },
  {
   "cell_type": "markdown",
   "id": "98e1f150",
   "metadata": {},
   "source": [
    "# 표준모듈"
   ]
  },
  {
   "cell_type": "code",
   "execution_count": 118,
   "id": "f5ae0647",
   "metadata": {},
   "outputs": [
    {
     "name": "stdout",
     "output_type": "stream",
     "text": [
      "1649741922.8755908\n",
      "Tue Apr 12 14:38:42 2022\n"
     ]
    }
   ],
   "source": [
    "import time\n",
    "\n",
    "# time() 현재 시각을 기준으로 초를 실수형을 나타냄\n",
    "t = time.time()\n",
    "print(t)\n",
    "print(time.ctime(t))"
   ]
  },
  {
   "cell_type": "code",
   "execution_count": 120,
   "id": "3ca2abe5",
   "metadata": {},
   "outputs": [
    {
     "name": "stdout",
     "output_type": "stream",
     "text": [
      "1~1억까지 합계 계산 총 소요시간: 7.21\n"
     ]
    }
   ],
   "source": [
    "import time\n",
    "\n",
    "start = time.time()\n",
    "sum = 0\n",
    "for i in range(1,100000001):\n",
    "    sum += i\n",
    "    \n",
    "end = time.time()\n",
    "print(\"1~1억까지 합계 계산 총 소요시간: %.2f\"%(end-start))"
   ]
  },
  {
   "cell_type": "code",
   "execution_count": 124,
   "id": "7b2f133a",
   "metadata": {},
   "outputs": [
    {
     "name": "stdout",
     "output_type": "stream",
     "text": [
      "2022년 4월 12일\n",
      "14시 49분 25초\n"
     ]
    }
   ],
   "source": [
    "import time\n",
    "\n",
    "# localtime() 현지 시간 기준으로  struct_time으로 반환\n",
    "# print(time.localtime())\n",
    "now = time.localtime()\n",
    "\n",
    "print(\"%d년 %d월 %d일\"%(now.tm_year, now.tm_mon, now.tm_mday))\n",
    "print(\"%d시 %d분 %d초\"%(now.tm_hour, now.tm_min, now.tm_sec))"
   ]
  },
  {
   "cell_type": "code",
   "execution_count": 125,
   "id": "6a555700",
   "metadata": {},
   "outputs": [
    {
     "name": "stdout",
     "output_type": "stream",
     "text": [
      "이 문장은\n",
      "2초 단위로\n",
      "출력 됩니다.\n"
     ]
    }
   ],
   "source": [
    "import time\n",
    "\n",
    "print(\"이 문장은\")\n",
    "time.sleep(2)\n",
    "print(\"2초 단위로\")\n",
    "time.sleep(2)\n",
    "print(\"출력 됩니다.\")"
   ]
  },
  {
   "cell_type": "code",
   "execution_count": 205,
   "id": "72fc1888",
   "metadata": {},
   "outputs": [
    {
     "name": "stdout",
     "output_type": "stream",
     "text": [
      "7\n",
      "7\n",
      "1\n",
      "5\n",
      "9\n",
      "8\n"
     ]
    }
   ],
   "source": [
    "import random\n",
    "\n",
    "random.seed(0)\n",
    "for i in range(6):\n",
    "    print(random.randint(1,10)) # randint(begin, end) begin~end 사이의 정수 난수를 생성"
   ]
  },
  {
   "cell_type": "code",
   "execution_count": 164,
   "id": "55fa02b5",
   "metadata": {},
   "outputs": [
    {
     "name": "stdout",
     "output_type": "stream",
     "text": [
      "['짜장면', '짬뽕', '탕수육', '군만두']\n",
      "['짜장면', '군만두', '탕수육', '짬뽕']\n"
     ]
    }
   ],
   "source": [
    "import random\n",
    "\n",
    "food = [\"짜장면\", \"짬뽕\", \"탕수육\", \"군만두\"]\n",
    "print(food)\n",
    "random.shuffle(food)\n",
    "print(food)"
   ]
  },
  {
   "cell_type": "code",
   "execution_count": 169,
   "id": "5ccec029",
   "metadata": {},
   "outputs": [
    {
     "name": "stdout",
     "output_type": "stream",
     "text": [
      "짜장면\n",
      "['짜장면', '탕수육']\n"
     ]
    }
   ],
   "source": [
    "import random\n",
    "\n",
    "food = [\"짜장면\", \"짬뽕\", \"탕수육\", \"군만두\"]\n",
    "print(random.choice(food)) #choice() : 리스트에서 임의의 요소를 하나 골라 리턴\n",
    "print(random.sample(food, 2)) #sample(list 객체, n) : 리스트 항목 중 n개를 무작위로 뽑아 새로운 리스트 생성"
   ]
  },
  {
   "cell_type": "markdown",
   "id": "07704f21",
   "metadata": {},
   "source": [
    "## [문제-17] 숫자 맞추기 게임\n",
    "\n",
    "- 1~100 사이의 난수를 맞추는 게임\n",
    "- 입력 값과 생성 값을 비교해 어떤 값이 더 큰지 힌트를 알려줌\n",
    "- 생성 값을 맞추면 시도 횟수 출력과 함께 게임을 종료\n",
    "- 0을 입력하면 게임을 종료\n"
   ]
  },
  {
   "cell_type": "code",
   "execution_count": 197,
   "id": "57bc1425",
   "metadata": {},
   "outputs": [
    {
     "name": "stdout",
     "output_type": "stream",
     "text": [
      "숫자 입력: 50\n",
      "입력 값이 더 큽니다\n",
      "숫자 입력: 30\n",
      "입력 값이 더 큽니다\n",
      "숫자 입력: 10\n",
      "입력 값이 더 작습니다\n",
      "숫자 입력: 15\n",
      "입력 값이 더 작습니다\n",
      "숫자 입력: 20\n",
      "입력 값이 더 큽니다\n",
      "숫자 입력: 18\n",
      "입력 값이 더 큽니다\n",
      "숫자 입력: 17\n",
      "입력 값이 더 큽니다\n",
      "숫자 입력: 16\n",
      "정답 / 시도횟수 : 8\n"
     ]
    }
   ],
   "source": [
    "import random\n",
    "\n",
    "for y in range(1):\n",
    "    number = random.randint(1,101)\n",
    "\n",
    "    # print(number)\n",
    "    \n",
    "big = 0\n",
    "small = 0\n",
    "cor = 0\n",
    "\n",
    "while True:\n",
    "    x = int(input(\"숫자 입력: \"))\n",
    "    \n",
    "    if x > number:\n",
    "        print(\"입력 값이 더 큽니다\")\n",
    "        big += 1\n",
    "    elif x < number:\n",
    "        print(\"입력 값이 더 작습니다\")\n",
    "        small+= 1\n",
    "    elif x == number:\n",
    "        cor += 1\n",
    "        print(\"정답 / 시도횟수 : %d\"%(big+small+total))\n",
    "    elif x == 0:\n",
    "        break\n",
    "        break"
   ]
  },
  {
   "cell_type": "code",
   "execution_count": 198,
   "id": "b532fe87",
   "metadata": {},
   "outputs": [
    {
     "name": "stdout",
     "output_type": "stream",
     "text": [
      "숫자를 입력하세요(끝내기:0)50\n",
      "입력한 숫자보다 더 큽니다.\n",
      "숫자를 입력하세요(끝내기:0)70\n",
      "입력한 숫자보다 더 큽니다.\n",
      "숫자를 입력하세요(끝내기:0)80\n",
      "입력한 숫자보다 더 큽니다.\n",
      "숫자를 입력하세요(끝내기:0)90\n",
      "입력한 숫자보다 더 작습니다.\n",
      "숫자를 입력하세요(끝내기:0)88\n",
      "입력한 숫자보다 더 작습니다.\n",
      "숫자를 입력하세요(끝내기:0)85\n",
      "입력한 숫자보다 더 작습니다.\n",
      "숫자를 입력하세요(끝내기:0)83\n",
      "입력한 숫자보다 더 작습니다.\n",
      "숫자를 입력하세요(끝내기:0)81\n",
      "입력한 숫자보다 더 큽니다.\n",
      "숫자를 입력하세요(끝내기:0)82\n",
      "9번만에 맞췄습니다.\n"
     ]
    }
   ],
   "source": [
    "# 쌤 버전\n",
    "\n",
    "import random\n",
    "\n",
    "num = random.randint(1,101)\n",
    "count = 0\n",
    "\n",
    "while True:\n",
    "    guess = int(input(\"숫자를 입력하세요(끝내기:0)\"))\n",
    "    if guess == 0 :break\n",
    "    count += 1\n",
    "    if num == guess:\n",
    "        print(\"%d번만에 맞췄습니다.\"%count)\n",
    "        break\n",
    "    elif guess > num:\n",
    "        print(\"입력한 숫자보다 더 작습니다.\")\n",
    "    else:\n",
    "        print(\"입력한 숫자보다 더 큽니다.\")"
   ]
  },
  {
   "cell_type": "markdown",
   "id": "b76b8f65",
   "metadata": {},
   "source": [
    "## [문제-18] 로또 번호 생성기\n",
    "\n",
    "- 1~46 사이의 중복되지 않은 정수 6개 뽑기\n",
    "- 결과는 오름차순으로 정렬해서 출력"
   ]
  },
  {
   "cell_type": "code",
   "execution_count": 250,
   "id": "11105148",
   "metadata": {},
   "outputs": [
    {
     "name": "stdout",
     "output_type": "stream",
     "text": [
      "[{6, 42, 46, 20, 25, 27}]\n"
     ]
    }
   ],
   "source": [
    "import random\n",
    "\n",
    "result = []\n",
    "for i in range(6):\n",
    "    result.append(random.randint(1,47))\n",
    "\n",
    "lotto = []\n",
    "lotto.append(set(result))\n",
    "\n",
    "lotto.sort()\n",
    "print(lotto)"
   ]
  },
  {
   "cell_type": "code",
   "execution_count": 251,
   "id": "8ccf27c9",
   "metadata": {},
   "outputs": [
    {
     "name": "stdout",
     "output_type": "stream",
     "text": [
      "[1, 11, 13, 22, 39, 45]\n"
     ]
    }
   ],
   "source": [
    "# 쌤 버전\n",
    "\n",
    "lotto = set() # 원소의 중복 허용 X\n",
    "\n",
    "while True:\n",
    "    lotto.add(random.randint(1, 46))\n",
    "    if len(lotto) == 6: break\n",
    "        \n",
    "print(sorted(list(lotto)))"
   ]
  },
  {
   "cell_type": "code",
   "execution_count": 253,
   "id": "c7936626",
   "metadata": {},
   "outputs": [
    {
     "name": "stdout",
     "output_type": "stream",
     "text": [
      "[3, 26, 27, 37, 44, 45]\n"
     ]
    }
   ],
   "source": [
    "import random\n",
    "\n",
    "lotto = []\n",
    "\n",
    "while True:\n",
    "    num = random.randint(1, 46)\n",
    "    if num not in lotto:\n",
    "        lotto.append(num)\n",
    "    if len(lotto) == 6: break\n",
    "        \n",
    "lotto.sort()\n",
    "print(lotto)"
   ]
  },
  {
   "cell_type": "code",
   "execution_count": 255,
   "id": "29b39153",
   "metadata": {},
   "outputs": [
    {
     "name": "stdout",
     "output_type": "stream",
     "text": [
      "[34, 32, 29, 17, 11, 5]\n"
     ]
    }
   ],
   "source": [
    "import random\n",
    "\n",
    "num_list = list(range(1,47))\n",
    "lotto = random.sample(num_list, 6)\n",
    "print(sorted(lotto, reverse=True))"
   ]
  },
  {
   "cell_type": "markdown",
   "id": "007de433",
   "metadata": {},
   "source": [
    "# I/O (입출력)"
   ]
  },
  {
   "cell_type": "code",
   "execution_count": 1,
   "id": "fbb797fd",
   "metadata": {},
   "outputs": [
    {
     "name": "stdout",
     "output_type": "stream",
     "text": [
      "End\n"
     ]
    }
   ],
   "source": [
    "f = open(\"myfile.txt\", \"w\") # 파일 쓰기\n",
    "f.close()\n",
    "\n",
    "print(\"End\")"
   ]
  },
  {
   "cell_type": "code",
   "execution_count": 2,
   "id": "526ba3df",
   "metadata": {},
   "outputs": [
    {
     "name": "stdout",
     "output_type": "stream",
     "text": [
      "End\n"
     ]
    }
   ],
   "source": [
    "f1 = open(\"myfile2.txt\", mode=\"w\", encoding=\"utf-8\") # mode 생략 가능 / 쓰고자 하는 파일에 2byte 문자가 있다면 인코딩 해줘야 함\n",
    "\n",
    "for i in range(1,11):\n",
    "    f1.write(\"값=\"+str(i)+\"\\n\")\n",
    "    \n",
    "f1.close()\n",
    "print(\"End\")"
   ]
  },
  {
   "cell_type": "code",
   "execution_count": 4,
   "id": "bb739bfa",
   "metadata": {},
   "outputs": [
    {
     "name": "stdout",
     "output_type": "stream",
     "text": [
      "[\"I heard that you're settled down\\n\", \"That you found a girl and you're married now\\n\", 'I heard that your dreams came true\\n', \"Guess she gave you things, I didn't give to you\\n\", 'Old friend, why are you so shy?\\n', \"Ain't like you to hold back or hide from the light\"]\n"
     ]
    }
   ],
   "source": [
    "f2 = open(\"song.txt\", \"r\")\n",
    "data = f2.readlines()\n",
    "print(data)"
   ]
  },
  {
   "cell_type": "code",
   "execution_count": 5,
   "id": "f9a7db16",
   "metadata": {},
   "outputs": [
    {
     "name": "stdout",
     "output_type": "stream",
     "text": [
      "I heard that you're settled down\n",
      "That you found a girl and you're married now\n",
      "I heard that your dreams came true\n",
      "Guess she gave you things, I didn't give to you\n",
      "Old friend, why are you so shy?\n",
      "Ain't like you to hold back or hide from the light"
     ]
    }
   ],
   "source": [
    "f3 = open(\"song.txt\", \"r\") # 파일 읽기\n",
    "while True:\n",
    "    line = f3.readline()\n",
    "    if not line: break # = 더이상 읽을 데이터가 없다 (null string)\n",
    "    print(line, end=\"\") \n",
    "    # print함수에는 자동 개행 기능 / 해당 파일의 각 문장 마지막에 \\n이 붙어 있기 때문에 개행이 두번 이뤄짐\n",
    "    # 따라서 end=\"\"를 추가해 하나의 자동 개행을 빼줌\n",
    "\n",
    "f3.close()"
   ]
  },
  {
   "cell_type": "code",
   "execution_count": 6,
   "id": "4877e9a2",
   "metadata": {},
   "outputs": [
    {
     "name": "stdout",
     "output_type": "stream",
     "text": [
      "End\n"
     ]
    }
   ],
   "source": [
    "f4 = open(\"song.txt\", \"a\") # 기존 파일에 덧붙임\n",
    "f4.write(\"\\n==================================\")\n",
    "f4.close()\n",
    "print(\"End\")"
   ]
  },
  {
   "cell_type": "markdown",
   "id": "79d96924",
   "metadata": {},
   "source": [
    "## [문제-19] 다음의 학생 성적 데이터를 이용해 파일에 학생수, 합계, 평균,최고점, 최하점을 기록\n",
    "\n",
    "- score={'홍길동':89, \"임꺽정\":78, \"손오공\":88, \"전우치\":90, \"저팔계\":100}"
   ]
  },
  {
   "cell_type": "code",
   "execution_count": 3,
   "id": "ea088955",
   "metadata": {},
   "outputs": [
    {
     "ename": "NameError",
     "evalue": "name 'score2' is not defined",
     "output_type": "error",
     "traceback": [
      "\u001b[1;31m---------------------------------------------------------------------------\u001b[0m",
      "\u001b[1;31mNameError\u001b[0m                                 Traceback (most recent call last)",
      "\u001b[1;32m~\\AppData\\Local\\Temp/ipykernel_12500/2481272850.py\u001b[0m in \u001b[0;36m<module>\u001b[1;34m\u001b[0m\n\u001b[0;32m      3\u001b[0m \u001b[0mScore2\u001b[0m \u001b[1;33m=\u001b[0m\u001b[1;33m{\u001b[0m\u001b[1;34m\"홍길동\"\u001b[0m\u001b[1;33m:\u001b[0m\u001b[1;36m89\u001b[0m\u001b[1;33m,\u001b[0m \u001b[1;34m\"임꺽정\"\u001b[0m\u001b[1;33m:\u001b[0m\u001b[1;36m78\u001b[0m\u001b[1;33m,\u001b[0m \u001b[1;34m\"손오공\"\u001b[0m\u001b[1;33m:\u001b[0m\u001b[1;36m88\u001b[0m\u001b[1;33m,\u001b[0m \u001b[1;34m\"전우치\"\u001b[0m\u001b[1;33m:\u001b[0m\u001b[1;36m90\u001b[0m\u001b[1;33m,\u001b[0m \u001b[1;34m\"저팔계\"\u001b[0m\u001b[1;33m:\u001b[0m\u001b[1;36m100\u001b[0m\u001b[1;33m}\u001b[0m\u001b[1;33m\u001b[0m\u001b[1;33m\u001b[0m\u001b[0m\n\u001b[0;32m      4\u001b[0m \u001b[1;33m\u001b[0m\u001b[0m\n\u001b[1;32m----> 5\u001b[1;33m \u001b[0mtotal\u001b[0m \u001b[1;33m=\u001b[0m \u001b[0msum\u001b[0m\u001b[1;33m(\u001b[0m\u001b[0mscore2\u001b[0m\u001b[1;33m.\u001b[0m\u001b[0mvalues\u001b[0m\u001b[1;33m(\u001b[0m\u001b[1;33m)\u001b[0m\u001b[1;33m)\u001b[0m\u001b[1;33m\u001b[0m\u001b[1;33m\u001b[0m\u001b[0m\n\u001b[0m\u001b[0;32m      6\u001b[0m \u001b[0mstudent\u001b[0m \u001b[1;33m=\u001b[0m \u001b[0mlen\u001b[0m\u001b[1;33m(\u001b[0m\u001b[0mscore2\u001b[0m\u001b[1;33m.\u001b[0m\u001b[0mkeys\u001b[0m\u001b[1;33m(\u001b[0m\u001b[1;33m)\u001b[0m\u001b[1;33m)\u001b[0m\u001b[1;33m\u001b[0m\u001b[1;33m\u001b[0m\u001b[0m\n\u001b[0;32m      7\u001b[0m \u001b[0mhigh\u001b[0m \u001b[1;33m=\u001b[0m \u001b[0mmax\u001b[0m\u001b[1;33m(\u001b[0m\u001b[0msum\u001b[0m\u001b[1;33m)\u001b[0m\u001b[1;33m\u001b[0m\u001b[1;33m\u001b[0m\u001b[0m\n",
      "\u001b[1;31mNameError\u001b[0m: name 'score2' is not defined"
     ]
    }
   ],
   "source": [
    "f5 = open(\"score.txt\", \"w\", encoding=\"UTF-8\")\n",
    "\n",
    "Score2 ={\"홍길동\":89, \"임꺽정\":78, \"손오공\":88, \"전우치\":90, \"저팔계\":100}\n",
    "\n",
    "total = sum(score2.values())\n",
    "student = len(score2.keys())\n",
    "high = max(sum)\n",
    "low = min(sum)\n",
    "\n",
    "print(\"학생 수: \", student)\n",
    "print(\"합계: \", total)\n",
    "print(\"최고점: \", high)\n",
    "print(\"최하점: \", low)\n",
    "\n",
    "f5.close()\n",
    "print(\"End\")"
   ]
  },
  {
   "cell_type": "code",
   "execution_count": 1,
   "id": "53ebbaf5",
   "metadata": {},
   "outputs": [
    {
     "name": "stdout",
     "output_type": "stream",
     "text": [
      "End\n"
     ]
    }
   ],
   "source": [
    "score = {'홍길동':89, '임꺽정':78, '손오공':88, '전우치':90, '저팔계':100}\n",
    "\n",
    "f = open(\"score.txt\",mode=\"w\", encoding=\"utf-8\")\n",
    "for name, s in score.items():\n",
    "    f.write(\"%s: %d점\\n\"%(name, s))\n",
    "    \n",
    "f.write(\"=====================\")\n",
    "f.write(\"학생수 :%d\\n\"%len(score))\n",
    "f.write(\"합계 :%d\\n\"%sum(score.values()))\n",
    "f.write(\"평균 :%d\\n\"%(sum(score.values())/len(score)))\n",
    "f.write(\"최고점 :%d\\n\"%max(score.values()))\n",
    "f.write(\"최하점 :%d\\n\"%min(score.values()))\n",
    "f.close()\n",
    "print(\"End\")"
   ]
  },
  {
   "cell_type": "code",
   "execution_count": 60,
   "id": "589bce85",
   "metadata": {},
   "outputs": [
    {
     "name": "stdout",
     "output_type": "stream",
     "text": [
      "at you're settled down\n",
      "That you found a girl and you're married now\n",
      "I heard that your dreams came true\n",
      "Guess she gave you things, I didn't give to you\n",
      "Old friend, why are you so shy?\n",
      "Ain't like you to hold back or hide from the light\n",
      "==================================\n"
     ]
    }
   ],
   "source": [
    "f = open(\"song.txt\", mode=\"r\")\n",
    "f.seek(10,0)\n",
    "text = f.read()\n",
    "print(text)\n",
    "f.close()"
   ]
  },
  {
   "cell_type": "code",
   "execution_count": 62,
   "id": "ae362a29",
   "metadata": {},
   "outputs": [
    {
     "name": "stdout",
     "output_type": "stream",
     "text": [
      "End\n"
     ]
    }
   ],
   "source": [
    "original = open(\"python.png\", mode=\"rb\")\n",
    "copy = open(\"copy_python.png\", mode=\"wb\")\n",
    "\n",
    "data = original.read()\n",
    "copy.write(data)\n",
    "original.close()\n",
    "copy.close()\n",
    "print(\"End\")"
   ]
  },
  {
   "cell_type": "code",
   "execution_count": 2,
   "id": "ea0f5c44",
   "metadata": {
    "scrolled": true
   },
   "outputs": [
    {
     "name": "stdout",
     "output_type": "stream",
     "text": [
      "홍길동: 89점\n",
      "임꺽정: 78점\n",
      "손오공: 88점\n",
      "전우치: 90점\n",
      "저팔계: 100점\n",
      "=====================학생수 :5\n",
      "합계 :445\n",
      "평균 :89\n",
      "최고점 :100\n",
      "최하점 :78\n",
      "\n"
     ]
    }
   ],
   "source": [
    "with open(\"score.txt\", \"r\", encoding=\"utf-8\") as p:\n",
    "    text = p.read()\n",
    "    print(text)"
   ]
  },
  {
   "cell_type": "markdown",
   "id": "bad6526f",
   "metadata": {},
   "source": [
    "# [문제-20] 학생들의 합계 평균 구하기"
   ]
  },
  {
   "cell_type": "code",
   "execution_count": 29,
   "id": "b8fe4972",
   "metadata": {},
   "outputs": [
    {
     "name": "stdout",
     "output_type": "stream",
     "text": [
      "End\n"
     ]
    }
   ],
   "source": [
    "source = open(\"score2.txt\", \"r\", encoding=\"utf-8\")\n",
    "target = open(\"result.txt\", \"w\", encoding=\"utf-8\")\n",
    "\n",
    "target.write(\"이름\\합계\\평균\\n\")\n",
    "while True:\n",
    "    score = source.readline()\n",
    "    if not score: break\n",
    "        \n",
    "    data = score.split()\n",
    "    total = int(data[1])+int(data[2])+int(data[3])\n",
    "    avg = total/ (len(data)-1)\n",
    "    target.write(\"%3s\\t%3d\\t%.2f\\n\"%(data[0], total, avg))\n",
    "    \n",
    "source.close()\n",
    "target.close()\n",
    "print(\"End\")"
   ]
  },
  {
   "cell_type": "markdown",
   "id": "e4e5ff25",
   "metadata": {},
   "source": [
    "# 예외 (Exception)"
   ]
  },
  {
   "cell_type": "code",
   "execution_count": 32,
   "id": "2cd7a93f",
   "metadata": {},
   "outputs": [
    {
     "ename": "IndexError",
     "evalue": "list index out of range",
     "output_type": "error",
     "traceback": [
      "\u001b[1;31m---------------------------------------------------------------------------\u001b[0m",
      "\u001b[1;31mIndexError\u001b[0m                                Traceback (most recent call last)",
      "\u001b[1;32m~\\AppData\\Local\\Temp/ipykernel_8256/3258709478.py\u001b[0m in \u001b[0;36m<module>\u001b[1;34m\u001b[0m\n\u001b[0;32m      1\u001b[0m \u001b[0ma\u001b[0m \u001b[1;33m=\u001b[0m \u001b[1;33m[\u001b[0m\u001b[1;36m1\u001b[0m\u001b[1;33m,\u001b[0m\u001b[1;36m2\u001b[0m\u001b[1;33m,\u001b[0m\u001b[1;36m3\u001b[0m\u001b[1;33m,\u001b[0m\u001b[1;36m4\u001b[0m\u001b[1;33m,\u001b[0m\u001b[1;36m5\u001b[0m\u001b[1;33m,\u001b[0m\u001b[1;33m]\u001b[0m\u001b[1;33m\u001b[0m\u001b[1;33m\u001b[0m\u001b[0m\n\u001b[1;32m----> 2\u001b[1;33m \u001b[0mprint\u001b[0m\u001b[1;33m(\u001b[0m\u001b[0ma\u001b[0m\u001b[1;33m[\u001b[0m\u001b[1;36m5\u001b[0m\u001b[1;33m]\u001b[0m\u001b[1;33m)\u001b[0m \u001b[1;31m#index Error 발생\u001b[0m\u001b[1;33m\u001b[0m\u001b[1;33m\u001b[0m\u001b[0m\n\u001b[0m\u001b[0;32m      3\u001b[0m \u001b[1;33m\u001b[0m\u001b[0m\n\u001b[0;32m      4\u001b[0m \u001b[0mb\u001b[0m \u001b[1;33m=\u001b[0m \u001b[1;34m\"123b\"\u001b[0m\u001b[1;33m\u001b[0m\u001b[1;33m\u001b[0m\u001b[0m\n\u001b[0;32m      5\u001b[0m \u001b[1;31m# c = int(b) # Value Error 발생\u001b[0m\u001b[1;33m\u001b[0m\u001b[1;33m\u001b[0m\u001b[0m\n",
      "\u001b[1;31mIndexError\u001b[0m: list index out of range"
     ]
    }
   ],
   "source": [
    "a = [1,2,3,4,5,]\n",
    "print(a[5]) #index Error 발생\n",
    "\n",
    "b = \"123b\"\n",
    "# c = int(b) # Value Error 발생\n",
    "\n",
    "# f = open(\"notexists.txt\", \"r\") # FileNotFoundError 발생\n",
    "\n",
    "# data = 10 / 0 # ZeroDivisionError 발생"
   ]
  },
  {
   "cell_type": "code",
   "execution_count": 35,
   "id": "664d63cf",
   "metadata": {},
   "outputs": [
    {
     "name": "stdout",
     "output_type": "stream",
     "text": [
      "0으로 나눌수 없습니다.\n",
      "division by zero\n",
      "End\n"
     ]
    }
   ],
   "source": [
    "try:\n",
    "    data = 10/0\n",
    "except ZeroDivisionError as e:\n",
    "    print(\"0으로 나눌수 없습니다.\")\n",
    "    print(e)\n",
    "    \n",
    "print(\"End\")"
   ]
  },
  {
   "cell_type": "code",
   "execution_count": 43,
   "id": "b6086b9c",
   "metadata": {},
   "outputs": [
    {
     "name": "stdout",
     "output_type": "stream",
     "text": [
      "리스트의 범위를 벗어났습니다.\n",
      "항상 실행되는 코드\n",
      "End\n"
     ]
    }
   ],
   "source": [
    "try:\n",
    "    a=[1,2,3]\n",
    "    print(a[3])\n",
    "    print(10/0)\n",
    "except ZeroDivisionError:\n",
    "    print(\"0으로 나눌 수 없습니다.\")\n",
    "except IndexError:\n",
    "    print(\"리스트의 범위를 벗어났습니다.\")\n",
    "    \n",
    "# indexError 부분에서 먼저 에러 발생했기 때문에 10/0에러는 표시 안됨"
   ]
  },
  {
   "cell_type": "code",
   "execution_count": 42,
   "id": "f40e7b43",
   "metadata": {},
   "outputs": [
    {
     "name": "stdout",
     "output_type": "stream",
     "text": [
      "리스트의 범위를 벗어났습니다.\n",
      "항상 실행되는 코드\n",
      "End\n"
     ]
    }
   ],
   "source": [
    "try:\n",
    "    a = [1,2,3]\n",
    "    print(a[3])\n",
    "except IndexError:\n",
    "    print(\"리스트의 범위를 벗어났습니다.\")\n",
    "finally:\n",
    "    print(\"항상 실행되는 코드\")\n",
    "print(\"End\")"
   ]
  },
  {
   "cell_type": "markdown",
   "id": "e90baf19",
   "metadata": {},
   "source": [
    "# Class"
   ]
  },
  {
   "cell_type": "markdown",
   "id": "6477903b",
   "metadata": {},
   "source": [
    "## 클래스 생성"
   ]
  },
  {
   "cell_type": "code",
   "execution_count": 46,
   "id": "5b9aa306",
   "metadata": {},
   "outputs": [
    {
     "name": "stdout",
     "output_type": "stream",
     "text": [
      "계좌번호:11-11, 소유주:홍길동\n",
      "500\n",
      "계좌번호:11-12, 소유주:임꺽정\n"
     ]
    }
   ],
   "source": [
    "# Account 클래스 생성\n",
    "class Account:\n",
    "    # Account 클래스의 속성을 특정 값으로 초기화 하기 위한 생성자\n",
    "    def __init__(self, accNo, balance, owner):\n",
    "        self.accNo = accNo #self.accNo = 멤버 변수의 선언과 동일한 표현\n",
    "        self.balance = balance\n",
    "        self.owner =owner\n",
    "        \n",
    "    def getBalance(self): # 클래스의 멤버 변수를 참조하기 위해 self를 매개변수로 사용\n",
    "        return self.balance\n",
    "    \n",
    "    def accountInfo(self):\n",
    "        print(\"계좌번호:%s, 소유주:%s\"%(self.accNo, self.owner))\n",
    "\n",
    "# Account 클래스의 객체 생성\n",
    "a1 = Account(\"11-11\", 500, \"홍길동\")\n",
    "a1.accountInfo()\n",
    "print(a1.getBalance())\n",
    "\n",
    "a2 = Account(\"11-12\", 100, \"임꺽정\")\n",
    "a2.accountInfo()"
   ]
  },
  {
   "cell_type": "markdown",
   "id": "7df92a05",
   "metadata": {},
   "source": [
    "## 상속"
   ]
  },
  {
   "cell_type": "code",
   "execution_count": 50,
   "id": "cdc2aa1f",
   "metadata": {},
   "outputs": [
    {
     "name": "stdout",
     "output_type": "stream",
     "text": [
      "저는 29살 김철수입니다\n"
     ]
    }
   ],
   "source": [
    "class Human:\n",
    "    def __init__(self, name, age):\n",
    "        self.name = name\n",
    "        self.age = age\n",
    "        \n",
    "    def intro(self):\n",
    "        print(\"저는 %d살 %s입니다\"%(self.age, self.name))\n",
    "\n",
    "kim = Human(\"김철수\", 29)\n",
    "kim.intro()"
   ]
  },
  {
   "cell_type": "code",
   "execution_count": 70,
   "id": "cc859724",
   "metadata": {},
   "outputs": [
    {
     "name": "stdout",
     "output_type": "stream",
     "text": [
      "저는 29살 김철수입니다\n",
      "학번은 2022 입니다\n",
      "Study hard~!!\n"
     ]
    }
   ],
   "source": [
    "class Student(Human):\n",
    "    def __init__(self, name, age, stdNo):\n",
    "        super().__init__(name, age)# 부모 클래스의 생성자 호출 (이름과 나이는 부모(Human)의 속성이기 때문에 super 키워드 사용)\n",
    "        self.stdNo = stdNo\n",
    "        \n",
    "    def intro(self):\n",
    "        super().intro() #부모 클래스의 intro 함수 사용\n",
    "        print(\"학번은 %s 입니다\"%self.stdNo)\n",
    "\n",
    "    def study(self):\n",
    "        print(\"Study hard~!!\")\n",
    "        \n",
    "kim = Student(\"김철수\", 29, \"2022\")\n",
    "kim.intro()\n",
    "kim.study()"
   ]
  },
  {
   "cell_type": "markdown",
   "id": "0c5795b3",
   "metadata": {},
   "source": [
    "## 은닉"
   ]
  },
  {
   "cell_type": "code",
   "execution_count": 59,
   "id": "19afb760",
   "metadata": {},
   "outputs": [
    {
     "name": "stdout",
     "output_type": "stream",
     "text": [
      "getMonth() call\n",
      "7\n",
      "setMonth() call\n",
      "getMonth() call\n",
      "7\n"
     ]
    }
   ],
   "source": [
    "# property를 이용한 setter와 getter\n",
    "\n",
    "class Date:\n",
    "    def __init__(self, month):\n",
    "        #가급적 멤버 변수의 이름을 어렵게 작성\n",
    "        self._inner_month = month\n",
    "    \n",
    "    def getMonth(self):\n",
    "        print(\"getMonth() call\")\n",
    "        return self._inner_month\n",
    "    \n",
    "    def setMonth(self, month):\n",
    "        if 1<= month <=12:\n",
    "            self._inner_month = month\n",
    "        print(\"setMonth() call\")\n",
    "        \n",
    "    month = property(getMonth, setMonth) #property = month / 값을 읽을 때 getMonth / 값 수정할때 setMonth를 호출\n",
    "    \n",
    "today = Date(7)\n",
    "print(today.month)\n",
    "today.month = 15\n",
    "print(today.month)"
   ]
  },
  {
   "cell_type": "code",
   "execution_count": 68,
   "id": "a4c55533",
   "metadata": {},
   "outputs": [
    {
     "name": "stdout",
     "output_type": "stream",
     "text": [
      "setMethod() call\n",
      "getMethod() call\n",
      "8\n"
     ]
    }
   ],
   "source": [
    "class Date:\n",
    "    def __init__(self,month):\n",
    "        self._inner_month = month\n",
    "     \n",
    "    @property\n",
    "    def month(self):\n",
    "        print(\"getMethod() call\")\n",
    "        return self._inner_month\n",
    "    \n",
    "    @month.setter\n",
    "    def month(self, month):\n",
    "        if 1<=month<=12:\n",
    "            self._inner_month = month\n",
    "        print(\"setMethod() call\")\n",
    "        \n",
    "today = Date(8)\n",
    "today.month = 15\n",
    "print(today.month)"
   ]
  }
 ],
 "metadata": {
  "kernelspec": {
   "display_name": "Python 3 (ipykernel)",
   "language": "python",
   "name": "python3"
  },
  "language_info": {
   "codemirror_mode": {
    "name": "ipython",
    "version": 3
   },
   "file_extension": ".py",
   "mimetype": "text/x-python",
   "name": "python",
   "nbconvert_exporter": "python",
   "pygments_lexer": "ipython3",
   "version": "3.9.7"
  },
  "toc": {
   "base_numbering": 1,
   "nav_menu": {},
   "number_sections": true,
   "sideBar": true,
   "skip_h1_title": false,
   "title_cell": "Table of Contents",
   "title_sidebar": "Contents",
   "toc_cell": false,
   "toc_position": {},
   "toc_section_display": true,
   "toc_window_display": true
  }
 },
 "nbformat": 4,
 "nbformat_minor": 5
}
